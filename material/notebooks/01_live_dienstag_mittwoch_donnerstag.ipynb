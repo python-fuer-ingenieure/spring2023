{
 "cells": [
  {
   "cell_type": "code",
   "execution_count": 1,
   "id": "38519d4b",
   "metadata": {},
   "outputs": [],
   "source": [
    "# so sieht ein Fehler aus:\n",
    "\n",
    "# 1/0"
   ]
  },
  {
   "cell_type": "code",
   "execution_count": 2,
   "id": "56b334b7",
   "metadata": {},
   "outputs": [],
   "source": [
    "# pip install ipydex\n",
    "%load_ext ipydex.displaytools"
   ]
  },
  {
   "cell_type": "code",
   "execution_count": 3,
   "id": "84810609",
   "metadata": {},
   "outputs": [
    {
     "data": {
      "text/plain": [
       "(type(x)) := int"
      ]
     },
     "metadata": {},
     "output_type": "display_data"
    },
    {
     "data": {
      "text/plain": [
       "---"
      ]
     },
     "metadata": {},
     "output_type": "display_data"
    },
    {
     "data": {
      "text/plain": [
       "(type(x)) := float"
      ]
     },
     "metadata": {},
     "output_type": "display_data"
    },
    {
     "data": {
      "text/plain": [
       "---"
      ]
     },
     "metadata": {},
     "output_type": "display_data"
    },
    {
     "data": {
      "text/plain": [
       "(type(x)) := complex"
      ]
     },
     "metadata": {},
     "output_type": "display_data"
    },
    {
     "data": {
      "text/plain": [
       "---"
      ]
     },
     "metadata": {},
     "output_type": "display_data"
    }
   ],
   "source": [
    "x = 1\n",
    "type(x) ##:\n",
    "\n",
    "x = 1.0\n",
    "type(x) ##:\n",
    "\n",
    "x = 1.0 + 3j\n",
    "type(x) ##:"
   ]
  },
  {
   "cell_type": "code",
   "execution_count": 4,
   "id": "fc5437f6",
   "metadata": {},
   "outputs": [
    {
     "data": {
      "text/plain": [
       "y := (4+3j)"
      ]
     },
     "metadata": {},
     "output_type": "display_data"
    },
    {
     "data": {
      "text/plain": [
       "---"
      ]
     },
     "metadata": {},
     "output_type": "display_data"
    }
   ],
   "source": [
    "y = x + 3 ##:"
   ]
  },
  {
   "cell_type": "code",
   "execution_count": 5,
   "id": "d8259689",
   "metadata": {},
   "outputs": [
    {
     "data": {
      "text/plain": [
       "z := (5, 9)"
      ]
     },
     "metadata": {},
     "output_type": "display_data"
    },
    {
     "data": {
      "text/plain": [
       "---"
      ]
     },
     "metadata": {},
     "output_type": "display_data"
    },
    {
     "data": {
      "text/plain": [
       "tuple"
      ]
     },
     "execution_count": 5,
     "metadata": {},
     "output_type": "execute_result"
    }
   ],
   "source": [
    "z = 5,9 ##:\n",
    "\n",
    "type(z)"
   ]
  },
  {
   "cell_type": "markdown",
   "id": "0d096a41",
   "metadata": {},
   "source": [
    "Erkenntnis: Gleit**komma**zaheln mit `.` als Dezimaltrennzeichen!"
   ]
  },
  {
   "cell_type": "code",
   "execution_count": 6,
   "id": "f7ff3d64",
   "metadata": {},
   "outputs": [
    {
     "data": {
      "text/plain": [
       "25"
      ]
     },
     "execution_count": 6,
     "metadata": {},
     "output_type": "execute_result"
    }
   ],
   "source": [
    "# potenzieren\n",
    "5**2"
   ]
  },
  {
   "cell_type": "code",
   "execution_count": 7,
   "id": "c6c30b4a",
   "metadata": {},
   "outputs": [
    {
     "data": {
      "text/plain": [
       "3.0"
      ]
     },
     "execution_count": 7,
     "metadata": {},
     "output_type": "execute_result"
    }
   ],
   "source": [
    "9**0.5"
   ]
  },
  {
   "cell_type": "code",
   "execution_count": 8,
   "id": "4bbb1978",
   "metadata": {},
   "outputs": [
    {
     "data": {
      "text/plain": [
       "((-9)**0.5) := (1.8369701987210297e-16+3j)"
      ]
     },
     "metadata": {},
     "output_type": "display_data"
    },
    {
     "data": {
      "text/plain": [
       "---"
      ]
     },
     "metadata": {},
     "output_type": "display_data"
    }
   ],
   "source": [
    "(-9)**0.5 ##:"
   ]
  },
  {
   "cell_type": "markdown",
   "id": "07cc2692",
   "metadata": {},
   "source": [
    "`1.8369701987210297e-16` bedeutet `1.8369701987210297 * 10**-16` also $1.8369701987210297 \\cdot 10^{-16}$\n",
    "\n",
    "Das ist praktisch $0$. Hintergrund ist die endliche Darstellungsgenauigkeit von Gleitkommazahlen."
   ]
  },
  {
   "cell_type": "code",
   "execution_count": 9,
   "id": "8e6bddf9",
   "metadata": {},
   "outputs": [
    {
     "data": {
      "text/plain": [
       "z := (-9+0j)"
      ]
     },
     "metadata": {},
     "output_type": "display_data"
    },
    {
     "data": {
      "text/plain": [
       "---"
      ]
     },
     "metadata": {},
     "output_type": "display_data"
    },
    {
     "data": {
      "text/plain": [
       "real_part := -9.0"
      ]
     },
     "metadata": {},
     "output_type": "display_data"
    },
    {
     "data": {
      "text/plain": [
       "---"
      ]
     },
     "metadata": {},
     "output_type": "display_data"
    },
    {
     "data": {
      "text/plain": [
       "(z.conjugate()) := (-9-0j)"
      ]
     },
     "metadata": {},
     "output_type": "display_data"
    },
    {
     "data": {
      "text/plain": [
       "---"
      ]
     },
     "metadata": {},
     "output_type": "display_data"
    }
   ],
   "source": [
    "z = (3j)**2 ##:\n",
    "\n",
    "real_part = z.real ##:\n",
    "\n",
    "z.conjugate() ##:"
   ]
  },
  {
   "cell_type": "markdown",
   "id": "e2d610a9",
   "metadata": {},
   "source": [
    "# Pause bis 11:00"
   ]
  },
  {
   "cell_type": "code",
   "execution_count": 10,
   "id": "bd06f6d5",
   "metadata": {},
   "outputs": [
    {
     "data": {
      "text/plain": [
       "(5e-3) := 0.005"
      ]
     },
     "metadata": {},
     "output_type": "display_data"
    },
    {
     "data": {
      "text/plain": [
       "---"
      ]
     },
     "metadata": {},
     "output_type": "display_data"
    },
    {
     "data": {
      "text/plain": [
       "(5e3) := 5000.0"
      ]
     },
     "metadata": {},
     "output_type": "display_data"
    },
    {
     "data": {
      "text/plain": [
       "---"
      ]
     },
     "metadata": {},
     "output_type": "display_data"
    }
   ],
   "source": [
    "5e-3 ##:\n",
    "\n",
    "5e3 ##:"
   ]
  },
  {
   "cell_type": "code",
   "execution_count": 11,
   "id": "b8b0b6d6",
   "metadata": {},
   "outputs": [],
   "source": [
    "x = None\n",
    "\n",
    "# `None` erzeugt keine Ausgabe im Notebook\n",
    "x"
   ]
  },
  {
   "cell_type": "code",
   "execution_count": 12,
   "id": "30ca1caa",
   "metadata": {},
   "outputs": [],
   "source": [
    "# Beide Funktionen sind äquivalent\n",
    "\n",
    "def f1():\n",
    "    \"Funktion die nicht macht\"\n",
    "    pass\n",
    "\n",
    "def f2():\n",
    "    \"Funktion die nicht macht\"\n",
    "    return None\n",
    "\n"
   ]
  },
  {
   "cell_type": "code",
   "execution_count": 13,
   "id": "c2142a5c",
   "metadata": {},
   "outputs": [
    {
     "data": {
      "text/plain": [
       "y1 := None"
      ]
     },
     "metadata": {},
     "output_type": "display_data"
    },
    {
     "data": {
      "text/plain": [
       "---"
      ]
     },
     "metadata": {},
     "output_type": "display_data"
    },
    {
     "data": {
      "text/plain": [
       "y2 := None"
      ]
     },
     "metadata": {},
     "output_type": "display_data"
    },
    {
     "data": {
      "text/plain": [
       "---"
      ]
     },
     "metadata": {},
     "output_type": "display_data"
    }
   ],
   "source": [
    "y1 = f1() ##:\n",
    "\n",
    "y2 = f2() ##:"
   ]
  },
  {
   "cell_type": "code",
   "execution_count": 14,
   "id": "f2eb8520",
   "metadata": {},
   "outputs": [
    {
     "name": "stdout",
     "output_type": "stream",
     "text": [
      "nicht leer\n"
     ]
    }
   ],
   "source": [
    "# False-Value von z.B. Listen\n",
    "\n",
    "L = [10, 20, 30]\n",
    "\n",
    "if L:\n",
    "    print(\"nicht leer\")\n",
    "else:\n",
    "    print(\"leer\")"
   ]
  },
  {
   "cell_type": "code",
   "execution_count": 15,
   "id": "7b1b9267",
   "metadata": {},
   "outputs": [
    {
     "data": {
      "text/plain": [
       "(L) := []"
      ]
     },
     "metadata": {},
     "output_type": "display_data"
    },
    {
     "data": {
      "text/plain": [
       "---"
      ]
     },
     "metadata": {},
     "output_type": "display_data"
    },
    {
     "name": "stdout",
     "output_type": "stream",
     "text": [
      "leer\n"
     ]
    }
   ],
   "source": [
    "L = [10, 20, 30]\n",
    "\n",
    "L.pop()\n",
    "\n",
    "L.pop()\n",
    "\n",
    "L.pop()\n",
    "\n",
    "L ##:\n",
    "\n",
    "if L:\n",
    "    print(\"nicht leer\")\n",
    "else:\n",
    "    print(\"leer\")"
   ]
  },
  {
   "cell_type": "code",
   "execution_count": 16,
   "id": "e594929e",
   "metadata": {},
   "outputs": [
    {
     "data": {
      "text/plain": [
       "(L) := [12]"
      ]
     },
     "metadata": {},
     "output_type": "display_data"
    },
    {
     "data": {
      "text/plain": [
       "---"
      ]
     },
     "metadata": {},
     "output_type": "display_data"
    },
    {
     "data": {
      "text/plain": [
       "s := 'xyz 21'"
      ]
     },
     "metadata": {},
     "output_type": "display_data"
    },
    {
     "data": {
      "text/plain": [
       "---"
      ]
     },
     "metadata": {},
     "output_type": "display_data"
    }
   ],
   "source": [
    "# Wenn diese Zelle mehrfach ausgeführt wird, ändert sich das Ergebnis (nicht idempoten)\n",
    "L.append(12)\n",
    "L ##:\n",
    "s = f\"xyz {len(L)+ 20}\" ##:"
   ]
  },
  {
   "cell_type": "markdown",
   "id": "decb09f1",
   "metadata": {},
   "source": [
    "### String Formatierung etc"
   ]
  },
  {
   "cell_type": "code",
   "execution_count": 17,
   "id": "bc377b42",
   "metadata": {},
   "outputs": [
    {
     "data": {
      "text/plain": [
       "(f'{x}') := '12.345678'"
      ]
     },
     "metadata": {},
     "output_type": "display_data"
    },
    {
     "data": {
      "text/plain": [
       "---"
      ]
     },
     "metadata": {},
     "output_type": "display_data"
    },
    {
     "data": {
      "text/plain": [
       "(f'{x:4.1f}') := '12.3'"
      ]
     },
     "metadata": {},
     "output_type": "display_data"
    },
    {
     "data": {
      "text/plain": [
       "---"
      ]
     },
     "metadata": {},
     "output_type": "display_data"
    },
    {
     "data": {
      "text/plain": [
       "(f'{x:05.1f}') := '012.3'"
      ]
     },
     "metadata": {},
     "output_type": "display_data"
    },
    {
     "data": {
      "text/plain": [
       "---"
      ]
     },
     "metadata": {},
     "output_type": "display_data"
    },
    {
     "data": {
      "text/plain": [
       "(f'{x:4.3f}') := '12.346'"
      ]
     },
     "metadata": {},
     "output_type": "display_data"
    },
    {
     "data": {
      "text/plain": [
       "---"
      ]
     },
     "metadata": {},
     "output_type": "display_data"
    }
   ],
   "source": [
    "\n",
    "x = 12.345678\n",
    "f'{x}'  ##:\n",
    "f'{x:4.1f}'  ##:\n",
    "f'{x:05.1f}'  ##:\n",
    "f'{x:4.3f}'  ##:"
   ]
  },
  {
   "cell_type": "markdown",
   "id": "db1be4c8",
   "metadata": {},
   "source": [
    "siehe auch:\n",
    "\n",
    "- https://docs.python.org/3/tutorial/inputoutput.html\n",
    "- https://docs.python.org/3/reference/lexical_analysis.html#f-strings"
   ]
  },
  {
   "cell_type": "code",
   "execution_count": 18,
   "id": "33656b61",
   "metadata": {},
   "outputs": [
    {
     "data": {
      "text/plain": [
       "(f'{x=}') := 'x=12.345678'"
      ]
     },
     "metadata": {},
     "output_type": "display_data"
    },
    {
     "data": {
      "text/plain": [
       "---"
      ]
     },
     "metadata": {},
     "output_type": "display_data"
    }
   ],
   "source": [
    "f'{x=}'  ##:"
   ]
  },
  {
   "cell_type": "code",
   "execution_count": 19,
   "id": "f487a880",
   "metadata": {},
   "outputs": [
    {
     "data": {
      "text/plain": [
       "s2 := 'Hallo SPRING'"
      ]
     },
     "metadata": {},
     "output_type": "display_data"
    },
    {
     "data": {
      "text/plain": [
       "---"
      ]
     },
     "metadata": {},
     "output_type": "display_data"
    },
    {
     "data": {
      "text/plain": [
       "(s) := 'Hallo Welt'"
      ]
     },
     "metadata": {},
     "output_type": "display_data"
    },
    {
     "data": {
      "text/plain": [
       "---"
      ]
     },
     "metadata": {},
     "output_type": "display_data"
    }
   ],
   "source": [
    "s = \"Hallo Welt\"\n",
    "\n",
    "# diese Methode gibt einen neuen String zurück\n",
    "s2 = s.replace(\"Welt\", \"SPRING\") ##:\n",
    "\n",
    "s ##:"
   ]
  },
  {
   "cell_type": "code",
   "execution_count": 20,
   "id": "fceb2348",
   "metadata": {},
   "outputs": [
    {
     "data": {
      "text/plain": [
       "(s.startswith('Ha')) := True"
      ]
     },
     "metadata": {},
     "output_type": "display_data"
    },
    {
     "data": {
      "text/plain": [
       "---"
      ]
     },
     "metadata": {},
     "output_type": "display_data"
    },
    {
     "data": {
      "text/plain": [
       "(s.startswith('ha')) := False"
      ]
     },
     "metadata": {},
     "output_type": "display_data"
    },
    {
     "data": {
      "text/plain": [
       "---"
      ]
     },
     "metadata": {},
     "output_type": "display_data"
    }
   ],
   "source": [
    "s.startswith('Ha') ##:\n",
    "s.startswith('ha') ##:"
   ]
  },
  {
   "cell_type": "markdown",
   "id": "3eb9115b",
   "metadata": {},
   "source": [
    "## Listen"
   ]
  },
  {
   "cell_type": "code",
   "execution_count": 21,
   "id": "2d31f07c",
   "metadata": {},
   "outputs": [
    {
     "data": {
      "text/plain": [
       "10"
      ]
     },
     "execution_count": 21,
     "metadata": {},
     "output_type": "execute_result"
    }
   ],
   "source": [
    "L = [10, 11, 12, 10.5]\n",
    "\n",
    "L[0]"
   ]
  },
  {
   "cell_type": "code",
   "execution_count": 22,
   "id": "bc714be4",
   "metadata": {},
   "outputs": [
    {
     "data": {
      "text/plain": [
       "(L) := [10.5, 12, 11, 10]"
      ]
     },
     "metadata": {},
     "output_type": "display_data"
    },
    {
     "data": {
      "text/plain": [
       "---"
      ]
     },
     "metadata": {},
     "output_type": "display_data"
    }
   ],
   "source": [
    "# gibt nicht zurück, sondern wirkt auf L selber\n",
    "L.reverse()\n",
    "L ##:"
   ]
  },
  {
   "cell_type": "code",
   "execution_count": 23,
   "id": "aea77ee8",
   "metadata": {},
   "outputs": [
    {
     "data": {
      "text/plain": [
       "(L) := [10, 10.5, 11, 12]"
      ]
     },
     "metadata": {},
     "output_type": "display_data"
    },
    {
     "data": {
      "text/plain": [
       "---"
      ]
     },
     "metadata": {},
     "output_type": "display_data"
    },
    {
     "data": {
      "text/plain": [
       "(L) := [12, 11, 10.5, 10]"
      ]
     },
     "metadata": {},
     "output_type": "display_data"
    },
    {
     "data": {
      "text/plain": [
       "---"
      ]
     },
     "metadata": {},
     "output_type": "display_data"
    }
   ],
   "source": [
    "# Beispiel für idempotente Operation\n",
    "L.sort()\n",
    "L ##:\n",
    "\n",
    "\n",
    "# Beispiel für Methode, die ein optinales Argument akzeptiert (\"Schlüsswortargument\")\n",
    "L.sort(reverse=True)\n",
    "L ##:"
   ]
  },
  {
   "cell_type": "markdown",
   "id": "7abd067f",
   "metadata": {},
   "source": [
    "## Tupel"
   ]
  },
  {
   "cell_type": "code",
   "execution_count": 24,
   "id": "8ee1011f",
   "metadata": {},
   "outputs": [
    {
     "data": {
      "text/plain": [
       "t := (12, 11, 10.5, 10)"
      ]
     },
     "metadata": {},
     "output_type": "display_data"
    },
    {
     "data": {
      "text/plain": [
       "---"
      ]
     },
     "metadata": {},
     "output_type": "display_data"
    }
   ],
   "source": [
    "t = tuple(L) ##:"
   ]
  },
  {
   "cell_type": "code",
   "execution_count": 25,
   "id": "45e55862",
   "metadata": {},
   "outputs": [
    {
     "data": {
      "text/plain": [
       "(t.count(12)) := 1"
      ]
     },
     "metadata": {},
     "output_type": "display_data"
    },
    {
     "data": {
      "text/plain": [
       "---"
      ]
     },
     "metadata": {},
     "output_type": "display_data"
    },
    {
     "data": {
      "text/plain": [
       "(t.count(13)) := 0"
      ]
     },
     "metadata": {},
     "output_type": "display_data"
    },
    {
     "data": {
      "text/plain": [
       "---"
      ]
     },
     "metadata": {},
     "output_type": "display_data"
    }
   ],
   "source": [
    "t.count(12) ##:\n",
    "\n",
    "t.count(13) ##:"
   ]
  },
  {
   "cell_type": "code",
   "execution_count": 26,
   "id": "5fed5f8b",
   "metadata": {},
   "outputs": [
    {
     "data": {
      "text/plain": [
       "L2 := [12, 11, 10.5, 10]"
      ]
     },
     "metadata": {},
     "output_type": "display_data"
    },
    {
     "data": {
      "text/plain": [
       "---"
      ]
     },
     "metadata": {},
     "output_type": "display_data"
    }
   ],
   "source": [
    "L2 = list(t) ##:"
   ]
  },
  {
   "cell_type": "code",
   "execution_count": 27,
   "id": "c945ee8c",
   "metadata": {},
   "outputs": [
    {
     "data": {
      "text/plain": [
       "z := (2, 4, 8, 16)"
      ]
     },
     "metadata": {},
     "output_type": "display_data"
    },
    {
     "data": {
      "text/plain": [
       "---"
      ]
     },
     "metadata": {},
     "output_type": "display_data"
    }
   ],
   "source": [
    "# diese Funktion gibt ein Tupel zurück\n",
    "def f(x):\n",
    "    return x, x**2, x**3, x**4\n",
    "\n",
    "z = f(2) ##:"
   ]
  },
  {
   "cell_type": "code",
   "execution_count": 28,
   "id": "2b786dac",
   "metadata": {},
   "outputs": [
    {
     "data": {
      "text/plain": [
       "t := 10"
      ]
     },
     "metadata": {},
     "output_type": "display_data"
    },
    {
     "data": {
      "text/plain": [
       "---"
      ]
     },
     "metadata": {},
     "output_type": "display_data"
    },
    {
     "data": {
      "text/plain": [
       "(type(t)) := int"
      ]
     },
     "metadata": {},
     "output_type": "display_data"
    },
    {
     "data": {
      "text/plain": [
       "---"
      ]
     },
     "metadata": {},
     "output_type": "display_data"
    },
    {
     "data": {
      "text/plain": [
       "(type(t)) := tuple"
      ]
     },
     "metadata": {},
     "output_type": "display_data"
    },
    {
     "data": {
      "text/plain": [
       "---"
      ]
     },
     "metadata": {},
     "output_type": "display_data"
    }
   ],
   "source": [
    "# Tupel der Länge 1:\n",
    "\n",
    "# so NICHT\n",
    "t = (10) ##:\n",
    "\n",
    "type(t) ##:\n",
    "\n",
    "# sondern so\n",
    "t = (10,)\n",
    "\n",
    "type(t) ##:"
   ]
  },
  {
   "cell_type": "markdown",
   "id": "93a9cfb1",
   "metadata": {},
   "source": [
    "# Sequentielle Datentypen"
   ]
  },
  {
   "cell_type": "code",
   "execution_count": 29,
   "id": "2e839bec",
   "metadata": {},
   "outputs": [
    {
     "data": {
      "text/plain": [
       "(L) := [12, 11, 10.5, 10]"
      ]
     },
     "metadata": {},
     "output_type": "display_data"
    },
    {
     "data": {
      "text/plain": [
       "---"
      ]
     },
     "metadata": {},
     "output_type": "display_data"
    },
    {
     "data": {
      "text/plain": [
       "(L * 2) := [12, 11, 10.5, 10, 12, 11, 10.5, 10]"
      ]
     },
     "metadata": {},
     "output_type": "display_data"
    },
    {
     "data": {
      "text/plain": [
       "---"
      ]
     },
     "metadata": {},
     "output_type": "display_data"
    },
    {
     "data": {
      "text/plain": [
       "r10 := True"
      ]
     },
     "metadata": {},
     "output_type": "display_data"
    },
    {
     "data": {
      "text/plain": [
       "---"
      ]
     },
     "metadata": {},
     "output_type": "display_data"
    },
    {
     "data": {
      "text/plain": [
       "r20 := True"
      ]
     },
     "metadata": {},
     "output_type": "display_data"
    },
    {
     "data": {
      "text/plain": [
       "---"
      ]
     },
     "metadata": {},
     "output_type": "display_data"
    }
   ],
   "source": [
    "L ##:\n",
    "L * 2 ##:\n",
    "\n",
    "# ist 10 in L?\n",
    "r10 = 10 in L ##:\n",
    "\n",
    "r20 = 20 not in L ##:"
   ]
  },
  {
   "cell_type": "code",
   "execution_count": 30,
   "id": "3c810f6e",
   "metadata": {},
   "outputs": [
    {
     "data": {
      "text/plain": [
       "L2 := [12, 11, 10.5]"
      ]
     },
     "metadata": {},
     "output_type": "display_data"
    },
    {
     "data": {
      "text/plain": [
       "---"
      ]
     },
     "metadata": {},
     "output_type": "display_data"
    },
    {
     "data": {
      "text/plain": [
       "(a) := 12"
      ]
     },
     "metadata": {},
     "output_type": "display_data"
    },
    {
     "data": {
      "text/plain": [
       "---"
      ]
     },
     "metadata": {},
     "output_type": "display_data"
    },
    {
     "data": {
      "text/plain": [
       "(b) := 11"
      ]
     },
     "metadata": {},
     "output_type": "display_data"
    },
    {
     "data": {
      "text/plain": [
       "---"
      ]
     },
     "metadata": {},
     "output_type": "display_data"
    },
    {
     "data": {
      "text/plain": [
       "(c) := 10.5"
      ]
     },
     "metadata": {},
     "output_type": "display_data"
    },
    {
     "data": {
      "text/plain": [
       "---"
      ]
     },
     "metadata": {},
     "output_type": "display_data"
    }
   ],
   "source": [
    "L2 = L[:3] ##:\n",
    "\n",
    "# Syntax zum Entpacken einer Sequenz\n",
    "a, b, c = L2\n",
    "\n",
    "a ##:\n",
    "b ##:\n",
    "c ##:"
   ]
  },
  {
   "cell_type": "code",
   "execution_count": 31,
   "id": "35c1dc1d",
   "metadata": {},
   "outputs": [
    {
     "data": {
      "text/plain": [
       "(a) := 3"
      ]
     },
     "metadata": {},
     "output_type": "display_data"
    },
    {
     "data": {
      "text/plain": [
       "---"
      ]
     },
     "metadata": {},
     "output_type": "display_data"
    },
    {
     "data": {
      "text/plain": [
       "(b) := 9"
      ]
     },
     "metadata": {},
     "output_type": "display_data"
    },
    {
     "data": {
      "text/plain": [
       "---"
      ]
     },
     "metadata": {},
     "output_type": "display_data"
    },
    {
     "data": {
      "text/plain": [
       "(d) := 81"
      ]
     },
     "metadata": {},
     "output_type": "display_data"
    },
    {
     "data": {
      "text/plain": [
       "---"
      ]
     },
     "metadata": {},
     "output_type": "display_data"
    }
   ],
   "source": [
    "a, b, c, d = f(3)\n",
    "\n",
    "a ##:\n",
    "b ##:\n",
    "d ##:"
   ]
  },
  {
   "cell_type": "code",
   "execution_count": 32,
   "id": "85b47532",
   "metadata": {},
   "outputs": [],
   "source": [
    "# ValueError: too many values to unpack (expected 2)\n",
    "# a, b = f(3)"
   ]
  },
  {
   "cell_type": "markdown",
   "id": "5cc8ac62",
   "metadata": {},
   "source": [
    "## Numpy arrays"
   ]
  },
  {
   "cell_type": "code",
   "execution_count": 33,
   "id": "92e4c572",
   "metadata": {},
   "outputs": [],
   "source": [
    "import numpy as np"
   ]
  },
  {
   "cell_type": "code",
   "execution_count": 34,
   "id": "30cac153",
   "metadata": {},
   "outputs": [
    {
     "data": {
      "text/plain": [
       "x := array([3., 4., 5.])"
      ]
     },
     "metadata": {},
     "output_type": "display_data"
    },
    {
     "data": {
      "text/plain": [
       "---"
      ]
     },
     "metadata": {},
     "output_type": "display_data"
    },
    {
     "data": {
      "text/plain": [
       "(zahlen) := [3.0, 4.0, 5.0]"
      ]
     },
     "metadata": {},
     "output_type": "display_data"
    },
    {
     "data": {
      "text/plain": [
       "---"
      ]
     },
     "metadata": {},
     "output_type": "display_data"
    }
   ],
   "source": [
    "zahlen = [3.0 , 4.0 , 5.0] \n",
    "\n",
    "# das wird ein Array\n",
    "x = np . array ( zahlen ) ##:\n",
    "\n",
    "# die List bleibt unverändert:\n",
    "zahlen ##:"
   ]
  },
  {
   "cell_type": "code",
   "execution_count": 35,
   "id": "b7f1adee",
   "metadata": {},
   "outputs": [
    {
     "data": {
      "text/plain": [
       "(x + 30) := array([33., 34., 35.])"
      ]
     },
     "metadata": {},
     "output_type": "display_data"
    },
    {
     "data": {
      "text/plain": [
       "---"
      ]
     },
     "metadata": {},
     "output_type": "display_data"
    },
    {
     "data": {
      "text/plain": [
       "(x * 10) := array([30., 40., 50.])"
      ]
     },
     "metadata": {},
     "output_type": "display_data"
    },
    {
     "data": {
      "text/plain": [
       "---"
      ]
     },
     "metadata": {},
     "output_type": "display_data"
    },
    {
     "data": {
      "text/plain": [
       "(x + x*10) := array([33., 44., 55.])"
      ]
     },
     "metadata": {},
     "output_type": "display_data"
    },
    {
     "data": {
      "text/plain": [
       "---"
      ]
     },
     "metadata": {},
     "output_type": "display_data"
    }
   ],
   "source": [
    "# Elementweises rechnen\n",
    "\n",
    "x + 30 ##:\n",
    "x * 10 ##:\n",
    "x + x*10 ##:"
   ]
  },
  {
   "cell_type": "code",
   "execution_count": 36,
   "id": "107b2d02",
   "metadata": {},
   "outputs": [
    {
     "data": {
      "text/plain": [
       "arr_2d := array([[1.1, 2.2, 3.3],\n",
       "                 [4.4, 5.5, 6.6]])"
      ]
     },
     "metadata": {},
     "output_type": "display_data"
    },
    {
     "data": {
      "text/plain": [
       "---"
      ]
     },
     "metadata": {},
     "output_type": "display_data"
    }
   ],
   "source": [
    "arr_2d = np.array([[1. , 2 , 3] , [4 , 5 , 6]] )*1.1 ##:"
   ]
  },
  {
   "cell_type": "code",
   "execution_count": 37,
   "id": "4d7ebeb3",
   "metadata": {},
   "outputs": [
    {
     "data": {
      "text/plain": [
       "arr_2d := array([[1, 2, 3],\n",
       "                 [4, 5, 6]])"
      ]
     },
     "metadata": {},
     "output_type": "display_data"
    },
    {
     "data": {
      "text/plain": [
       "---"
      ]
     },
     "metadata": {},
     "output_type": "display_data"
    }
   ],
   "source": [
    "arr_2d = np.array([[1 , 2 , 3] , [4 , 5 , 6]] ) ##:"
   ]
  },
  {
   "cell_type": "code",
   "execution_count": 38,
   "id": "e7cbbb4b",
   "metadata": {},
   "outputs": [
    {
     "data": {
      "text/plain": [
       "(1. == 1.0) := True"
      ]
     },
     "metadata": {},
     "output_type": "display_data"
    },
    {
     "data": {
      "text/plain": [
       "---"
      ]
     },
     "metadata": {},
     "output_type": "display_data"
    },
    {
     "data": {
      "text/plain": [
       "(.5  == 0.5) := True"
      ]
     },
     "metadata": {},
     "output_type": "display_data"
    },
    {
     "data": {
      "text/plain": [
       "---"
      ]
     },
     "metadata": {},
     "output_type": "display_data"
    }
   ],
   "source": [
    "1. == 1.0 ##:\n",
    ".5  == 0.5 ##:"
   ]
  },
  {
   "cell_type": "markdown",
   "id": "a11ae629",
   "metadata": {},
   "source": [
    "## Slicing und Broadcasting"
   ]
  },
  {
   "cell_type": "code",
   "execution_count": 39,
   "id": "0422debd",
   "metadata": {},
   "outputs": [
    {
     "data": {
      "text/plain": [
       "A := array([[ 0,  1,  2,  3,  4,  5],\n",
       "            [ 6,  7,  8,  9, 10, 11]])"
      ]
     },
     "metadata": {},
     "output_type": "display_data"
    },
    {
     "data": {
      "text/plain": [
       "---"
      ]
     },
     "metadata": {},
     "output_type": "display_data"
    },
    {
     "data": {
      "text/plain": [
       "(A.shape) := (2, 6)"
      ]
     },
     "metadata": {},
     "output_type": "display_data"
    },
    {
     "data": {
      "text/plain": [
       "---"
      ]
     },
     "metadata": {},
     "output_type": "display_data"
    },
    {
     "data": {
      "text/plain": [
       "(x.shape) := (3,)"
      ]
     },
     "metadata": {},
     "output_type": "display_data"
    },
    {
     "data": {
      "text/plain": [
       "---"
      ]
     },
     "metadata": {},
     "output_type": "display_data"
    }
   ],
   "source": [
    "A = np . array ( [ [0 , 1 , 2 , 3 , 4 , 5] , [6 , 7 , 8 , 9 , 10 , 11] ] ) ##:\n",
    "\n",
    "A.shape ##:\n",
    "x.shape ##:\n"
   ]
  },
  {
   "cell_type": "code",
   "execution_count": 40,
   "id": "980ac0ee",
   "metadata": {},
   "outputs": [
    {
     "data": {
      "text/plain": [
       "8"
      ]
     },
     "execution_count": 40,
     "metadata": {},
     "output_type": "execute_result"
    }
   ],
   "source": [
    "# Zeilenindex 1, Spaltenindex 2\n",
    "A[1, 2]"
   ]
  },
  {
   "cell_type": "code",
   "execution_count": 41,
   "id": "7abea9d7",
   "metadata": {},
   "outputs": [
    {
     "data": {
      "text/plain": [
       "(A[1, 2:]) := array([ 8,  9, 10, 11])"
      ]
     },
     "metadata": {},
     "output_type": "display_data"
    },
    {
     "data": {
      "text/plain": [
       "---"
      ]
     },
     "metadata": {},
     "output_type": "display_data"
    },
    {
     "data": {
      "text/plain": [
       "(A[1, 2:-1]) := array([ 8,  9, 10])"
      ]
     },
     "metadata": {},
     "output_type": "display_data"
    },
    {
     "data": {
      "text/plain": [
       "---"
      ]
     },
     "metadata": {},
     "output_type": "display_data"
    },
    {
     "data": {
      "text/plain": [
       "(A[:, 2:]) := array([[ 2,  3,  4,  5],\n",
       "                     [ 8,  9, 10, 11]])"
      ]
     },
     "metadata": {},
     "output_type": "display_data"
    },
    {
     "data": {
      "text/plain": [
       "---"
      ]
     },
     "metadata": {},
     "output_type": "display_data"
    }
   ],
   "source": [
    "A[1, 2:] ##:\n",
    "A[1, 2:-1] ##:\n",
    "\n",
    "# jede Zeile, Spalten ab Index 2\n",
    "A[:, 2:] ##:"
   ]
  },
  {
   "cell_type": "code",
   "execution_count": 42,
   "id": "f17b281a",
   "metadata": {},
   "outputs": [
    {
     "data": {
      "text/plain": [
       "(A + 100) := array([[100, 101, 102, 103, 104, 105],\n",
       "                    [106, 107, 108, 109, 110, 111]])"
      ]
     },
     "metadata": {},
     "output_type": "display_data"
    },
    {
     "data": {
      "text/plain": [
       "---"
      ]
     },
     "metadata": {},
     "output_type": "display_data"
    }
   ],
   "source": [
    "# Broadcasting: das kleinere Element \"aufblasen\", so dass es passt\n",
    "A + 100 ##:"
   ]
  },
  {
   "cell_type": "code",
   "execution_count": 43,
   "id": "d28391ab",
   "metadata": {},
   "outputs": [
    {
     "data": {
      "text/plain": [
       "b := array([0, 1, 2, 3, 4, 5])"
      ]
     },
     "metadata": {},
     "output_type": "display_data"
    },
    {
     "data": {
      "text/plain": [
       "---"
      ]
     },
     "metadata": {},
     "output_type": "display_data"
    }
   ],
   "source": [
    "b = A[0, :] ##:"
   ]
  },
  {
   "cell_type": "code",
   "execution_count": 44,
   "id": "c184aa74",
   "metadata": {},
   "outputs": [
    {
     "data": {
      "text/plain": [
       "(A + b) := array([[ 0,  2,  4,  6,  8, 10],\n",
       "                  [ 6,  8, 10, 12, 14, 16]])"
      ]
     },
     "metadata": {},
     "output_type": "display_data"
    },
    {
     "data": {
      "text/plain": [
       "---"
      ]
     },
     "metadata": {},
     "output_type": "display_data"
    }
   ],
   "source": [
    "A + b  ##:\n",
    "\n",
    "\n",
    "# ValueError: operands could not be broadcast together with shapes (2,6) (5,) \n",
    "# A + b[:-1]"
   ]
  },
  {
   "cell_type": "markdown",
   "id": "b7f0646f",
   "metadata": {},
   "source": [
    "## Matrix-Multiplikation mit Arrays"
   ]
  },
  {
   "cell_type": "code",
   "execution_count": 45,
   "id": "3479f1d2",
   "metadata": {},
   "outputs": [
    {
     "data": {
      "text/plain": [
       "E := array([[1., 1., 1.],\n",
       "            [1., 1., 1.],\n",
       "            [1., 1., 1.],\n",
       "            [1., 1., 1.]])"
      ]
     },
     "metadata": {},
     "output_type": "display_data"
    },
    {
     "data": {
      "text/plain": [
       "---"
      ]
     },
     "metadata": {},
     "output_type": "display_data"
    },
    {
     "data": {
      "text/plain": [
       "b := array([-1,  2,  7])"
      ]
     },
     "metadata": {},
     "output_type": "display_data"
    },
    {
     "data": {
      "text/plain": [
       "---"
      ]
     },
     "metadata": {},
     "output_type": "display_data"
    },
    {
     "data": {
      "text/plain": [
       "(E*b) := array([[-1.,  2.,  7.],\n",
       "                [-1.,  2.,  7.],\n",
       "                [-1.,  2.,  7.],\n",
       "                [-1.,  2.,  7.]])"
      ]
     },
     "metadata": {},
     "output_type": "display_data"
    },
    {
     "data": {
      "text/plain": [
       "---"
      ]
     },
     "metadata": {},
     "output_type": "display_data"
    }
   ],
   "source": [
    "E = np.ones ((4 , 3)) # -> shape =(4 , 3) ##:\n",
    "b = np.array ([ -1 , 2 , 7]) # -> shape =(3,) ##:\n",
    "\n",
    "# Broadcasting funktioniert (-> hier ELEMENTWEISE Multiplikation)\n",
    "E*b ##:"
   ]
  },
  {
   "cell_type": "code",
   "execution_count": 46,
   "id": "a2401b02",
   "metadata": {},
   "outputs": [
    {
     "data": {
      "text/plain": [
       "(E@b) := array([8., 8., 8., 8.])"
      ]
     },
     "metadata": {},
     "output_type": "display_data"
    },
    {
     "data": {
      "text/plain": [
       "---"
      ]
     },
     "metadata": {},
     "output_type": "display_data"
    }
   ],
   "source": [
    "# Matix-Multiplikation:\n",
    "# 4x3 Matrix mal 3x1 \"Spaltenvektor\"\n",
    "\n",
    "E@b ##:"
   ]
  },
  {
   "cell_type": "code",
   "execution_count": 47,
   "id": "d9fd8386",
   "metadata": {},
   "outputs": [
    {
     "data": {
      "text/plain": [
       "c := array([0, 1, 2, 3])"
      ]
     },
     "metadata": {},
     "output_type": "display_data"
    },
    {
     "data": {
      "text/plain": [
       "---"
      ]
     },
     "metadata": {},
     "output_type": "display_data"
    },
    {
     "data": {
      "text/plain": [
       "(c@E) := array([6., 6., 6.])"
      ]
     },
     "metadata": {},
     "output_type": "display_data"
    },
    {
     "data": {
      "text/plain": [
       "---"
      ]
     },
     "metadata": {},
     "output_type": "display_data"
    }
   ],
   "source": [
    "c = np.arange(4) ##:\n",
    "\n",
    "# 1x4 Zeilenvektor mal 4x3 Matrix\n",
    "c@E ##:"
   ]
  },
  {
   "cell_type": "markdown",
   "id": "f83699bf",
   "metadata": {},
   "source": [
    "## Indizierung mit `int` und `bool`-Sequenzen "
   ]
  },
  {
   "cell_type": "code",
   "execution_count": 48,
   "id": "d23a573e",
   "metadata": {},
   "outputs": [
    {
     "data": {
      "text/plain": [
       "a := array([10, 11, 12, 13, 14, 15])"
      ]
     },
     "metadata": {},
     "output_type": "display_data"
    },
    {
     "data": {
      "text/plain": [
       "---"
      ]
     },
     "metadata": {},
     "output_type": "display_data"
    }
   ],
   "source": [
    "a = np . array ([10 , 11 , 12 , 13 , 14 , 15]) ##:"
   ]
  },
  {
   "cell_type": "code",
   "execution_count": 49,
   "id": "bc28e172",
   "metadata": {},
   "outputs": [
    {
     "data": {
      "text/plain": [
       "(a[indices]) := array([12, 11, 12, 14])"
      ]
     },
     "metadata": {},
     "output_type": "display_data"
    },
    {
     "data": {
      "text/plain": [
       "---"
      ]
     },
     "metadata": {},
     "output_type": "display_data"
    },
    {
     "data": {
      "text/plain": [
       "(a[[2, 1, 2, 4]]) := array([12, 11, 12, 14])"
      ]
     },
     "metadata": {},
     "output_type": "display_data"
    },
    {
     "data": {
      "text/plain": [
       "---"
      ]
     },
     "metadata": {},
     "output_type": "display_data"
    }
   ],
   "source": [
    "indices = [2, 1, 2, 4]\n",
    "a[indices] ##:\n",
    "\n",
    "a[[2, 1, 2, 4]] ##:\n",
    "\n",
    "\n",
    "# Fehler weil Gleitkomma-Index ist Quatsch\n",
    "# IndexError: only integers, slices (`:`), ellipsis (`...`), numpy.newaxis (`None`) and integer or boolean arrays are valid indices\n",
    "# a[[2, 1, 2, 4.0]] ##:\n",
    "\n"
   ]
  },
  {
   "cell_type": "code",
   "execution_count": 50,
   "id": "52f960f3",
   "metadata": {},
   "outputs": [
    {
     "data": {
      "text/plain": [
       "b := array([False, False, False,  True,  True,  True])"
      ]
     },
     "metadata": {},
     "output_type": "display_data"
    },
    {
     "data": {
      "text/plain": [
       "---"
      ]
     },
     "metadata": {},
     "output_type": "display_data"
    }
   ],
   "source": [
    "b = a > 12  ##:"
   ]
  },
  {
   "cell_type": "code",
   "execution_count": 51,
   "id": "c0e00caa",
   "metadata": {},
   "outputs": [
    {
     "data": {
      "text/plain": [
       "(a[b]) := array([13, 14, 15])"
      ]
     },
     "metadata": {},
     "output_type": "display_data"
    },
    {
     "data": {
      "text/plain": [
       "---"
      ]
     },
     "metadata": {},
     "output_type": "display_data"
    },
    {
     "data": {
      "text/plain": [
       "(a[a < 12]) := array([10, 11])"
      ]
     },
     "metadata": {},
     "output_type": "display_data"
    },
    {
     "data": {
      "text/plain": [
       "---"
      ]
     },
     "metadata": {},
     "output_type": "display_data"
    },
    {
     "data": {
      "text/plain": [
       "(a[a % 2 == 0]) := array([10, 12, 14])"
      ]
     },
     "metadata": {},
     "output_type": "display_data"
    },
    {
     "data": {
      "text/plain": [
       "---"
      ]
     },
     "metadata": {},
     "output_type": "display_data"
    },
    {
     "data": {
      "text/plain": [
       "(a[a % 2 == 1]) := array([11, 13, 15])"
      ]
     },
     "metadata": {},
     "output_type": "display_data"
    },
    {
     "data": {
      "text/plain": [
       "---"
      ]
     },
     "metadata": {},
     "output_type": "display_data"
    },
    {
     "data": {
      "text/plain": [
       "b := array([False,  True, False,  True, False,  True])"
      ]
     },
     "metadata": {},
     "output_type": "display_data"
    },
    {
     "data": {
      "text/plain": [
       "---"
      ]
     },
     "metadata": {},
     "output_type": "display_data"
    },
    {
     "data": {
      "text/plain": [
       "(a[b]) := array([11, 13, 15])"
      ]
     },
     "metadata": {},
     "output_type": "display_data"
    },
    {
     "data": {
      "text/plain": [
       "---"
      ]
     },
     "metadata": {},
     "output_type": "display_data"
    }
   ],
   "source": [
    "# bool-Sequenz b als \"Maske\" verwenden (Bool-Indizierung)\n",
    "# Länge bzw. von a und b muss gleich\n",
    "a[b] ##:\n",
    "\n",
    "a[a < 12] ##:\n",
    "\n",
    "a[a % 2 == 0] ##:\n",
    "\n",
    "a[a % 2 == 1] ##:\n",
    "\n",
    "\n",
    "# Schrittweise\n",
    "b = a % 2 == 1 ##:\n",
    "a[b] ##:"
   ]
  },
  {
   "cell_type": "markdown",
   "id": "0f6ce0ee",
   "metadata": {},
   "source": [
    "## Numpy Funktionen (anwendbar auf Arrays)"
   ]
  },
  {
   "cell_type": "code",
   "execution_count": 55,
   "id": "6486aa6a",
   "metadata": {},
   "outputs": [
    {
     "data": {
      "text/plain": [
       "(np.sin(x)) := array([ 0.14112001, -0.7568025 , -0.95892427])"
      ]
     },
     "metadata": {},
     "output_type": "display_data"
    },
    {
     "data": {
      "text/plain": [
       "---"
      ]
     },
     "metadata": {},
     "output_type": "display_data"
    },
    {
     "data": {
      "text/plain": [
       "(np.cos(A[:, :3])) := array([[ 1.        ,  0.54030231, -0.41614684],\n",
       "                             [ 0.96017029,  0.75390225, -0.14550003]])"
      ]
     },
     "metadata": {},
     "output_type": "display_data"
    },
    {
     "data": {
      "text/plain": [
       "---"
      ]
     },
     "metadata": {},
     "output_type": "display_data"
    }
   ],
   "source": [
    "np.sin(x) ##:\n",
    "np.cos(A[:, :3]) ##:"
   ]
  },
  {
   "cell_type": "markdown",
   "id": "2fd1f500",
   "metadata": {},
   "source": [
    "---\n",
    "\n",
    "---\n",
    "\n",
    "\n",
    "# Mittwoch"
   ]
  },
  {
   "cell_type": "markdown",
   "id": "9ef4c93b",
   "metadata": {},
   "source": [
    "\"Call by Reference\"-Problem"
   ]
  },
  {
   "cell_type": "code",
   "execution_count": 60,
   "id": "37bc77dd",
   "metadata": {},
   "outputs": [
    {
     "data": {
      "text/plain": [
       "L := [10, 11, 12, 13, 14]"
      ]
     },
     "metadata": {},
     "output_type": "display_data"
    },
    {
     "data": {
      "text/plain": [
       "---"
      ]
     },
     "metadata": {},
     "output_type": "display_data"
    },
    {
     "data": {
      "text/plain": [
       "L2 := [10, 11, 12, 13, 14]"
      ]
     },
     "metadata": {},
     "output_type": "display_data"
    },
    {
     "data": {
      "text/plain": [
       "---"
      ]
     },
     "metadata": {},
     "output_type": "display_data"
    }
   ],
   "source": [
    "L = [10, 11, 12, 13, 14] ##:\n",
    "L2 = L ##:"
   ]
  },
  {
   "cell_type": "code",
   "execution_count": 61,
   "id": "1f7eff8b",
   "metadata": {},
   "outputs": [],
   "source": [
    "L2.insert(1, \"ABC\")"
   ]
  },
  {
   "cell_type": "code",
   "execution_count": 62,
   "id": "63dbb24f",
   "metadata": {},
   "outputs": [
    {
     "data": {
      "text/plain": [
       "[10, 'ABC', 11, 12, 13, 14]"
      ]
     },
     "execution_count": 62,
     "metadata": {},
     "output_type": "execute_result"
    }
   ],
   "source": [
    "L2"
   ]
  },
  {
   "cell_type": "code",
   "execution_count": 64,
   "id": "efb3b9d7",
   "metadata": {},
   "outputs": [
    {
     "data": {
      "text/plain": [
       "[10, 'ABC', 11, 12, 13, 14]"
      ]
     },
     "execution_count": 64,
     "metadata": {},
     "output_type": "execute_result"
    }
   ],
   "source": [
    "# Achtung: auch L hat sich geändert\n",
    "L"
   ]
  },
  {
   "cell_type": "code",
   "execution_count": 73,
   "id": "e10e2715",
   "metadata": {},
   "outputs": [
    {
     "data": {
      "text/plain": [
       "a := array([0, 1, 2, 3])"
      ]
     },
     "metadata": {},
     "output_type": "display_data"
    },
    {
     "data": {
      "text/plain": [
       "---"
      ]
     },
     "metadata": {},
     "output_type": "display_data"
    },
    {
     "data": {
      "text/plain": [
       "a2 := array([0, 1, 2, 3])"
      ]
     },
     "metadata": {},
     "output_type": "display_data"
    },
    {
     "data": {
      "text/plain": [
       "---"
      ]
     },
     "metadata": {},
     "output_type": "display_data"
    }
   ],
   "source": [
    "a = np.arange(4) ##:\n",
    "a2 = a ##:"
   ]
  },
  {
   "cell_type": "code",
   "execution_count": 66,
   "id": "3990346e",
   "metadata": {},
   "outputs": [
    {
     "data": {
      "text/plain": [
       "(a2) := array([ 0,  1,  2, 17])"
      ]
     },
     "metadata": {},
     "output_type": "display_data"
    },
    {
     "data": {
      "text/plain": [
       "---"
      ]
     },
     "metadata": {},
     "output_type": "display_data"
    },
    {
     "data": {
      "text/plain": [
       "(a) := array([ 0,  1,  2, 17])"
      ]
     },
     "metadata": {},
     "output_type": "display_data"
    },
    {
     "data": {
      "text/plain": [
       "---"
      ]
     },
     "metadata": {},
     "output_type": "display_data"
    }
   ],
   "source": [
    "a2[-1] = 17\n",
    "a2 ##:\n",
    "a ##:"
   ]
  },
  {
   "cell_type": "code",
   "execution_count": 67,
   "id": "5fb547a1",
   "metadata": {},
   "outputs": [
    {
     "data": {
      "text/plain": [
       "(L3) := [10, 'ABC', 11, 12, 13, 14, 'XYZ']"
      ]
     },
     "metadata": {},
     "output_type": "display_data"
    },
    {
     "data": {
      "text/plain": [
       "---"
      ]
     },
     "metadata": {},
     "output_type": "display_data"
    },
    {
     "data": {
      "text/plain": [
       "(L) := [10, 'ABC', 11, 12, 13, 14]"
      ]
     },
     "metadata": {},
     "output_type": "display_data"
    },
    {
     "data": {
      "text/plain": [
       "---"
      ]
     },
     "metadata": {},
     "output_type": "display_data"
    }
   ],
   "source": [
    "L3 = L[:]  # Das erstellt eine Kopie\n",
    "L3.append(\"XYZ\")\n",
    "L3 ##:\n",
    "L ##:"
   ]
  },
  {
   "cell_type": "code",
   "execution_count": 69,
   "id": "90974fc8",
   "metadata": {},
   "outputs": [],
   "source": [
    "# für kompliziertere Fälle (z.B. verschachtelte Listen):\n",
    "from copy import deepcopy"
   ]
  },
  {
   "cell_type": "markdown",
   "id": "2f0240cb",
   "metadata": {},
   "source": [
    "**Achtung** Arrays verhalten sich anders"
   ]
  },
  {
   "cell_type": "code",
   "execution_count": 74,
   "id": "a53d795e",
   "metadata": {},
   "outputs": [
    {
     "data": {
      "text/plain": [
       "(a) := array([0, 1, 2, 3])"
      ]
     },
     "metadata": {},
     "output_type": "display_data"
    },
    {
     "data": {
      "text/plain": [
       "---"
      ]
     },
     "metadata": {},
     "output_type": "display_data"
    },
    {
     "data": {
      "text/plain": [
       "(a3) := array([0, 1, 2, 3])"
      ]
     },
     "metadata": {},
     "output_type": "display_data"
    },
    {
     "data": {
      "text/plain": [
       "---"
      ]
     },
     "metadata": {},
     "output_type": "display_data"
    }
   ],
   "source": [
    "a3 = a[:]\n",
    "a ##:\n",
    "a3 ##:"
   ]
  },
  {
   "cell_type": "code",
   "execution_count": 75,
   "id": "298e972b",
   "metadata": {},
   "outputs": [
    {
     "data": {
      "text/plain": [
       "(a) := array([700,   1,   2,   3])"
      ]
     },
     "metadata": {},
     "output_type": "display_data"
    },
    {
     "data": {
      "text/plain": [
       "---"
      ]
     },
     "metadata": {},
     "output_type": "display_data"
    },
    {
     "data": {
      "text/plain": [
       "(a3) := array([700,   1,   2,   3])"
      ]
     },
     "metadata": {},
     "output_type": "display_data"
    },
    {
     "data": {
      "text/plain": [
       "---"
      ]
     },
     "metadata": {},
     "output_type": "display_data"
    }
   ],
   "source": [
    "a3[0] = 700\n",
    "\n",
    "a ##:\n",
    "a3 ##:"
   ]
  },
  {
   "cell_type": "code",
   "execution_count": 76,
   "id": "7486e7b5",
   "metadata": {},
   "outputs": [
    {
     "data": {
      "text/plain": [
       "(a4) := array([800,   1,   2,   3])"
      ]
     },
     "metadata": {},
     "output_type": "display_data"
    },
    {
     "data": {
      "text/plain": [
       "---"
      ]
     },
     "metadata": {},
     "output_type": "display_data"
    },
    {
     "data": {
      "text/plain": [
       "(a) := array([700,   1,   2,   3])"
      ]
     },
     "metadata": {},
     "output_type": "display_data"
    },
    {
     "data": {
      "text/plain": [
       "---"
      ]
     },
     "metadata": {},
     "output_type": "display_data"
    }
   ],
   "source": [
    "a4 = np.copy(a)\n",
    "a4[0] = 800\n",
    "\n",
    "a4 ##:\n",
    "a ##:"
   ]
  },
  {
   "cell_type": "code",
   "execution_count": 78,
   "id": "8cf518be",
   "metadata": {},
   "outputs": [
    {
     "data": {
      "text/plain": [
       "(a5) := array([700,   1,   2,   3])"
      ]
     },
     "metadata": {},
     "output_type": "display_data"
    },
    {
     "data": {
      "text/plain": [
       "---"
      ]
     },
     "metadata": {},
     "output_type": "display_data"
    },
    {
     "data": {
      "text/plain": [
       "(a5) := array([42, 42, 42,  3])"
      ]
     },
     "metadata": {},
     "output_type": "display_data"
    },
    {
     "data": {
      "text/plain": [
       "---"
      ]
     },
     "metadata": {},
     "output_type": "display_data"
    },
    {
     "data": {
      "text/plain": [
       "(a) := array([700,   1,   2,   3])"
      ]
     },
     "metadata": {},
     "output_type": "display_data"
    },
    {
     "data": {
      "text/plain": [
       "---"
      ]
     },
     "metadata": {},
     "output_type": "display_data"
    }
   ],
   "source": [
    "# andere Variante\n",
    "\n",
    "a5 = a*1\n",
    "\n",
    "a5 ##:\n",
    "\n",
    "a5[:3] = 42\n",
    "\n",
    "a5##:\n",
    "a##:"
   ]
  },
  {
   "cell_type": "code",
   "execution_count": 90,
   "id": "33a36887",
   "metadata": {},
   "outputs": [],
   "source": [
    "# Weitere Funktionalität beim Indizieren\n",
    "\n",
    "L  = range(5, 20)"
   ]
  },
  {
   "cell_type": "code",
   "execution_count": 89,
   "id": "90deb894",
   "metadata": {},
   "outputs": [
    {
     "data": {
      "text/plain": [
       "range(5, 200000000000000)"
      ]
     },
     "execution_count": 89,
     "metadata": {},
     "output_type": "execute_result"
    }
   ],
   "source": [
    "# das ist ein \"Iterator\"\n",
    "L"
   ]
  },
  {
   "cell_type": "code",
   "execution_count": 83,
   "id": "c00e7ab7",
   "metadata": {},
   "outputs": [
    {
     "name": "stdout",
     "output_type": "stream",
     "text": [
      "5\n",
      "6\n",
      "7\n",
      "8\n",
      "9\n",
      "10\n",
      "11\n",
      "12\n",
      "13\n",
      "14\n",
      "15\n",
      "16\n",
      "17\n",
      "18\n",
      "19\n"
     ]
    }
   ],
   "source": [
    "for i in L:\n",
    "    print(i)"
   ]
  },
  {
   "cell_type": "code",
   "execution_count": 87,
   "id": "5639e47a",
   "metadata": {},
   "outputs": [
    {
     "data": {
      "text/plain": [
       "L1 := [5, 6, 7, 8, 9, 10, 11, 12, 13, 14, 15, 16, 17, 18, 19]"
      ]
     },
     "metadata": {},
     "output_type": "display_data"
    },
    {
     "data": {
      "text/plain": [
       "---"
      ]
     },
     "metadata": {},
     "output_type": "display_data"
    }
   ],
   "source": [
    "# in eine Liste umwandeln:\n",
    "L1 = list(L) ##:"
   ]
  },
  {
   "cell_type": "code",
   "execution_count": 91,
   "id": "67d708bd",
   "metadata": {},
   "outputs": [],
   "source": [
    "# würde sehr viel Speicher brauchen:\n",
    "# list(range(5, 200000000000))"
   ]
  },
  {
   "cell_type": "code",
   "execution_count": 94,
   "id": "261403e0",
   "metadata": {},
   "outputs": [
    {
     "data": {
      "text/plain": [
       "(L1[1:-1]) := [6, 7, 8, 9, 10, 11, 12, 13, 14, 15, 16, 17, 18]"
      ]
     },
     "metadata": {},
     "output_type": "display_data"
    },
    {
     "data": {
      "text/plain": [
       "---"
      ]
     },
     "metadata": {},
     "output_type": "display_data"
    },
    {
     "data": {
      "text/plain": [
       "(L1[1:-1:3]) := [6, 9, 12, 15, 18]"
      ]
     },
     "metadata": {},
     "output_type": "display_data"
    },
    {
     "data": {
      "text/plain": [
       "---"
      ]
     },
     "metadata": {},
     "output_type": "display_data"
    }
   ],
   "source": [
    "# das ist bekannt\n",
    "L1[1:-1] ##:\n",
    "\n",
    "\n",
    "# jetzt noch mit Schrittweite:\n",
    "L1[1:-1:3] ##:"
   ]
  },
  {
   "cell_type": "code",
   "execution_count": 101,
   "id": "fe4975d6",
   "metadata": {},
   "outputs": [
    {
     "data": {
      "text/plain": [
       "(L1[-1:1:-3]) := [19, 16, 13, 10, 7]"
      ]
     },
     "metadata": {},
     "output_type": "display_data"
    },
    {
     "data": {
      "text/plain": [
       "---"
      ]
     },
     "metadata": {},
     "output_type": "display_data"
    },
    {
     "data": {
      "text/plain": [
       "(L1[7:2:-2]) := [12, 10, 8]"
      ]
     },
     "metadata": {},
     "output_type": "display_data"
    },
    {
     "data": {
      "text/plain": [
       "---"
      ]
     },
     "metadata": {},
     "output_type": "display_data"
    },
    {
     "data": {
      "text/plain": [
       "[19, 18, 17, 16, 15, 14, 13, 12, 11, 10, 9, 8, 7, 6, 5]"
      ]
     },
     "execution_count": 101,
     "metadata": {},
     "output_type": "execute_result"
    }
   ],
   "source": [
    "# geht Rückwärts\n",
    "L1[-1:1:-3] ##:\n",
    "L1[7:2:-2] ##:\n",
    "\n",
    "# Komplette Sequenz umkehren:\n",
    "L1[::-1]"
   ]
  },
  {
   "cell_type": "code",
   "execution_count": 104,
   "id": "aff5a297",
   "metadata": {},
   "outputs": [
    {
     "data": {
      "text/plain": [
       "(a) := \n",
       "array([ 0,  1,  2,  3,  4,  5,  6,  7,  8,  9, 10, 11, 12, 13, 14, 15, 16,\n",
       "       17, 18, 19])"
      ]
     },
     "metadata": {},
     "output_type": "display_data"
    },
    {
     "data": {
      "text/plain": [
       "---"
      ]
     },
     "metadata": {},
     "output_type": "display_data"
    },
    {
     "data": {
      "text/plain": [
       "(a[::-1]) := \n",
       "array([19, 18, 17, 16, 15, 14, 13, 12, 11, 10,  9,  8,  7,  6,  5,  4,  3,\n",
       "        2,  1,  0])"
      ]
     },
     "metadata": {},
     "output_type": "display_data"
    },
    {
     "data": {
      "text/plain": [
       "---"
      ]
     },
     "metadata": {},
     "output_type": "display_data"
    }
   ],
   "source": [
    "a = np.arange(20)\n",
    "\n",
    "a ##:\n",
    "a[::-1] ##:"
   ]
  },
  {
   "cell_type": "markdown",
   "id": "3eafbff9",
   "metadata": {},
   "source": [
    "Noch zwei Jupyter Notebook Tricks:"
   ]
  },
  {
   "cell_type": "code",
   "execution_count": 111,
   "id": "b9c2e1e7",
   "metadata": {},
   "outputs": [
    {
     "name": "stdout",
     "output_type": "stream",
     "text": [
      "CPU times: user 1.39 s, sys: 0 ns, total: 1.39 s\n",
      "Wall time: 1.41 s\n"
     ]
    }
   ],
   "source": [
    "%%time\n",
    "\n",
    "# %%time muss am Anfang der Zelle stehen\n",
    "# misst die Ausführungszeit der gesamten Zelle\n",
    "# Ergebnis ist im Bereich +- 20% zuverlässig\n",
    "\n",
    "N = 500000\n",
    "L = range(N)\n",
    "\n",
    "res = []\n",
    "for i in L:\n",
    "    # wurzel ziehen\n",
    "    res.append(np.sqrt(i))"
   ]
  },
  {
   "cell_type": "code",
   "execution_count": 112,
   "id": "182a1b7e",
   "metadata": {},
   "outputs": [
    {
     "name": "stdout",
     "output_type": "stream",
     "text": [
      "CPU times: user 14.1 ms, sys: 0 ns, total: 14.1 ms\n",
      "Wall time: 10.7 ms\n"
     ]
    }
   ],
   "source": [
    "%%time\n",
    "# Vergleich:\n",
    "\n",
    "a = np.arange(N)\n",
    "res = np.sqrt(a)\n"
   ]
  },
  {
   "cell_type": "code",
   "execution_count": null,
   "id": "f24b660b",
   "metadata": {},
   "outputs": [],
   "source": [
    "# es gibt noch %time und %timeit"
   ]
  },
  {
   "cell_type": "markdown",
   "id": "b249122d",
   "metadata": {},
   "source": [
    "\n",
    "### Dictionaries"
   ]
  },
  {
   "cell_type": "code",
   "execution_count": 113,
   "id": "c566d9e2",
   "metadata": {},
   "outputs": [
    {
     "data": {
      "text/plain": [
       "d := {10: 3, 5: 3, 7: 2}"
      ]
     },
     "metadata": {},
     "output_type": "display_data"
    },
    {
     "data": {
      "text/plain": [
       "---"
      ]
     },
     "metadata": {},
     "output_type": "display_data"
    }
   ],
   "source": [
    "d = {10: 3, 5:3, 7:2} ##:"
   ]
  },
  {
   "cell_type": "code",
   "execution_count": 115,
   "id": "f0d1661d",
   "metadata": {},
   "outputs": [
    {
     "data": {
      "text/plain": [
       "(d.keys()) := dict_keys([10, 5, 7])"
      ]
     },
     "metadata": {},
     "output_type": "display_data"
    },
    {
     "data": {
      "text/plain": [
       "---"
      ]
     },
     "metadata": {},
     "output_type": "display_data"
    },
    {
     "data": {
      "text/plain": [
       "(d.values()) := dict_values([3, 3, 2])"
      ]
     },
     "metadata": {},
     "output_type": "display_data"
    },
    {
     "data": {
      "text/plain": [
       "---"
      ]
     },
     "metadata": {},
     "output_type": "display_data"
    },
    {
     "data": {
      "text/plain": [
       "(d.items()) := dict_items([(10, 3), (5, 3), (7, 2)])"
      ]
     },
     "metadata": {},
     "output_type": "display_data"
    },
    {
     "data": {
      "text/plain": [
       "---"
      ]
     },
     "metadata": {},
     "output_type": "display_data"
    }
   ],
   "source": [
    "d.keys() ##:\n",
    "d.values() ##:\n",
    "d.items() ##:"
   ]
  },
  {
   "cell_type": "code",
   "execution_count": 118,
   "id": "1ace6e76",
   "metadata": {},
   "outputs": [
    {
     "data": {
      "text/plain": [
       "items := [(10, 3), (5, 3), (7, 2)]"
      ]
     },
     "metadata": {},
     "output_type": "display_data"
    },
    {
     "data": {
      "text/plain": [
       "---"
      ]
     },
     "metadata": {},
     "output_type": "display_data"
    },
    {
     "data": {
      "text/plain": [
       "(7, 2)"
      ]
     },
     "execution_count": 118,
     "metadata": {},
     "output_type": "execute_result"
    }
   ],
   "source": [
    "items = list(d.items()) ##:\n",
    "\n",
    "items[2]"
   ]
  },
  {
   "cell_type": "code",
   "execution_count": 119,
   "id": "d4f6da5f",
   "metadata": {},
   "outputs": [],
   "source": [
    "from collections import defaultdict"
   ]
  },
  {
   "cell_type": "code",
   "execution_count": 120,
   "id": "0b6ce74b",
   "metadata": {},
   "outputs": [
    {
     "data": {
      "text/plain": [
       "(list()) := []"
      ]
     },
     "metadata": {},
     "output_type": "display_data"
    },
    {
     "data": {
      "text/plain": [
       "---"
      ]
     },
     "metadata": {},
     "output_type": "display_data"
    }
   ],
   "source": [
    "list() ##:"
   ]
  },
  {
   "cell_type": "code",
   "execution_count": 123,
   "id": "4919be84",
   "metadata": {},
   "outputs": [
    {
     "data": {
      "text/plain": [
       "(dd) := defaultdict(list, {17: [35]})"
      ]
     },
     "metadata": {},
     "output_type": "display_data"
    },
    {
     "data": {
      "text/plain": [
       "---"
      ]
     },
     "metadata": {},
     "output_type": "display_data"
    }
   ],
   "source": [
    "# dem \"Konstruktor\" wird die Funktion `list` übergeben\n",
    "dd = defaultdict(list)\n",
    "\n",
    "dd[17].append(35)\n",
    "\n",
    "dd ##:"
   ]
  },
  {
   "cell_type": "code",
   "execution_count": 131,
   "id": "88ebf719",
   "metadata": {},
   "outputs": [
    {
     "data": {
      "text/plain": [
       "defaultdict(<function __main__.f0()>, {'b': 1})"
      ]
     },
     "execution_count": 131,
     "metadata": {},
     "output_type": "execute_result"
    }
   ],
   "source": [
    "def f0():\n",
    "    return 0\n",
    "\n",
    "\n",
    "dd = defaultdict(f0)\n",
    "\n",
    "dd['b'] += 1\n",
    "dd"
   ]
  },
  {
   "cell_type": "code",
   "execution_count": 135,
   "id": "8c52171a",
   "metadata": {},
   "outputs": [
    {
     "data": {
      "text/plain": [
       "c := Counter({'a': 3, 'b': 3, 'c': 2, 'f': 2, 'e': 1, 'g': 1})"
      ]
     },
     "metadata": {},
     "output_type": "display_data"
    },
    {
     "data": {
      "text/plain": [
       "---"
      ]
     },
     "metadata": {},
     "output_type": "display_data"
    },
    {
     "data": {
      "text/plain": [
       "(c) := Counter({'a': 3, 'b': 3, 'c': 2, 'f': 2, 'e': 1, 'g': 1})"
      ]
     },
     "metadata": {},
     "output_type": "display_data"
    },
    {
     "data": {
      "text/plain": [
       "---"
      ]
     },
     "metadata": {},
     "output_type": "display_data"
    }
   ],
   "source": [
    "# Counter ist eine Subklasse von dict\n",
    "\n",
    "from collections import Counter\n",
    "c = Counter(\"aabbccaeffbg\") \n",
    "c ##:"
   ]
  },
  {
   "cell_type": "code",
   "execution_count": 134,
   "id": "110b8c30",
   "metadata": {},
   "outputs": [
    {
     "data": {
      "text/plain": [
       "True"
      ]
     },
     "execution_count": 134,
     "metadata": {},
     "output_type": "execute_result"
    }
   ],
   "source": [
    "isinstance(c, dict)"
   ]
  },
  {
   "cell_type": "code",
   "execution_count": 140,
   "id": "a22e691a",
   "metadata": {},
   "outputs": [
    {
     "data": {
      "text/plain": [
       "myset := {'a', 'b', 'c', 'e', 'f', 'g'}"
      ]
     },
     "metadata": {},
     "output_type": "display_data"
    },
    {
     "data": {
      "text/plain": [
       "---"
      ]
     },
     "metadata": {},
     "output_type": "display_data"
    },
    {
     "data": {
      "text/plain": [
       "L := ['b', 'a', 'f', 'e', 'c', 'g']"
      ]
     },
     "metadata": {},
     "output_type": "display_data"
    },
    {
     "data": {
      "text/plain": [
       "---"
      ]
     },
     "metadata": {},
     "output_type": "display_data"
    }
   ],
   "source": [
    "wort = \"aabbccaeffbg\"\n",
    "\n",
    "\n",
    "# Duplikate entfernen (aber wir verlieren die Reihenfolge)\n",
    "myset = set(wort) ##:\n",
    "\n",
    "L = list(myset) ##:"
   ]
  },
  {
   "cell_type": "code",
   "execution_count": 141,
   "id": "3c7baf33",
   "metadata": {},
   "outputs": [],
   "source": [
    "# BTW: gänige Namen:\n",
    "# mylist\n",
    "# mydict\n",
    "# ..."
   ]
  },
  {
   "cell_type": "code",
   "execution_count": 142,
   "id": "9fe78567",
   "metadata": {},
   "outputs": [
    {
     "data": {
      "text/plain": [
       "type"
      ]
     },
     "execution_count": 142,
     "metadata": {},
     "output_type": "execute_result"
    }
   ],
   "source": [
    "type(dict)"
   ]
  },
  {
   "cell_type": "code",
   "execution_count": 143,
   "id": "dc69c058",
   "metadata": {},
   "outputs": [
    {
     "data": {
      "text/plain": [
       "type"
      ]
     },
     "execution_count": 143,
     "metadata": {},
     "output_type": "execute_result"
    }
   ],
   "source": [
    "type(type)"
   ]
  },
  {
   "cell_type": "code",
   "execution_count": 144,
   "id": "10015412",
   "metadata": {},
   "outputs": [
    {
     "data": {
      "text/plain": [
       "[(10, 3), (5, 3), (7, 2)]"
      ]
     },
     "execution_count": 144,
     "metadata": {},
     "output_type": "execute_result"
    }
   ],
   "source": [
    "items"
   ]
  },
  {
   "cell_type": "code",
   "execution_count": 145,
   "id": "fd2ceb69",
   "metadata": {},
   "outputs": [
    {
     "name": "stdout",
     "output_type": "stream",
     "text": [
      "v=3, k=10\n",
      "v=3, k=5\n",
      "v=2, k=7\n"
     ]
    }
   ],
   "source": [
    "# Iterieren über verschachtelte Sequenzen:\n",
    "\n",
    "for k, v in items:\n",
    "    print(f\"{v=}, {k=}\")"
   ]
  },
  {
   "cell_type": "code",
   "execution_count": 146,
   "id": "748d1828",
   "metadata": {},
   "outputs": [
    {
     "name": "stdout",
     "output_type": "stream",
     "text": [
      "0: v=3, k=10\n",
      "1: v=3, k=5\n",
      "2: v=2, k=7\n"
     ]
    }
   ],
   "source": [
    "\n",
    "for i, (k, v) in enumerate(items):\n",
    "    print(f\"{i}: {v=}, {k=}\")"
   ]
  },
  {
   "cell_type": "code",
   "execution_count": 148,
   "id": "9a6ed601",
   "metadata": {},
   "outputs": [
    {
     "data": {
      "text/plain": [
       "(enumerate(items)) := <enumerate at 0x7f64301d4220>"
      ]
     },
     "metadata": {},
     "output_type": "display_data"
    },
    {
     "data": {
      "text/plain": [
       "---"
      ]
     },
     "metadata": {},
     "output_type": "display_data"
    },
    {
     "data": {
      "text/plain": [
       "[(0, (10, 3)), (1, (5, 3)), (2, (7, 2))]"
      ]
     },
     "execution_count": 148,
     "metadata": {},
     "output_type": "execute_result"
    }
   ],
   "source": [
    "# das ist wieder ein Iterator\n",
    "enumerate(items) ##:\n",
    "\n",
    "list(enumerate(items))"
   ]
  },
  {
   "cell_type": "code",
   "execution_count": 149,
   "id": "7047dc2b",
   "metadata": {},
   "outputs": [
    {
     "name": "stdout",
     "output_type": "stream",
     "text": [
      "10\n",
      "11\n",
      "A\n",
      "('X', 0)\n",
      "None\n"
     ]
    }
   ],
   "source": [
    "L5 = [10, 11, \"A\", (\"X\", 0), None]\n",
    "for e in L5:\n",
    "    print(e)"
   ]
  },
  {
   "cell_type": "code",
   "execution_count": 150,
   "id": "552e3725",
   "metadata": {},
   "outputs": [
    {
     "name": "stdout",
     "output_type": "stream",
     "text": [
      "alice=10, bob=3\n",
      "alice=5, bob=3\n",
      "alice=7, bob=2\n"
     ]
    }
   ],
   "source": [
    "\n",
    "for alice, bob in items:\n",
    "    print(f\"{alice=}, {bob=}\")"
   ]
  },
  {
   "cell_type": "code",
   "execution_count": 151,
   "id": "c09f766d",
   "metadata": {},
   "outputs": [
    {
     "data": {
      "text/plain": [
       "{10: 3, 5: 3, 7: 2}"
      ]
     },
     "execution_count": 151,
     "metadata": {},
     "output_type": "execute_result"
    }
   ],
   "source": [
    "d.keys()"
   ]
  },
  {
   "cell_type": "code",
   "execution_count": 154,
   "id": "95c64ff8",
   "metadata": {},
   "outputs": [
    {
     "name": "stdout",
     "output_type": "stream",
     "text": [
      "(10, 3)\n",
      "v=3, k=10\n",
      "(5, 3)\n",
      "v=3, k=5\n",
      "(7, 2)\n",
      "v=2, k=7\n"
     ]
    }
   ],
   "source": [
    "\n",
    "for t in items:\n",
    "    k, v = t\n",
    "    print(t)\n",
    "    print(f\"{v=}, {k=}\")"
   ]
  },
  {
   "cell_type": "code",
   "execution_count": 153,
   "id": "53a8687e",
   "metadata": {},
   "outputs": [
    {
     "data": {
      "text/plain": [
       "[(10, 3), (5, 3), (7, 2)]"
      ]
     },
     "execution_count": 153,
     "metadata": {},
     "output_type": "execute_result"
    }
   ],
   "source": [
    "items"
   ]
  },
  {
   "cell_type": "code",
   "execution_count": 157,
   "id": "9d91285b",
   "metadata": {},
   "outputs": [
    {
     "data": {
      "text/plain": [
       "a2 := array([ 0,  1,  2,  3,  4,  5,  6,  7,  8,  9, 10, 11, 12, 13, 14])"
      ]
     },
     "metadata": {},
     "output_type": "display_data"
    },
    {
     "data": {
      "text/plain": [
       "---"
      ]
     },
     "metadata": {},
     "output_type": "display_data"
    },
    {
     "name": "stdout",
     "output_type": "stream",
     "text": [
      "0\n",
      "1\n",
      "2\n",
      "3\n",
      "4\n",
      "5\n",
      "6\n",
      "7\n",
      "8\n",
      "9\n",
      "10\n",
      "11\n",
      "12\n",
      "13\n",
      "14\n"
     ]
    }
   ],
   "source": [
    "a2 = np.arange(15) ##:\n",
    "for x in a2:\n",
    "    print(x)"
   ]
  },
  {
   "cell_type": "code",
   "execution_count": 161,
   "id": "b48b8b49",
   "metadata": {},
   "outputs": [
    {
     "data": {
      "text/plain": [
       "a2 := array([[ 0,  1,  2,  3,  4],\n",
       "             [ 5,  6,  7,  8,  9],\n",
       "             [10, 11, 12, 13, 14]])"
      ]
     },
     "metadata": {},
     "output_type": "display_data"
    },
    {
     "data": {
      "text/plain": [
       "---"
      ]
     },
     "metadata": {},
     "output_type": "display_data"
    },
    {
     "data": {
      "text/plain": [
       "(a2.shape) := (3, 5)"
      ]
     },
     "metadata": {},
     "output_type": "display_data"
    },
    {
     "data": {
      "text/plain": [
       "---"
      ]
     },
     "metadata": {},
     "output_type": "display_data"
    },
    {
     "name": "stdout",
     "output_type": "stream",
     "text": [
      "[0 1 2 3 4] <class 'numpy.ndarray'>\n",
      "[5 6 7 8 9] <class 'numpy.ndarray'>\n",
      "[10 11 12 13 14] <class 'numpy.ndarray'>\n"
     ]
    }
   ],
   "source": [
    "a2 = np.arange(15).reshape(3, -1) ##:\n",
    "\n",
    "a2.shape ##:\n",
    "\n",
    "# Schleife über 2d-Array: liefert Zeile in jedem Durchlauf\n",
    "for x in a2:\n",
    "    print(x, type(x))"
   ]
  },
  {
   "cell_type": "code",
   "execution_count": 164,
   "id": "23c34580",
   "metadata": {},
   "outputs": [
    {
     "data": {
      "text/plain": [
       "'a'"
      ]
     },
     "execution_count": 164,
     "metadata": {},
     "output_type": "execute_result"
    }
   ],
   "source": [
    "L[1]"
   ]
  },
  {
   "cell_type": "code",
   "execution_count": null,
   "id": "de4ba6f9",
   "metadata": {},
   "outputs": [],
   "source": [
    "# Namenskonvention\n",
    "\n",
    "# Python\n",
    "# Klassen: CamalCase\n",
    "# funktionen_klein_und_mit_unterstrich\n",
    "# variablen_auch\n",
    "# Bis auf Ausnahmen (siehe auch Pep8)"
   ]
  },
  {
   "cell_type": "code",
   "execution_count": null,
   "id": "a82b9230",
   "metadata": {},
   "outputs": [],
   "source": [
    "# args, kwargs (key word arguments), self, ... sind Konventionen "
   ]
  },
  {
   "cell_type": "code",
   "execution_count": 165,
   "id": "08815580",
   "metadata": {},
   "outputs": [
    {
     "data": {
      "text/plain": [
       "'3.11.4 (main, Jul  5 2023, 13:45:01) [GCC 11.2.0]'"
      ]
     },
     "execution_count": 165,
     "metadata": {},
     "output_type": "execute_result"
    }
   ],
   "source": [
    "import sys\n",
    "sys.version"
   ]
  },
  {
   "cell_type": "code",
   "execution_count": 171,
   "id": "aefdd84e",
   "metadata": {},
   "outputs": [],
   "source": [
    "def f1(x=None):\n",
    "    \"\"\"Funktion die nichts tut\n",
    "    \n",
    "    aber immerhin Multiline string\n",
    "    \"\"\"\n",
    "    pass"
   ]
  },
  {
   "cell_type": "code",
   "execution_count": 172,
   "id": "32745fd0",
   "metadata": {},
   "outputs": [],
   "source": [
    "f1?"
   ]
  },
  {
   "cell_type": "code",
   "execution_count": 170,
   "id": "061b6ebe",
   "metadata": {},
   "outputs": [],
   "source": [
    "from matplotlib import pyplot as plt\n",
    "\n",
    "\n",
    "plt.plot?"
   ]
  },
  {
   "cell_type": "code",
   "execution_count": 174,
   "id": "44b772e6",
   "metadata": {},
   "outputs": [],
   "source": [
    "# leere Anweisung: pass\n",
    "def f1(x=None):\n",
    "    pass"
   ]
  },
  {
   "cell_type": "code",
   "execution_count": 176,
   "id": "2e37c6d8",
   "metadata": {},
   "outputs": [],
   "source": [
    "for i in range(3):\n",
    "    pass"
   ]
  },
  {
   "cell_type": "code",
   "execution_count": 177,
   "id": "b426d421",
   "metadata": {},
   "outputs": [],
   "source": [
    "# leere Anweisung: pass\n",
    "def f1(x=None):\n",
    "    f2()\n",
    "\n",
    "def f2():\n",
    "    1/0\n"
   ]
  },
  {
   "cell_type": "code",
   "execution_count": 179,
   "id": "b53f6d63",
   "metadata": {},
   "outputs": [],
   "source": [
    "# ZeroDivisionError: division by zero\n",
    "# f1()"
   ]
  },
  {
   "cell_type": "markdown",
   "id": "13f6b815",
   "metadata": {},
   "source": [
    "# Matplotlib"
   ]
  },
  {
   "cell_type": "code",
   "execution_count": 183,
   "id": "9ee8140b",
   "metadata": {},
   "outputs": [
    {
     "data": {
      "text/plain": [
       "info(alpha) := \"<class 'numpy.ndarray'> with shape: (100,)\""
      ]
     },
     "metadata": {},
     "output_type": "display_data"
    },
    {
     "data": {
      "text/plain": [
       "---"
      ]
     },
     "metadata": {},
     "output_type": "display_data"
    },
    {
     "data": {
      "text/plain": [
       "info(y) := \"<class 'numpy.ndarray'> with shape: (100,)\""
      ]
     },
     "metadata": {},
     "output_type": "display_data"
    },
    {
     "data": {
      "text/plain": [
       "---"
      ]
     },
     "metadata": {},
     "output_type": "display_data"
    }
   ],
   "source": [
    "# Vorbereitung\n",
    "alpha = np.linspace(0, 6.28, 100)  ##:i\n",
    "y = np.sin(alpha) ##:i\n"
   ]
  },
  {
   "cell_type": "code",
   "execution_count": 186,
   "id": "cc1d94c2",
   "metadata": {},
   "outputs": [
    {
     "data": {
      "text/plain": [
       "[<matplotlib.lines.Line2D at 0x7f642596b010>]"
      ]
     },
     "execution_count": 186,
     "metadata": {},
     "output_type": "execute_result"
    },
    {
     "data": {
      "image/png": "[encoded data removed]",
      "text/plain": [
       "<Figure size 640x480 with 1 Axes>"
      ]
     },
     "metadata": {},
     "output_type": "display_data"
    }
   ],
   "source": [
    "# der wichtige Plot-Befehl:\n",
    "plt.plot(alpha, y, label=r'$\\sin(\\alpha)$')"
   ]
  },
  {
   "cell_type": "code",
   "execution_count": 188,
   "id": "f09e3843",
   "metadata": {},
   "outputs": [
    {
     "data": {
      "image/png": "[encoded data removed]",
      "text/plain": [
       "<Figure size 984.252x708.661 with 1 Axes>"
      ]
     },
     "metadata": {},
     "output_type": "display_data"
    }
   ],
   "source": [
    "\n",
    "mm = 1./25.4 # Umrechnung mm -> zoll\n",
    "fig = plt.figure(figsize=(250*mm, 180*mm)) # Abmessungen explizit vorgeben\n",
    "\n",
    "plt.plot(alpha, y, label=r'$\\sin(\\alpha)$', linewidth=3)\n",
    "plt.xlabel(r'$\\alpha$ in rad')\n",
    "plt.ylabel('$y$')\n",
    "plt.title('Sinusfunktion')\n",
    "plt.legend() # Legende einblenden\n",
    "plt.grid() # Gitterlinien einblenden\n",
    "\n",
    "plt.savefig('test.pdf') # Dateiformat wird aus Endung erkannt\n",
    "\n",
    "# im Notebook nicht notwendig, aber in einem Python-Skript\n",
    "# plt.show() # Anzeige des Bildes\n"
   ]
  },
  {
   "cell_type": "code",
   "execution_count": 189,
   "id": "02e326bc",
   "metadata": {},
   "outputs": [
    {
     "data": {
      "text/plain": [
       "'/home/ck/Nextcloud/sonstiges/SPRING-2023/spring-2023-public/material/notebooks'"
      ]
     },
     "execution_count": 189,
     "metadata": {},
     "output_type": "execute_result"
    }
   ],
   "source": [
    "# aktuelles Arbeitsverzeichnis anzeigen\n",
    "import os\n",
    "os.getcwd()"
   ]
  },
  {
   "cell_type": "code",
   "execution_count": 190,
   "id": "eb8b30e5",
   "metadata": {},
   "outputs": [
    {
     "data": {
      "text/plain": [
       "array([-1.  , -0.75, -0.5 , -0.25,  0.  ,  0.25,  0.5 ,  0.75,  1.  ])"
      ]
     },
     "execution_count": 190,
     "metadata": {},
     "output_type": "execute_result"
    }
   ],
   "source": [
    "np.linspace(-1, 1, 9)"
   ]
  },
  {
   "cell_type": "code",
   "execution_count": 191,
   "id": "38cf0ec3",
   "metadata": {},
   "outputs": [
    {
     "data": {
      "text/plain": [
       "array([1, 2, 7, 9])"
      ]
     },
     "execution_count": 191,
     "metadata": {},
     "output_type": "execute_result"
    }
   ],
   "source": [
    "np.array([1, 2, 7, 9])"
   ]
  },
  {
   "cell_type": "code",
   "execution_count": 196,
   "id": "4edb7a56",
   "metadata": {},
   "outputs": [
    {
     "data": {
      "text/plain": [
       "x := array([ 3,  6,  9, 12, 15, 18, 21])"
      ]
     },
     "metadata": {},
     "output_type": "display_data"
    },
    {
     "data": {
      "text/plain": [
       "---"
      ]
     },
     "metadata": {},
     "output_type": "display_data"
    }
   ],
   "source": [
    "x = np.arange(3, 23, 3) ##:"
   ]
  },
  {
   "cell_type": "code",
   "execution_count": 200,
   "id": "758e04f8",
   "metadata": {},
   "outputs": [
    {
     "data": {
      "text/plain": [
       "(x.T) := array([ 3,  6,  9, 12, 15, 18, 21])"
      ]
     },
     "metadata": {},
     "output_type": "display_data"
    },
    {
     "data": {
      "text/plain": [
       "---"
      ]
     },
     "metadata": {},
     "output_type": "display_data"
    },
    {
     "data": {
      "text/plain": [
       "y := array([[ 3],\n",
       "            [ 6],\n",
       "            [ 9],\n",
       "            [12],\n",
       "            [15],\n",
       "            [18],\n",
       "            [21]])"
      ]
     },
     "metadata": {},
     "output_type": "display_data"
    },
    {
     "data": {
      "text/plain": [
       "---"
      ]
     },
     "metadata": {},
     "output_type": "display_data"
    }
   ],
   "source": [
    "x.T ##:\n",
    "y = x.reshape(-1, 1) ##:\n"
   ]
  },
  {
   "cell_type": "code",
   "execution_count": 201,
   "id": "42937ec3",
   "metadata": {},
   "outputs": [
    {
     "data": {
      "text/plain": [
       "(x.shape) := (7,)"
      ]
     },
     "metadata": {},
     "output_type": "display_data"
    },
    {
     "data": {
      "text/plain": [
       "---"
      ]
     },
     "metadata": {},
     "output_type": "display_data"
    },
    {
     "data": {
      "text/plain": [
       "(y.shape) := (7, 1)"
      ]
     },
     "metadata": {},
     "output_type": "display_data"
    },
    {
     "data": {
      "text/plain": [
       "---"
      ]
     },
     "metadata": {},
     "output_type": "display_data"
    },
    {
     "data": {
      "text/plain": [
       "(y.T) := array([[ 3,  6,  9, 12, 15, 18, 21]])"
      ]
     },
     "metadata": {},
     "output_type": "display_data"
    },
    {
     "data": {
      "text/plain": [
       "---"
      ]
     },
     "metadata": {},
     "output_type": "display_data"
    },
    {
     "data": {
      "text/plain": [
       "(y.T.shape) := (1, 7)"
      ]
     },
     "metadata": {},
     "output_type": "display_data"
    },
    {
     "data": {
      "text/plain": [
       "---"
      ]
     },
     "metadata": {},
     "output_type": "display_data"
    }
   ],
   "source": [
    "x.shape ##:\n",
    "y.shape ##:\n",
    "y.T ##:\n",
    "y.T.shape ##:"
   ]
  },
  {
   "cell_type": "code",
   "execution_count": 204,
   "id": "9f095d0b",
   "metadata": {},
   "outputs": [
    {
     "data": {
      "text/plain": [
       "L := [10, 11, 12, 13, 14, 15, 16, 17, 18, 19]"
      ]
     },
     "metadata": {},
     "output_type": "display_data"
    },
    {
     "data": {
      "text/plain": [
       "---"
      ]
     },
     "metadata": {},
     "output_type": "display_data"
    },
    {
     "data": {
      "text/plain": [
       "[<matplotlib.lines.Line2D at 0x7f642567ded0>]"
      ]
     },
     "execution_count": 204,
     "metadata": {},
     "output_type": "execute_result"
    },
    {
     "data": {
      "image/png": "[encoded data removed]",
      "text/plain": [
       "<Figure size 640x480 with 1 Axes>"
      ]
     },
     "metadata": {},
     "output_type": "display_data"
    }
   ],
   "source": [
    "# eine Sequenz über ihrem Index darstellen\n",
    "L = list(range(10, 20)) ##:\n",
    "plt.plot(L)"
   ]
  },
  {
   "cell_type": "code",
   "execution_count": 206,
   "id": "b437c1fb",
   "metadata": {},
   "outputs": [
    {
     "data": {
      "text/plain": [
       "[<matplotlib.lines.Line2D at 0x7f64252a6710>]"
      ]
     },
     "execution_count": 206,
     "metadata": {},
     "output_type": "execute_result"
    },
    {
     "data": {
      "image/png": "[encoded data removed]",
      "text/plain": [
       "<Figure size 640x480 with 1 Axes>"
      ]
     },
     "metadata": {},
     "output_type": "display_data"
    }
   ],
   "source": [
    "# plot mit x und y\n",
    "\n",
    "xx = np.linspace(-10, 10) # 50 Werte\n",
    "yy = xx**2 \n",
    "plt.plot(xx, yy)"
   ]
  },
  {
   "cell_type": "code",
   "execution_count": 209,
   "id": "d07b5a9a",
   "metadata": {},
   "outputs": [
    {
     "data": {
      "text/plain": [
       "[<matplotlib.lines.Line2D at 0x7f6424267610>]"
      ]
     },
     "execution_count": 209,
     "metadata": {},
     "output_type": "execute_result"
    },
    {
     "data": {
      "image/png": "[encoded data removed]",
      "text/plain": [
       "<Figure size 640x480 with 1 Axes>"
      ]
     },
     "metadata": {},
     "output_type": "display_data"
    }
   ],
   "source": [
    "# plot mit x und y und \"styling\"\n",
    "\n",
    "xx = np.linspace(-10, 10) # 50 Werte\n",
    "yy = xx**2 \n",
    "plt.plot(xx, yy, \"r--\")\n",
    "plt.plot(xx, yy + 10, \"b:s\")\n",
    "\n",
    "# doku über plt.plot?"
   ]
  },
  {
   "cell_type": "code",
   "execution_count": 210,
   "id": "497449cd",
   "metadata": {},
   "outputs": [],
   "source": [
    "plt.plot?"
   ]
  },
  {
   "cell_type": "code",
   "execution_count": 216,
   "id": "fca0fae9",
   "metadata": {},
   "outputs": [
    {
     "name": "stdout",
     "output_type": "stream",
     "text": [
      "abc\n",
      "xyz\n"
     ]
    }
   ],
   "source": [
    "# wenn ein `r` vor einem String steht ist das ein \"raw-String\"\n",
    "\n",
    "print(\"abc\\nxyz\")"
   ]
  },
  {
   "cell_type": "code",
   "execution_count": 217,
   "id": "cbcf7875",
   "metadata": {},
   "outputs": [
    {
     "name": "stdout",
     "output_type": "stream",
     "text": [
      "abc\\nxyz\n"
     ]
    }
   ],
   "source": [
    "print(r\"abc\\nxyz\")"
   ]
  },
  {
   "cell_type": "code",
   "execution_count": 215,
   "id": "fa0b7367",
   "metadata": {},
   "outputs": [
    {
     "data": {
      "text/plain": [
       "<matplotlib.legend.Legend at 0x7f63faea35d0>"
      ]
     },
     "execution_count": 215,
     "metadata": {},
     "output_type": "execute_result"
    },
    {
     "data": {
      "image/png": "[encoded data removed]",
      "text/plain": [
       "<Figure size 640x480 with 1 Axes>"
      ]
     },
     "metadata": {},
     "output_type": "display_data"
    }
   ],
   "source": [
    "plt.plot(xx, yy + 10, \"b:s\", label=r\"$x^2 \\cdot \\frac{7}{4}$\")\n",
    "plt.legend()"
   ]
  },
  {
   "cell_type": "code",
   "execution_count": 219,
   "id": "704555aa",
   "metadata": {},
   "outputs": [
    {
     "data": {
      "image/png": "[encoded data removed]",
      "text/plain": [
       "<Figure size 640x480 with 1 Axes>"
      ]
     },
     "metadata": {},
     "output_type": "display_data"
    }
   ],
   "source": [
    "plt.plot(xx, yy + 10, \"b:s\", label=r\"$x^2 \\cdot \\frac{7}{4}$\")\n",
    "leg = plt.legend()\n",
    "\n",
    "plt.setp(leg.texts , fontsize=20)\n",
    "pass"
   ]
  },
  {
   "cell_type": "code",
   "execution_count": 228,
   "id": "107e9434",
   "metadata": {},
   "outputs": [
    {
     "data": {
      "image/png": "[encoded data removed]",
      "text/plain": [
       "<Figure size 640x480 with 1 Axes>"
      ]
     },
     "metadata": {},
     "output_type": "display_data"
    }
   ],
   "source": [
    "lines = plt.plot(xx, yy + 10, \"-\", label=r\"$x^2 \\cdot \\frac{7}{4}$\")\n",
    "\n",
    "# Eigenschaften nachträglich ändern\n",
    "myline = lines[0]\n",
    "myline.set_linewidth(20)\n"
   ]
  },
  {
   "cell_type": "code",
   "execution_count": 229,
   "id": "6fc4d401",
   "metadata": {},
   "outputs": [
    {
     "data": {
      "text/plain": [
       "(lines) := [<matplotlib.lines.Line2D at 0x7f63fa6149d0>]"
      ]
     },
     "metadata": {},
     "output_type": "display_data"
    },
    {
     "data": {
      "text/plain": [
       "---"
      ]
     },
     "metadata": {},
     "output_type": "display_data"
    },
    {
     "data": {
      "text/plain": [
       "(len(lines)) := 1"
      ]
     },
     "metadata": {},
     "output_type": "display_data"
    },
    {
     "data": {
      "text/plain": [
       "---"
      ]
     },
     "metadata": {},
     "output_type": "display_data"
    }
   ],
   "source": [
    "lines ##:\n",
    "len(lines) ##:\n"
   ]
  },
  {
   "cell_type": "code",
   "execution_count": 235,
   "id": "0af8afb4",
   "metadata": {},
   "outputs": [],
   "source": [
    "%matplotlib qt"
   ]
  },
  {
   "cell_type": "code",
   "execution_count": 236,
   "id": "03546194",
   "metadata": {},
   "outputs": [
    {
     "data": {
      "text/plain": [
       "[<matplotlib.lines.Line2D at 0x7f63f53a2550>]"
      ]
     },
     "execution_count": 236,
     "metadata": {},
     "output_type": "execute_result"
    }
   ],
   "source": [
    "# das öffnet jetzt ein interaktives Fenster \n",
    "plt.plot(xx, yy + 10, \"-\", label=r\"$x^2 \\cdot \\frac{7}{4}$\")"
   ]
  },
  {
   "cell_type": "code",
   "execution_count": 241,
   "id": "da84fa48",
   "metadata": {},
   "outputs": [],
   "source": [
    "%matplotlib inline"
   ]
  },
  {
   "cell_type": "code",
   "execution_count": 243,
   "id": "ace0d550",
   "metadata": {},
   "outputs": [
    {
     "data": {
      "text/plain": [
       "<matplotlib.legend.Legend at 0x7f642556ded0>"
      ]
     },
     "execution_count": 243,
     "metadata": {},
     "output_type": "execute_result"
    },
    {
     "data": {
      "image/png": "[encoded data removed]",
      "text/plain": [
       "<Figure size 640x480 with 1 Axes>"
      ]
     },
     "metadata": {},
     "output_type": "display_data"
    },
    {
     "data": {
      "image/png": "[encoded data removed]",
      "text/plain": [
       "<Figure size 640x480 with 1 Axes>"
      ]
     },
     "metadata": {},
     "output_type": "display_data"
    }
   ],
   "source": [
    "\n",
    "plt.plot(xx, yy + 10, \"-\", label=r\"$x^2 \\cdot \\frac{7}{4}$\")\n",
    "\n",
    "plt.figure()\n",
    "\n",
    "plt.plot(xx, -yy + 10, \"-\", label=r\"$x^2 \\cdot \\frac{7}{4}$\")\n",
    "\n",
    "plt.legend()"
   ]
  },
  {
   "cell_type": "code",
   "execution_count": 247,
   "id": "0079afb7",
   "metadata": {},
   "outputs": [
    {
     "data": {
      "text/plain": [
       "[<matplotlib.lines.Line2D at 0x7f63fa78d090>]"
      ]
     },
     "execution_count": 247,
     "metadata": {},
     "output_type": "execute_result"
    },
    {
     "data": {
      "image/png": "[encoded data removed]",
      "text/plain": [
       "<Figure size 492.126x354.331 with 2 Axes>"
      ]
     },
     "metadata": {},
     "output_type": "display_data"
    }
   ],
   "source": [
    "xx = np.linspace(-2, 2, 100)\n",
    "\n",
    "mm = 1./25.4 # Umrechnung mm -> zoll\n",
    "scale = 0.5 # Für proportionale Skalierung\n",
    "fs = np.array([250*mm, 180*mm])*scale\n",
    "\n",
    "# kleiner rechter Rand\n",
    "plt.rcParams['figure.subplot.right'] = .98\n",
    "\n",
    "# subplots: 1 Zeile, 2 Spalten\n",
    "fig, (ax1, ax2) = plt.subplots(1, 2, figsize=fs);\n",
    "\n",
    "ax1.plot(xx, xx**2)\n",
    "ax1.set_title(\"Subplot 1: $y=x^2$\")\n",
    "\n",
    "ax2.plot(xx, xx**3, lw=3)\n",
    "ax2.set_title(\"Subplot 2: $y=x^3$\")\n",
    "\n",
    "ax1.plot(xx, xx*0+3, \":k\") # gepunktete schwarze Linie bei y=3\n"
   ]
  },
  {
   "cell_type": "code",
   "execution_count": 249,
   "id": "7daf9ca6",
   "metadata": {},
   "outputs": [
    {
     "data": {
      "text/plain": [
       "(plt.plot) := <function matplotlib.pyplot.plot(*args, scalex=True, scaley=True, data=None, **kwargs)>"
      ]
     },
     "metadata": {},
     "output_type": "display_data"
    },
    {
     "data": {
      "text/plain": [
       "---"
      ]
     },
     "metadata": {},
     "output_type": "display_data"
    },
    {
     "data": {
      "text/plain": [
       "(ax1.plot) := <bound method Axes.plot of <Axes: title={'center': 'Subplot 1: $y=x^2$'}>>"
      ]
     },
     "metadata": {},
     "output_type": "display_data"
    },
    {
     "data": {
      "text/plain": [
       "---"
      ]
     },
     "metadata": {},
     "output_type": "display_data"
    },
    {
     "data": {
      "text/plain": [
       "(plt.title) := <function matplotlib.pyplot.title(label, fontdict=None, loc=None, pad=None, *, y=None, **kwargs)>"
      ]
     },
     "metadata": {},
     "output_type": "display_data"
    },
    {
     "data": {
      "text/plain": [
       "---"
      ]
     },
     "metadata": {},
     "output_type": "display_data"
    },
    {
     "data": {
      "text/plain": [
       "(ax1.set_title) := <bound method Axes.set_title of <Axes: title={'center': 'Subplot 1: $y=x^2$'}>>"
      ]
     },
     "metadata": {},
     "output_type": "display_data"
    },
    {
     "data": {
      "text/plain": [
       "---"
      ]
     },
     "metadata": {},
     "output_type": "display_data"
    }
   ],
   "source": [
    "plt.plot ##:\n",
    "ax1.plot ##:\n",
    "\n",
    "plt.title ##:\n",
    "ax1.set_title ##:"
   ]
  },
  {
   "cell_type": "code",
   "execution_count": 253,
   "id": "a4eb8ae2",
   "metadata": {},
   "outputs": [
    {
     "data": {
      "text/plain": [
       "[<matplotlib.lines.Line2D at 0x7f63ead99910>]"
      ]
     },
     "execution_count": 253,
     "metadata": {},
     "output_type": "execute_result"
    },
    {
     "data": {
      "image/png": "[encoded data removed]",
      "text/plain": [
       "<Figure size 640x480 with 1 Axes>"
      ]
     },
     "metadata": {},
     "output_type": "display_data"
    }
   ],
   "source": [
    "plt.plot(xx, xx**2, color=\"blue\")\n",
    "plt.plot(xx, xx**2 + 2, color=\"tab:blue\")"
   ]
  },
  {
   "cell_type": "markdown",
   "id": "663dbea6",
   "metadata": {},
   "source": [
    "# SciPy"
   ]
  },
  {
   "cell_type": "code",
   "execution_count": 255,
   "id": "dba4c9e4",
   "metadata": {},
   "outputs": [
    {
     "name": "stdout",
     "output_type": "stream",
     "text": [
      "[-0.72363261]\n"
     ]
    }
   ],
   "source": [
    "from scipy import optimize\n",
    "\n",
    "# Funktion der Gleichung definieren\n",
    "def fnc1(x):\n",
    "    return x + 2.3*np.cos(x) - 1\n",
    "\n",
    "# fsolve versucht x zu finden, sodass fnc1(x) gleich 0 ist\n",
    "sol = optimize.fsolve(fnc1, 0) # -> array([-0.723632])\n",
    "# Probe:\n",
    "print(sol) # -> [-0.72363261] [1.]"
   ]
  },
  {
   "cell_type": "code",
   "execution_count": 256,
   "id": "4c5efd2d",
   "metadata": {},
   "outputs": [
    {
     "data": {
      "text/plain": [
       "array([-0.72363261])"
      ]
     },
     "execution_count": 256,
     "metadata": {},
     "output_type": "execute_result"
    }
   ],
   "source": [
    "sol"
   ]
  },
  {
   "cell_type": "code",
   "execution_count": 258,
   "id": "dddd5e00",
   "metadata": {},
   "outputs": [
    {
     "data": {
      "text/plain": [
       "array([4.4408921e-16])"
      ]
     },
     "execution_count": 258,
     "metadata": {},
     "output_type": "execute_result"
    }
   ],
   "source": [
    "# fast null\n",
    "fnc1(sol)"
   ]
  },
  {
   "cell_type": "code",
   "execution_count": 265,
   "id": "bb5b15f5",
   "metadata": {},
   "outputs": [
    {
     "name": "stdout",
     "output_type": "stream",
     "text": [
      "[-0.7236326] [1.00000004]\n",
      "[3.27848339] [0.9999997]\n"
     ]
    }
   ],
   "source": [
    "def fnc2(x):\n",
    "    return (x + 2.3*np.cos(x) - 1)**2 # quadratischer Gleichungsfehler\n",
    "\n",
    "\n",
    "# minimize sucht ein x so dass fnc2(x) möglichst klein wird\n",
    "res = optimize.minimize(fnc2, 0) # Optimierung mit Startschätzung 0\n",
    "# Probe:\n",
    "print(res.x, res.x + 2.3*np.cos(res.x)) # -> [-0.7236326] [1.00000004]\n",
    "\n",
    "# mit Grenzen und veränderter Startschätzung -> andere Lösung\n",
    "res = optimize.minimize(fnc2, 3.5, bounds=[(3, 4)])\n",
    "# Probe:\n",
    "print(res.x, res.x + 2.3*np.cos(res.x)) # -> [2.03999505] [1.00000003]\n"
   ]
  },
  {
   "cell_type": "code",
   "execution_count": 266,
   "id": "43d49a20",
   "metadata": {},
   "outputs": [
    {
     "data": {
      "text/plain": [
       "[<matplotlib.lines.Line2D at 0x7f63e3fd1910>]"
      ]
     },
     "execution_count": 266,
     "metadata": {},
     "output_type": "execute_result"
    },
    {
     "data": {
      "image/png": "[encoded data removed]",
      "text/plain": [
       "<Figure size 640x480 with 1 Axes>"
      ]
     },
     "metadata": {},
     "output_type": "display_data"
    }
   ],
   "source": [
    "xx = np.linspace(-3, 5, 200)\n",
    "yy  = xx + 2.3*np.cos(xx)\n",
    "\n",
    "plt.plot(xx, yy)\n",
    "plt.plot(xx, xx*0 + 1, \"k\", lw=0.5)"
   ]
  },
  {
   "cell_type": "code",
   "execution_count": null,
   "id": "e9dbdb21",
   "metadata": {},
   "outputs": [],
   "source": []
  },
  {
   "cell_type": "markdown",
   "id": "dba4cdbd",
   "metadata": {},
   "source": [
    "## Numerische Sumulation\n",
    "\n",
    "Hintergründe in [zusatz-notebooks/Simulation_dynamischer_Systeme.ipynb](zusatz-notebooks/Simulation_dynamischer_Systeme.ipynb) "
   ]
  },
  {
   "cell_type": "code",
   "execution_count": 267,
   "id": "0a5dacd4",
   "metadata": {},
   "outputs": [
    {
     "data": {
      "text/plain": [
       "[<matplotlib.lines.Line2D at 0x7f63d8307790>]"
      ]
     },
     "execution_count": 267,
     "metadata": {},
     "output_type": "execute_result"
    },
    {
     "data": {
      "image/png": "[encoded data removed]",
      "text/plain": [
       "<Figure size 640x480 with 1 Axes>"
      ]
     },
     "metadata": {},
     "output_type": "display_data"
    }
   ],
   "source": [
    "from scipy.integrate import solve_ivp\n",
    "\n",
    "delta = .1\n",
    "omega_2 = 2**2\n",
    "def rhs(t, z):\n",
    "    \"\"\" rhs heißt 'right hand side [function]' \"\"\"\n",
    "    # Argument t muss in Signatur vorhanden sein, kann aber ignoriert werden\n",
    "    z1, z2  = z # Entpacken des Zustandsvektors in seine zwei Komponenten\n",
    "    z1_dot = z2\n",
    "    z2_dot = -(2*delta*z2 + omega_2*z1)\n",
    "    return [z1_dot, z2_dot]\n",
    "\n",
    "tt = np.arange(0, 100, .01) # unabhängige Variable (Zeit)\n",
    "z0 = [10, 0]   # Anfangszustand für z1 und z2 (=y, und y_dot)\n",
    "res = solve_ivp(rhs, (tt[0], tt[-1]), z0, t_eval=tt) # Aufruf des Integrators\n",
    "zz = res.y # Zustandsverlaufs-Array (Zeilen: Zustandskomponenten; Spalten: Zeitschritte)\n",
    "\n",
    "from matplotlib import pyplot as plt\n",
    "plt.plot(tt, zz[0, :]) # Verlauf von z1 plotten"
   ]
  },
  {
   "cell_type": "markdown",
   "id": "e51d1c42",
   "metadata": {},
   "source": [
    "## Regression und Interpolation"
   ]
  },
  {
   "cell_type": "code",
   "execution_count": 269,
   "id": "833b2689",
   "metadata": {},
   "outputs": [
    {
     "data": {
      "text/plain": [
       "x_noise := \n",
       "array([-3.42682292, -3.54673607, -3.01000275, -3.3958734 , -1.60470453,\n",
       "       -0.7622381 ,  0.339244  ,  1.0003428 ,  2.38728935,  3.21366918])"
      ]
     },
     "metadata": {},
     "output_type": "display_data"
    },
    {
     "data": {
      "text/plain": [
       "---"
      ]
     },
     "metadata": {},
     "output_type": "display_data"
    }
   ],
   "source": [
    "# Daten erzeugen\n",
    "\n",
    "import scipy as sc\n",
    "\n",
    "\n",
    "# Quelle: http://www.scipy.org/Cookbook/LinearRegression\n",
    "# angepasst\n",
    "\n",
    "#####################################################\n",
    "\n",
    "# Regression\n",
    "\n",
    "#####################################################\n",
    "\n",
    "# Erzeugung von Beispieldaten (Lineare Funktion mit Rauschen)\n",
    "n = 10\n",
    "t = np.linspace(-5, 5, n) # unabhängige Variable\n",
    "# Parameters der Nominaldaten\n",
    "a = 0.02\n",
    "b = 0.8\n",
    "c = -1\n",
    "# x = np.polyval([a, b, c], t) # alternativ: x = a*t+b\n",
    "# Nominaldaten berechnen\n",
    "x = a*t**2 + b*t + c # alternativ: np.polyval([a, b, c], t)\n",
    "\n",
    "# Zufallsgenerator initialisieren -> \"Reproduzierbren Zufall bewirken\"\n",
    "np.random.seed(3)\n",
    "# Rauschen auf Nominaldaten addieren\n",
    "x_noise = x + 0.6*np.random.randn(n) ##:\n"
   ]
  },
  {
   "cell_type": "code",
   "execution_count": 272,
   "id": "2224c510",
   "metadata": {},
   "outputs": [
    {
     "data": {
      "text/plain": [
       "(c1, c0) := (0.7276481081618166, -0.8805832433428143)"
      ]
     },
     "metadata": {},
     "output_type": "display_data"
    },
    {
     "data": {
      "text/plain": [
       "---"
      ]
     },
     "metadata": {},
     "output_type": "display_data"
    },
    {
     "data": {
      "text/plain": [
       "[<matplotlib.lines.Line2D at 0x7f63d0783150>]"
      ]
     },
     "execution_count": 272,
     "metadata": {},
     "output_type": "execute_result"
    },
    {
     "data": {
      "image/png": "[encoded data removed]",
      "text/plain": [
       "<Figure size 640x480 with 1 Axes>"
      ]
     },
     "metadata": {},
     "output_type": "display_data"
    }
   ],
   "source": [
    "# Lineare Regressison mit polyfit (Polynom vom Grad 1 -> 2 Koeffizienten: c1, c0)\n",
    "(c1, c0) = np.polyfit(t, x_noise, 1) ##:\n",
    "xr = np.polyval([c1, c0], t) # Auswertung des Polynoms mit entsprechenden Koeffs\n",
    "\n",
    "plt.plot(t, x_noise, 'ro') # Daten\n",
    "plt.plot(t, xr)"
   ]
  },
  {
   "cell_type": "code",
   "execution_count": 273,
   "id": "931b9153",
   "metadata": {},
   "outputs": [
    {
     "data": {
      "text/plain": [
       "(c2, c1, c0) := (0.05231097457876785, 0.7276481081618166, -1.4133802066450798)"
      ]
     },
     "metadata": {},
     "output_type": "display_data"
    },
    {
     "data": {
      "text/plain": [
       "---"
      ]
     },
     "metadata": {},
     "output_type": "display_data"
    },
    {
     "data": {
      "text/plain": [
       "[<matplotlib.lines.Line2D at 0x7f63d066f350>]"
      ]
     },
     "execution_count": 273,
     "metadata": {},
     "output_type": "execute_result"
    },
    {
     "data": {
      "image/png": "[encoded data removed]",
      "text/plain": [
       "<Figure size 640x480 with 1 Axes>"
      ]
     },
     "metadata": {},
     "output_type": "display_data"
    }
   ],
   "source": [
    "# Quadratische Regression (Polynom vom Grad 2 -> 3 Koeffizienten: c2, c1, c0)\n",
    "c2, c1, c0 = np.polyfit(t, x_noise, 2)  ##:\n",
    "xqr = np.polyval([c2, c1, c0], t)\n",
    "\n",
    "\n",
    "plt.plot(t, x_noise, 'ro') # Daten\n",
    "plt.plot(t, xqr)"
   ]
  },
  {
   "cell_type": "markdown",
   "id": "1b0f7d70",
   "metadata": {},
   "source": [
    "Siehe auch: <http://www.scipy.org/Cookbook/>"
   ]
  },
  {
   "cell_type": "markdown",
   "id": "cc41c31a",
   "metadata": {},
   "source": [
    "# Donnerstag"
   ]
  },
  {
   "cell_type": "markdown",
   "id": "af337cb5",
   "metadata": {},
   "source": [
    "## Imports und Namensräume"
   ]
  },
  {
   "cell_type": "code",
   "execution_count": 5,
   "id": "48a9543b",
   "metadata": {},
   "outputs": [],
   "source": [
    "import sympy"
   ]
  },
  {
   "cell_type": "code",
   "execution_count": 4,
   "id": "0f4fb3bb",
   "metadata": {},
   "outputs": [
    {
     "data": {
      "text/plain": [
       "cos"
      ]
     },
     "execution_count": 4,
     "metadata": {},
     "output_type": "execute_result"
    }
   ],
   "source": [
    "sympy.cos"
   ]
  },
  {
   "cell_type": "code",
   "execution_count": 6,
   "id": "b326d605",
   "metadata": {},
   "outputs": [],
   "source": [
    "import sympy as sp"
   ]
  },
  {
   "cell_type": "code",
   "execution_count": 7,
   "id": "91b8c83d",
   "metadata": {},
   "outputs": [
    {
     "data": {
      "text/plain": [
       "cos"
      ]
     },
     "execution_count": 7,
     "metadata": {},
     "output_type": "execute_result"
    }
   ],
   "source": [
    "sympy.cos"
   ]
  },
  {
   "cell_type": "code",
   "execution_count": 8,
   "id": "12c96080",
   "metadata": {},
   "outputs": [
    {
     "data": {
      "text/plain": [
       "cos"
      ]
     },
     "execution_count": 8,
     "metadata": {},
     "output_type": "execute_result"
    }
   ],
   "source": [
    "sp.cos"
   ]
  },
  {
   "cell_type": "code",
   "execution_count": 10,
   "id": "f4f2b4fc",
   "metadata": {},
   "outputs": [],
   "source": [
    "from sympy import cos"
   ]
  },
  {
   "cell_type": "code",
   "execution_count": 11,
   "id": "575805b1",
   "metadata": {},
   "outputs": [
    {
     "data": {
      "text/plain": [
       "cos"
      ]
     },
     "execution_count": 11,
     "metadata": {},
     "output_type": "execute_result"
    }
   ],
   "source": [
    "cos"
   ]
  },
  {
   "cell_type": "code",
   "execution_count": 16,
   "id": "1b629e0e",
   "metadata": {},
   "outputs": [],
   "source": [
    "from numpy import exp"
   ]
  },
  {
   "cell_type": "code",
   "execution_count": 17,
   "id": "6f3b90f9",
   "metadata": {},
   "outputs": [
    {
     "data": {
      "text/plain": [
       "<ufunc 'exp'>"
      ]
     },
     "execution_count": 17,
     "metadata": {},
     "output_type": "execute_result"
    }
   ],
   "source": [
    "exp"
   ]
  },
  {
   "cell_type": "code",
   "execution_count": 18,
   "id": "10e4342b",
   "metadata": {},
   "outputs": [],
   "source": [
    "from sympy import *  # Namespace pollution"
   ]
  },
  {
   "cell_type": "code",
   "execution_count": 19,
   "id": "960abab7",
   "metadata": {},
   "outputs": [
    {
     "data": {
      "text/plain": [
       "exp"
      ]
     },
     "execution_count": 19,
     "metadata": {},
     "output_type": "execute_result"
    }
   ],
   "source": [
    "exp"
   ]
  },
  {
   "cell_type": "code",
   "execution_count": 13,
   "id": "85f591c5",
   "metadata": {},
   "outputs": [
    {
     "data": {
      "text/plain": [
       "sin"
      ]
     },
     "execution_count": 13,
     "metadata": {},
     "output_type": "execute_result"
    }
   ],
   "source": [
    "sin"
   ]
  },
  {
   "cell_type": "code",
   "execution_count": 14,
   "id": "7b73eeb9",
   "metadata": {},
   "outputs": [
    {
     "data": {
      "text/plain": [
       "tan"
      ]
     },
     "execution_count": 14,
     "metadata": {},
     "output_type": "execute_result"
    }
   ],
   "source": [
    "tan"
   ]
  },
  {
   "cell_type": "code",
   "execution_count": 15,
   "id": "edd801c7",
   "metadata": {},
   "outputs": [
    {
     "data": {
      "text/plain": [
       "<function sympy.functions.elementary.miscellaneous.sqrt(arg, evaluate=None)>"
      ]
     },
     "execution_count": 15,
     "metadata": {},
     "output_type": "execute_result"
    }
   ],
   "source": [
    "sqrt"
   ]
  },
  {
   "cell_type": "code",
   "execution_count": 20,
   "id": "ee34adc2",
   "metadata": {},
   "outputs": [],
   "source": [
    "x = 7"
   ]
  },
  {
   "cell_type": "code",
   "execution_count": 21,
   "id": "e3c2ab4d",
   "metadata": {},
   "outputs": [],
   "source": [
    "x = 17"
   ]
  },
  {
   "cell_type": "code",
   "execution_count": 22,
   "id": "b3b8f4bb",
   "metadata": {},
   "outputs": [
    {
     "data": {
      "text/plain": [
       "<module 'sympy' from '/home/ck/miniconda3/lib/python3.11/site-packages/sympy/__init__.py'>"
      ]
     },
     "execution_count": 22,
     "metadata": {},
     "output_type": "execute_result"
    }
   ],
   "source": [
    "sp"
   ]
  },
  {
   "cell_type": "code",
   "execution_count": 23,
   "id": "3ca85260",
   "metadata": {},
   "outputs": [
    {
     "data": {
      "text/plain": [
       "module"
      ]
     },
     "execution_count": 23,
     "metadata": {},
     "output_type": "execute_result"
    }
   ],
   "source": [
    "type(sp)"
   ]
  },
  {
   "cell_type": "markdown",
   "id": "dea30c4c",
   "metadata": {},
   "source": [
    "## Sympy Beispiel"
   ]
  },
  {
   "cell_type": "code",
   "execution_count": 1,
   "id": "4237ce33",
   "metadata": {},
   "outputs": [],
   "source": [
    "import sympy as sp\n",
    "x = sp.Symbol('x')\n",
    "a, b, c = sp.symbols('a b c') # verschiedene Wege Symbole zu erzeugen"
   ]
  },
  {
   "cell_type": "code",
   "execution_count": 2,
   "id": "695d7226",
   "metadata": {},
   "outputs": [
    {
     "data": {
      "text/latex": [
       "$\\displaystyle a^{2} + x$"
      ],
      "text/plain": [
       "a**2 + x"
      ]
     },
     "execution_count": 2,
     "metadata": {},
     "output_type": "execute_result"
    }
   ],
   "source": [
    "x + a**2"
   ]
  },
  {
   "cell_type": "code",
   "execution_count": 3,
   "id": "bf8c6bfb",
   "metadata": {},
   "outputs": [
    {
     "data": {
      "text/latex": [
       "$\\displaystyle 10 x$"
      ],
      "text/plain": [
       "10*x"
      ]
     },
     "execution_count": 3,
     "metadata": {},
     "output_type": "execute_result"
    }
   ],
   "source": [
    "3*x + 7*x"
   ]
  },
  {
   "cell_type": "code",
   "execution_count": 4,
   "id": "e7b421e2",
   "metadata": {},
   "outputs": [
    {
     "name": "stdout",
     "output_type": "stream",
     "text": [
      "2*a*b**2*x - b*c*(2*a*b*x/c - 1/(2*b))\n",
      "c/2\n"
     ]
    }
   ],
   "source": [
    "# komplizierter Ausdruck\n",
    "z = a*b*x*b + b**2*a*x - c*b*(2*a/c*x*b-1/(b*2))\n",
    "print(z)  # -> -b*c*(-1/(2*b) + 2*a*b*x/c) + 2*a*x*b**2\n",
    "print(z.expand())  # -> c/2 (Ausmutiplizieren)"
   ]
  },
  {
   "cell_type": "code",
   "execution_count": 5,
   "id": "0c3131fc",
   "metadata": {},
   "outputs": [
    {
     "data": {
      "text/latex": [
       "$\\displaystyle 2 a b^{2} x - b c \\left(\\frac{2 a b x}{c} - \\frac{1}{2 b}\\right)$"
      ],
      "text/plain": [
       "2*a*b**2*x - b*c*(2*a*b*x/c - 1/(2*b))"
      ]
     },
     "execution_count": 5,
     "metadata": {},
     "output_type": "execute_result"
    }
   ],
   "source": [
    "z"
   ]
  },
  {
   "cell_type": "code",
   "execution_count": 6,
   "id": "bacb0b9b",
   "metadata": {},
   "outputs": [
    {
     "data": {
      "text/latex": [
       "$\\displaystyle \\frac{c}{2}$"
      ],
      "text/plain": [
       "c/2"
      ]
     },
     "execution_count": 6,
     "metadata": {},
     "output_type": "execute_result"
    }
   ],
   "source": [
    "z.expand()"
   ]
  },
  {
   "cell_type": "code",
   "execution_count": 11,
   "id": "83793039",
   "metadata": {},
   "outputs": [],
   "source": [
    "g = sp.symbols(\"alpha, psi\")"
   ]
  },
  {
   "cell_type": "code",
   "execution_count": 13,
   "id": "2e5537bd",
   "metadata": {},
   "outputs": [
    {
     "data": {
      "text/latex": [
       "$\\displaystyle \\alpha + \\psi$"
      ],
      "text/plain": [
       "alpha + psi"
      ]
     },
     "execution_count": 13,
     "metadata": {},
     "output_type": "execute_result"
    }
   ],
   "source": [
    "g[0] + g[1]"
   ]
  },
  {
   "cell_type": "code",
   "execution_count": 14,
   "id": "239a9d13",
   "metadata": {},
   "outputs": [
    {
     "name": "stdout",
     "output_type": "stream",
     "text": [
      "sqrt(a)*exp(3*x)*sin(x)\n"
     ]
    },
    {
     "data": {
      "text/latex": [
       "$\\displaystyle \\sqrt{a} e^{3 x} \\sin{\\left(x \\right)}$"
      ],
      "text/plain": [
       "sqrt(a)*exp(3*x)*sin(x)"
      ]
     },
     "execution_count": 14,
     "metadata": {},
     "output_type": "execute_result"
    }
   ],
   "source": [
    "# Funktionen anwenden:\n",
    "y = sp.sin(x)*sp.exp(3*x)*sp.sqrt(a)\n",
    "print(y) # -> a**(1/2)*exp(x)*sin(x)\n",
    "y"
   ]
  },
  {
   "cell_type": "code",
   "execution_count": 21,
   "id": "0a63fb6b",
   "metadata": {},
   "outputs": [],
   "source": [
    "# Eigene Funktionen definieren\n",
    "f1 = sp.Function('f') # -> sympy.core.function.f (nicht ausgewertet)\n",
    "g1 = sp.Function('g')(x) # -> g(x)    (Funktion ausgewertet bei x)\n"
   ]
  },
  {
   "cell_type": "code",
   "execution_count": 22,
   "id": "c7a38fca",
   "metadata": {},
   "outputs": [
    {
     "data": {
      "text/plain": [
       "f"
      ]
     },
     "execution_count": 22,
     "metadata": {},
     "output_type": "execute_result"
    }
   ],
   "source": [
    "# die unausgewertete Funktion\n",
    "f1"
   ]
  },
  {
   "cell_type": "code",
   "execution_count": 25,
   "id": "9b933198",
   "metadata": {},
   "outputs": [
    {
     "data": {
      "text/latex": [
       "$\\displaystyle f{\\left(2 a + x \\right)}$"
      ],
      "text/plain": [
       "f(2*a + x)"
      ]
     },
     "execution_count": 25,
     "metadata": {},
     "output_type": "execute_result"
    }
   ],
   "source": [
    "f1(x + a*2)"
   ]
  },
  {
   "cell_type": "code",
   "execution_count": 26,
   "id": "e352b1bf",
   "metadata": {},
   "outputs": [
    {
     "name": "stdout",
     "output_type": "stream",
     "text": [
      "3*sqrt(a)*exp(3*x)*sin(x) + sqrt(a)*exp(3*x)*cos(x)\n"
     ]
    }
   ],
   "source": [
    "\n",
    "# Differenzieren\n",
    "print(y.diff(x))  # -> 3*sqrt(a)*exp(3*x)*sin(x) + sqrt(a)*exp(3*x)*cos(x)\n"
   ]
  },
  {
   "cell_type": "code",
   "execution_count": 27,
   "id": "0000ff01",
   "metadata": {},
   "outputs": [
    {
     "data": {
      "text/latex": [
       "$\\displaystyle 3 \\sqrt{a} e^{3 x} \\sin{\\left(x \\right)} + \\sqrt{a} e^{3 x} \\cos{\\left(x \\right)}$"
      ],
      "text/plain": [
       "3*sqrt(a)*exp(3*x)*sin(x) + sqrt(a)*exp(3*x)*cos(x)"
      ]
     },
     "execution_count": 27,
     "metadata": {},
     "output_type": "execute_result"
    }
   ],
   "source": [
    "y.diff(x)"
   ]
  },
  {
   "cell_type": "code",
   "execution_count": 28,
   "id": "07f81f61",
   "metadata": {},
   "outputs": [
    {
     "name": "stdout",
     "output_type": "stream",
     "text": [
      "Derivative(g(x), x)\n"
     ]
    }
   ],
   "source": [
    "print(g1.diff(x))  # -> Derivative(g(x), x)\n"
   ]
  },
  {
   "cell_type": "code",
   "execution_count": 30,
   "id": "0da087fd",
   "metadata": {},
   "outputs": [
    {
     "data": {
      "text/latex": [
       "$\\displaystyle \\sin^{2}{\\left(x \\right)} + \\cos^{2}{\\left(x \\right)}$"
      ],
      "text/plain": [
       "sin(x)**2 + cos(x)**2"
      ]
     },
     "execution_count": 30,
     "metadata": {},
     "output_type": "execute_result"
    }
   ],
   "source": [
    "\n",
    "\n",
    "\n",
    "# Vereinfachungen:\n",
    "\n",
    "summe = sp.sin(x)**2+sp.cos(x)**2\n",
    "summe"
   ]
  },
  {
   "cell_type": "code",
   "execution_count": 31,
   "id": "23208d48",
   "metadata": {},
   "outputs": [
    {
     "data": {
      "text/latex": [
       "$\\displaystyle 1$"
      ],
      "text/plain": [
       "1"
      ]
     },
     "execution_count": 31,
     "metadata": {},
     "output_type": "execute_result"
    }
   ],
   "source": [
    "sp.trigsimp(summe)"
   ]
  },
  {
   "cell_type": "markdown",
   "id": "5f20efe8",
   "metadata": {},
   "source": [
    "## Subs"
   ]
  },
  {
   "cell_type": "code",
   "execution_count": 32,
   "id": "ce649002",
   "metadata": {},
   "outputs": [],
   "source": [
    "%load_ext ipydex.displaytools"
   ]
  },
  {
   "cell_type": "code",
   "execution_count": 33,
   "id": "79d66751",
   "metadata": {},
   "outputs": [
    {
     "data": {
      "text/latex": [
       "q := $\\displaystyle a + b + c$"
      ],
      "text/plain": [
       "q := a + b + c"
      ]
     },
     "metadata": {},
     "output_type": "display_data"
    },
    {
     "data": {
      "text/plain": [
       "---"
      ]
     },
     "metadata": {},
     "output_type": "display_data"
    }
   ],
   "source": [
    "q = a + b + c ##:"
   ]
  },
  {
   "cell_type": "code",
   "execution_count": 35,
   "id": "f29248c6",
   "metadata": {},
   "outputs": [
    {
     "data": {
      "text/latex": [
       "(q.subs(a, x**2)) := $\\displaystyle b + c + x^{2}$"
      ],
      "text/plain": [
       "(q.subs(a, x**2)) := b + c + x**2"
      ]
     },
     "metadata": {},
     "output_type": "display_data"
    },
    {
     "data": {
      "text/plain": [
       "---"
      ]
     },
     "metadata": {},
     "output_type": "display_data"
    },
    {
     "data": {
      "text/latex": [
       "(q) := $\\displaystyle a + b + c$"
      ],
      "text/plain": [
       "(q) := a + b + c"
      ]
     },
     "metadata": {},
     "output_type": "display_data"
    },
    {
     "data": {
      "text/plain": [
       "---"
      ]
     },
     "metadata": {},
     "output_type": "display_data"
    }
   ],
   "source": [
    "q.subs(a, x**2) ##:\n",
    "q ##:"
   ]
  },
  {
   "cell_type": "code",
   "execution_count": 37,
   "id": "7a625b53",
   "metadata": {},
   "outputs": [
    {
     "data": {
      "text/plain": [
       "s := 'hallo welt'"
      ]
     },
     "metadata": {},
     "output_type": "display_data"
    },
    {
     "data": {
      "text/plain": [
       "---"
      ]
     },
     "metadata": {},
     "output_type": "display_data"
    },
    {
     "data": {
      "text/plain": [
       "(s.replace('e', 'ä')) := 'hallo wält'"
      ]
     },
     "metadata": {},
     "output_type": "display_data"
    },
    {
     "data": {
      "text/plain": [
       "---"
      ]
     },
     "metadata": {},
     "output_type": "display_data"
    },
    {
     "data": {
      "text/plain": [
       "(s) := 'hallo welt'"
      ]
     },
     "metadata": {},
     "output_type": "display_data"
    },
    {
     "data": {
      "text/plain": [
       "---"
      ]
     },
     "metadata": {},
     "output_type": "display_data"
    }
   ],
   "source": [
    "# analaog\n",
    "s = \"hallo welt\" ##:\n",
    "s.replace('e', 'ä') ##:\n",
    "s ##:"
   ]
  },
  {
   "cell_type": "code",
   "execution_count": 39,
   "id": "77f92803",
   "metadata": {},
   "outputs": [
    {
     "data": {
      "text/latex": [
       "$\\displaystyle c + e^{x} + \\sin{\\left(x \\right)}$"
      ],
      "text/plain": [
       "c + exp(x) + sin(x)"
      ]
     },
     "execution_count": 39,
     "metadata": {},
     "output_type": "execute_result"
    }
   ],
   "source": [
    "# subs mit Liste von 2-Tupeln\n",
    "q.subs([(a, sp.sin(x)), (b, sp.exp(x))])"
   ]
  },
  {
   "cell_type": "markdown",
   "id": "ed11614b",
   "metadata": {},
   "source": [
    "## numerische Formelauswertung"
   ]
  },
  {
   "cell_type": "code",
   "execution_count": 47,
   "id": "710c8864",
   "metadata": {},
   "outputs": [
    {
     "data": {
      "text/latex": [
       "(q.subs([(a, 1), (b, 20), (c, 500)])) := $\\displaystyle 521$"
      ],
      "text/plain": [
       "(q.subs([(a, 1), (b, 20), (c, 500)])) := 521"
      ]
     },
     "metadata": {},
     "output_type": "display_data"
    },
    {
     "data": {
      "text/plain": [
       "---"
      ]
     },
     "metadata": {},
     "output_type": "display_data"
    },
    {
     "data": {
      "text/latex": [
       "(q.subs([(a, sp.pi), (b, 20), (c, 500)])) := $\\displaystyle \\pi + 520$"
      ],
      "text/plain": [
       "(q.subs([(a, sp.pi), (b, 20), (c, 500)])) := pi + 520"
      ]
     },
     "metadata": {},
     "output_type": "display_data"
    },
    {
     "data": {
      "text/plain": [
       "---"
      ]
     },
     "metadata": {},
     "output_type": "display_data"
    },
    {
     "data": {
      "text/latex": [
       "(q.subs([(a, sp.pi), (b, 20), (c, 500)]).evalf()) := $\\displaystyle 523.14159265359$"
      ],
      "text/plain": [
       "(q.subs([(a, sp.pi), (b, 20), (c, 500)]).evalf()) := 523.141592653590"
      ]
     },
     "metadata": {},
     "output_type": "display_data"
    },
    {
     "data": {
      "text/plain": [
       "---"
      ]
     },
     "metadata": {},
     "output_type": "display_data"
    },
    {
     "data": {
      "text/latex": [
       "(q.subs([(a, sp.pi), (b, 20), (c, 500)]).evalf(n=200)) := $\\displaystyle 523.14159265358979323846264338327950288419716939937510582097494459230781640628620899862803482534211706798214808651328230664709384460955058223172535940812848111745028410270193852110555964462294895493038$"
      ],
      "text/plain": [
       "(q.subs([(a, sp.pi), (b, 20), (c, 500)]).evalf(n=200)) := 523.14159265358979323846264338327950288419716939937510582097494459230781640628620899862803482534211706798214808651328230664709384460955058223172535940812848111745028410270193852110555964462294895493038"
      ]
     },
     "metadata": {},
     "output_type": "display_data"
    },
    {
     "data": {
      "text/plain": [
       "---"
      ]
     },
     "metadata": {},
     "output_type": "display_data"
    }
   ],
   "source": [
    "q.subs([(a, 1), (b, 20), (c, 500)]) ##:\n",
    "\n",
    "q.subs([(a, sp.pi), (b, 20), (c, 500)]) ##:\n",
    "\n",
    "\n",
    "# als float evaluieren\n",
    "q.subs([(a, sp.pi), (b, 20), (c, 500)]).evalf() ##:\n",
    "\n",
    "\n",
    "# wer es genau wissen will: Anzahl der Nachkommastellen festlegen\n",
    "q.subs([(a, sp.pi), (b, 20), (c, 500)]).evalf(n=200) ##:"
   ]
  },
  {
   "cell_type": "code",
   "execution_count": 48,
   "id": "cacc6d80",
   "metadata": {},
   "outputs": [],
   "source": [
    "# performanterer Weg über lambdify"
   ]
  },
  {
   "cell_type": "code",
   "execution_count": 49,
   "id": "02a55e2e",
   "metadata": {},
   "outputs": [],
   "source": [
    "# \"Wegwerfunktionen\" (ohne def)\n",
    "h = lambda z: z+10"
   ]
  },
  {
   "cell_type": "code",
   "execution_count": 50,
   "id": "3d8a4b24",
   "metadata": {},
   "outputs": [
    {
     "data": {
      "text/plain": [
       "10.1"
      ]
     },
     "execution_count": 50,
     "metadata": {},
     "output_type": "execute_result"
    }
   ],
   "source": [
    "h(0.1)"
   ]
  },
  {
   "cell_type": "code",
   "execution_count": 51,
   "id": "395da8db",
   "metadata": {},
   "outputs": [
    {
     "data": {
      "text/plain": [
       "210"
      ]
     },
     "execution_count": 51,
     "metadata": {},
     "output_type": "execute_result"
    }
   ],
   "source": [
    "# lambdafunktionen brauchen keinen Namen (anonym)\n",
    "(lambda z: z+10)(200)"
   ]
  },
  {
   "cell_type": "code",
   "execution_count": 52,
   "id": "7292609b",
   "metadata": {},
   "outputs": [
    {
     "data": {
      "text/latex": [
       "(q) := $\\displaystyle a + b + c$"
      ],
      "text/plain": [
       "(q) := a + b + c"
      ]
     },
     "metadata": {},
     "output_type": "display_data"
    },
    {
     "data": {
      "text/plain": [
       "---"
      ]
     },
     "metadata": {},
     "output_type": "display_data"
    }
   ],
   "source": [
    "q ##:"
   ]
  },
  {
   "cell_type": "code",
   "execution_count": 54,
   "id": "d2f3ca12",
   "metadata": {},
   "outputs": [],
   "source": [
    "# zurück zu sympy:\n",
    "# Formel in ausführbaren Pythoncode umwandeln\n",
    "q_fnc = sp.lambdify((a, b, c), q, modules=\"numpy\")"
   ]
  },
  {
   "cell_type": "code",
   "execution_count": 55,
   "id": "8bf88dab",
   "metadata": {},
   "outputs": [
    {
     "data": {
      "text/plain": [
       "3110"
      ]
     },
     "execution_count": 55,
     "metadata": {},
     "output_type": "execute_result"
    }
   ],
   "source": [
    "q_fnc(10, 100, 3000)"
   ]
  },
  {
   "cell_type": "code",
   "execution_count": 56,
   "id": "243da56a",
   "metadata": {},
   "outputs": [],
   "source": [
    "import numpy as np"
   ]
  },
  {
   "cell_type": "code",
   "execution_count": 57,
   "id": "f7e096d8",
   "metadata": {},
   "outputs": [
    {
     "data": {
      "text/plain": [
       "xx := \n",
       "array([-1. , -0.8, -0.6, -0.4, -0.2,  0. ,  0.2,  0.4,  0.6,  0.8,  1. ])"
      ]
     },
     "metadata": {},
     "output_type": "display_data"
    },
    {
     "data": {
      "text/plain": [
       "---"
      ]
     },
     "metadata": {},
     "output_type": "display_data"
    }
   ],
   "source": [
    "xx = np.linspace(-1, 1, 11) ##:"
   ]
  },
  {
   "cell_type": "code",
   "execution_count": 58,
   "id": "ccf3f50f",
   "metadata": {},
   "outputs": [
    {
     "data": {
      "text/plain": [
       "array([ 9. ,  9.2,  9.4,  9.6,  9.8, 10. , 10.2, 10.4, 10.6, 10.8, 11. ])"
      ]
     },
     "execution_count": 58,
     "metadata": {},
     "output_type": "execute_result"
    }
   ],
   "source": [
    "q_fnc(0, 10, xx)"
   ]
  },
  {
   "cell_type": "markdown",
   "id": "123ab8c5",
   "metadata": {},
   "source": [
    "# Pandas"
   ]
  },
  {
   "cell_type": "code",
   "execution_count": 59,
   "id": "c704628e",
   "metadata": {},
   "outputs": [],
   "source": [
    "import pandas as pd\n",
    "import numpy as np\n"
   ]
  },
  {
   "cell_type": "code",
   "execution_count": 63,
   "id": "0328d35f",
   "metadata": {},
   "outputs": [
    {
     "data": {
      "text/html": [
       "<div>\n",
       "<style scoped>\n",
       "    .dataframe tbody tr th:only-of-type {\n",
       "        vertical-align: middle;\n",
       "    }\n",
       "\n",
       "    .dataframe tbody tr th {\n",
       "        vertical-align: top;\n",
       "    }\n",
       "\n",
       "    .dataframe thead th {\n",
       "        text-align: right;\n",
       "    }\n",
       "</style>\n",
       "<table border=\"1\" class=\"dataframe\">\n",
       "  <thead>\n",
       "    <tr style=\"text-align: right;\">\n",
       "      <th></th>\n",
       "      <th>0</th>\n",
       "      <th>1</th>\n",
       "      <th>2</th>\n",
       "      <th>3</th>\n",
       "    </tr>\n",
       "  </thead>\n",
       "  <tbody>\n",
       "    <tr>\n",
       "      <th>0</th>\n",
       "      <td>0.743292</td>\n",
       "      <td>0.620914</td>\n",
       "      <td>-0.189010</td>\n",
       "      <td>0.403686</td>\n",
       "    </tr>\n",
       "    <tr>\n",
       "      <th>1</th>\n",
       "      <td>0.325261</td>\n",
       "      <td>1.797797</td>\n",
       "      <td>0.514141</td>\n",
       "      <td>-0.833523</td>\n",
       "    </tr>\n",
       "    <tr>\n",
       "      <th>2</th>\n",
       "      <td>-0.542135</td>\n",
       "      <td>-0.569621</td>\n",
       "      <td>-0.535046</td>\n",
       "      <td>-1.076943</td>\n",
       "    </tr>\n",
       "    <tr>\n",
       "      <th>3</th>\n",
       "      <td>0.711064</td>\n",
       "      <td>0.476424</td>\n",
       "      <td>-0.134608</td>\n",
       "      <td>0.010429</td>\n",
       "    </tr>\n",
       "    <tr>\n",
       "      <th>4</th>\n",
       "      <td>-0.347632</td>\n",
       "      <td>-0.817189</td>\n",
       "      <td>-0.623981</td>\n",
       "      <td>-0.609991</td>\n",
       "    </tr>\n",
       "    <tr>\n",
       "      <th>5</th>\n",
       "      <td>0.700365</td>\n",
       "      <td>0.654300</td>\n",
       "      <td>0.739794</td>\n",
       "      <td>0.073242</td>\n",
       "    </tr>\n",
       "  </tbody>\n",
       "</table>\n",
       "</div>"
      ],
      "text/plain": [
       "df0 :=           0         1         2         3\n",
       "0  0.743292  0.620914 -0.189010  0.403686\n",
       "1  0.325261  1.797797  0.514141 -0.833523\n",
       "2 -0.542135 -0.569621 -0.535046 -1.076943\n",
       "3  0.711064  0.476424 -0.134608  0.010429\n",
       "4 -0.347632 -0.817189 -0.623981 -0.609991\n",
       "5  0.700365  0.654300  0.739794  0.073242"
      ]
     },
     "metadata": {},
     "output_type": "display_data"
    },
    {
     "data": {
      "text/plain": [
       "---"
      ]
     },
     "metadata": {},
     "output_type": "display_data"
    },
    {
     "data": {
      "text/html": [
       "<div>\n",
       "<style scoped>\n",
       "    .dataframe tbody tr th:only-of-type {\n",
       "        vertical-align: middle;\n",
       "    }\n",
       "\n",
       "    .dataframe tbody tr th {\n",
       "        vertical-align: top;\n",
       "    }\n",
       "\n",
       "    .dataframe thead th {\n",
       "        text-align: right;\n",
       "    }\n",
       "</style>\n",
       "<table border=\"1\" class=\"dataframe\">\n",
       "  <thead>\n",
       "    <tr style=\"text-align: right;\">\n",
       "      <th></th>\n",
       "      <th>A</th>\n",
       "      <th>B</th>\n",
       "      <th>C</th>\n",
       "      <th>D</th>\n",
       "    </tr>\n",
       "  </thead>\n",
       "  <tbody>\n",
       "    <tr>\n",
       "      <th>0</th>\n",
       "      <td>0.743292</td>\n",
       "      <td>0.620914</td>\n",
       "      <td>-0.189010</td>\n",
       "      <td>0.403686</td>\n",
       "    </tr>\n",
       "    <tr>\n",
       "      <th>1</th>\n",
       "      <td>0.325261</td>\n",
       "      <td>1.797797</td>\n",
       "      <td>0.514141</td>\n",
       "      <td>-0.833523</td>\n",
       "    </tr>\n",
       "    <tr>\n",
       "      <th>2</th>\n",
       "      <td>-0.542135</td>\n",
       "      <td>-0.569621</td>\n",
       "      <td>-0.535046</td>\n",
       "      <td>-1.076943</td>\n",
       "    </tr>\n",
       "    <tr>\n",
       "      <th>3</th>\n",
       "      <td>0.711064</td>\n",
       "      <td>0.476424</td>\n",
       "      <td>-0.134608</td>\n",
       "      <td>0.010429</td>\n",
       "    </tr>\n",
       "    <tr>\n",
       "      <th>4</th>\n",
       "      <td>-0.347632</td>\n",
       "      <td>-0.817189</td>\n",
       "      <td>-0.623981</td>\n",
       "      <td>-0.609991</td>\n",
       "    </tr>\n",
       "    <tr>\n",
       "      <th>5</th>\n",
       "      <td>0.700365</td>\n",
       "      <td>0.654300</td>\n",
       "      <td>0.739794</td>\n",
       "      <td>0.073242</td>\n",
       "    </tr>\n",
       "  </tbody>\n",
       "</table>\n",
       "</div>"
      ],
      "text/plain": [
       "df1 :=           A         B         C         D\n",
       "0  0.743292  0.620914 -0.189010  0.403686\n",
       "1  0.325261  1.797797  0.514141 -0.833523\n",
       "2 -0.542135 -0.569621 -0.535046 -1.076943\n",
       "3  0.711064  0.476424 -0.134608  0.010429\n",
       "4 -0.347632 -0.817189 -0.623981 -0.609991\n",
       "5  0.700365  0.654300  0.739794  0.073242"
      ]
     },
     "metadata": {},
     "output_type": "display_data"
    },
    {
     "data": {
      "text/plain": [
       "---"
      ]
     },
     "metadata": {},
     "output_type": "display_data"
    }
   ],
   "source": [
    "\n",
    "# aus einem Array:\n",
    "arr = np.random.randn(6, 4)\n",
    "df0 = pd.DataFrame(arr) ##:\n",
    "\n",
    "df1 = pd.DataFrame(arr, columns=list(\"ABCD\")) ##:\n"
   ]
  },
  {
   "cell_type": "code",
   "execution_count": 65,
   "id": "04d9a5fb",
   "metadata": {},
   "outputs": [
    {
     "data": {
      "text/plain": [
       "(dinge) := {'Gewicht': [10.1, 5.0, 8.3, 7.2],\n",
       " 'Farbe': ['rot', 'grün', 'blau', 'transparent'],\n",
       " 'Verfügbarkeit': [False, True, True, False],\n",
       " 'Preis': 8.99}"
      ]
     },
     "metadata": {},
     "output_type": "display_data"
    },
    {
     "data": {
      "text/plain": [
       "---"
      ]
     },
     "metadata": {},
     "output_type": "display_data"
    },
    {
     "data": {
      "text/html": [
       "<div>\n",
       "<style scoped>\n",
       "    .dataframe tbody tr th:only-of-type {\n",
       "        vertical-align: middle;\n",
       "    }\n",
       "\n",
       "    .dataframe tbody tr th {\n",
       "        vertical-align: top;\n",
       "    }\n",
       "\n",
       "    .dataframe thead th {\n",
       "        text-align: right;\n",
       "    }\n",
       "</style>\n",
       "<table border=\"1\" class=\"dataframe\">\n",
       "  <thead>\n",
       "    <tr style=\"text-align: right;\">\n",
       "      <th></th>\n",
       "      <th>Gewicht</th>\n",
       "      <th>Farbe</th>\n",
       "      <th>Verfügbarkeit</th>\n",
       "      <th>Preis</th>\n",
       "    </tr>\n",
       "  </thead>\n",
       "  <tbody>\n",
       "    <tr>\n",
       "      <th>0</th>\n",
       "      <td>10.1</td>\n",
       "      <td>rot</td>\n",
       "      <td>False</td>\n",
       "      <td>8.99</td>\n",
       "    </tr>\n",
       "    <tr>\n",
       "      <th>1</th>\n",
       "      <td>5.0</td>\n",
       "      <td>grün</td>\n",
       "      <td>True</td>\n",
       "      <td>8.99</td>\n",
       "    </tr>\n",
       "    <tr>\n",
       "      <th>2</th>\n",
       "      <td>8.3</td>\n",
       "      <td>blau</td>\n",
       "      <td>True</td>\n",
       "      <td>8.99</td>\n",
       "    </tr>\n",
       "    <tr>\n",
       "      <th>3</th>\n",
       "      <td>7.2</td>\n",
       "      <td>transparent</td>\n",
       "      <td>False</td>\n",
       "      <td>8.99</td>\n",
       "    </tr>\n",
       "  </tbody>\n",
       "</table>\n",
       "</div>"
      ],
      "text/plain": [
       "df2a :=    Gewicht        Farbe  Verfügbarkeit  Preis\n",
       "0     10.1          rot          False   8.99\n",
       "1      5.0         grün           True   8.99\n",
       "2      8.3         blau           True   8.99\n",
       "3      7.2  transparent          False   8.99"
      ]
     },
     "metadata": {},
     "output_type": "display_data"
    },
    {
     "data": {
      "text/plain": [
       "---"
      ]
     },
     "metadata": {},
     "output_type": "display_data"
    },
    {
     "data": {
      "text/html": [
       "<div>\n",
       "<style scoped>\n",
       "    .dataframe tbody tr th:only-of-type {\n",
       "        vertical-align: middle;\n",
       "    }\n",
       "\n",
       "    .dataframe tbody tr th {\n",
       "        vertical-align: top;\n",
       "    }\n",
       "\n",
       "    .dataframe thead th {\n",
       "        text-align: right;\n",
       "    }\n",
       "</style>\n",
       "<table border=\"1\" class=\"dataframe\">\n",
       "  <thead>\n",
       "    <tr style=\"text-align: right;\">\n",
       "      <th></th>\n",
       "      <th>Gewicht</th>\n",
       "      <th>Farbe</th>\n",
       "      <th>Verfügbarkeit</th>\n",
       "      <th>Preis</th>\n",
       "    </tr>\n",
       "  </thead>\n",
       "  <tbody>\n",
       "    <tr>\n",
       "      <th>A107</th>\n",
       "      <td>10.1</td>\n",
       "      <td>rot</td>\n",
       "      <td>False</td>\n",
       "      <td>8.99</td>\n",
       "    </tr>\n",
       "    <tr>\n",
       "      <th>A108</th>\n",
       "      <td>5.0</td>\n",
       "      <td>grün</td>\n",
       "      <td>True</td>\n",
       "      <td>8.99</td>\n",
       "    </tr>\n",
       "    <tr>\n",
       "      <th>A109</th>\n",
       "      <td>8.3</td>\n",
       "      <td>blau</td>\n",
       "      <td>True</td>\n",
       "      <td>8.99</td>\n",
       "    </tr>\n",
       "    <tr>\n",
       "      <th>A110</th>\n",
       "      <td>7.2</td>\n",
       "      <td>transparent</td>\n",
       "      <td>False</td>\n",
       "      <td>8.99</td>\n",
       "    </tr>\n",
       "  </tbody>\n",
       "</table>\n",
       "</div>"
      ],
      "text/plain": [
       "df2 :=       Gewicht        Farbe  Verfügbarkeit  Preis\n",
       "A107     10.1          rot          False   8.99\n",
       "A108      5.0         grün           True   8.99\n",
       "A109      8.3         blau           True   8.99\n",
       "A110      7.2  transparent          False   8.99"
      ]
     },
     "metadata": {},
     "output_type": "display_data"
    },
    {
     "data": {
      "text/plain": [
       "---"
      ]
     },
     "metadata": {},
     "output_type": "display_data"
    }
   ],
   "source": [
    "\n",
    "# aus einem Dictionary\n",
    "dinge = {\n",
    "    \"Gewicht\": [10.1, 5.0, 8.3, 7.2],\n",
    "    \"Farbe\": [\"rot\", \"grün\", \"blau\", \"transparent\"],\n",
    "    \"Verfügbarkeit\": [False, True, True, False],\n",
    "    \"Preis\": 8.99 # alle kosten gleich viel\n",
    "}\n",
    "\n",
    "dinge ##:\n",
    "\n",
    "artikelnummern = [\"A107\", \"A108\", \"A109\", \"A110\"]\n",
    "df2a = pd.DataFrame(dinge) ##:\n",
    "\n",
    "df2 = pd.DataFrame(dinge, index=artikelnummern) ##:\n",
    "\n",
    "\n"
   ]
  },
  {
   "cell_type": "code",
   "execution_count": 66,
   "id": "2724a766",
   "metadata": {},
   "outputs": [
    {
     "name": "stdout",
     "output_type": "stream",
     "text": [
      "Gewicht          float64\n",
      "Farbe             object\n",
      "Verfügbarkeit       bool\n",
      "Preis            float64\n",
      "dtype: object\n"
     ]
    }
   ],
   "source": [
    "# jede Spalten kann eingenen Datentyp haben\n",
    "print(df2.dtypes)"
   ]
  },
  {
   "cell_type": "code",
   "execution_count": 67,
   "id": "b0834b1b",
   "metadata": {},
   "outputs": [],
   "source": [
    "# als CSV-Datei speichern\n",
    "df2.to_csv(\"dinge.csv\")\n"
   ]
  },
  {
   "cell_type": "code",
   "execution_count": 71,
   "id": "d517c188",
   "metadata": {},
   "outputs": [
    {
     "name": "stdout",
     "output_type": "stream",
     "text": [
      "00_demo.ipynb\t\t\t\t    01_Uebung.ipynb  img\r\n",
      "00_demo-work.ipynb\t\t\t    02_Uebung.ipynb  noten.csv\r\n",
      "01_live_dienstag.html\t\t\t    03_Uebung.ipynb  zusatz-notebooks\r\n",
      "01_live_dienstag_mittwoch_donnerstag.ipynb  data\r\n",
      "01_live_dienstag_mittwoch.html\t\t    dinge.csv\r\n"
     ]
    }
   ],
   "source": [
    "# System-Kommando ausführen (Vorsicht)\n",
    "# (ls zeigt Inhalt des aktuellen Verzeichnisses)\n",
    "!dir\n",
    "\n",
    "# Linux:\n",
    "# !ls\n",
    "# !pwd\n"
   ]
  },
  {
   "cell_type": "code",
   "execution_count": 72,
   "id": "46efb596",
   "metadata": {},
   "outputs": [
    {
     "name": "stdout",
     "output_type": "stream",
     "text": [
      ",Gewicht,Farbe,Verfügbarkeit,Preis\n",
      "A107,10.1,rot,False,8.99\n",
      "A108,5.0,grün,True,8.99\n",
      "A109,8.3,blau,True,8.99\n",
      "A110,7.2,transparent,False,8.99\n",
      "\n"
     ]
    }
   ],
   "source": [
    "# Datei laden (Python allgemein (unabhängig von Pandas))\n",
    "fname = \"dinge.csv\"\n",
    "with open(fname, \"r\") as csv_file:\n",
    "    txt = csv_file.read()\n",
    "print(txt)\n",
    "\n",
    "\n",
    "# nur zur Anzeige des Dateiinhaltes"
   ]
  },
  {
   "cell_type": "code",
   "execution_count": 73,
   "id": "1d786211",
   "metadata": {},
   "outputs": [],
   "source": [
    "# Pandas-Funktion um Daten in DataFrame zu laden\n",
    "# (Erkennt Spaltenüberschriften automatisch)\n",
    "df2_new = pd.read_csv(fname)"
   ]
  },
  {
   "cell_type": "code",
   "execution_count": 74,
   "id": "11819340",
   "metadata": {},
   "outputs": [
    {
     "data": {
      "text/html": [
       "<div>\n",
       "<style scoped>\n",
       "    .dataframe tbody tr th:only-of-type {\n",
       "        vertical-align: middle;\n",
       "    }\n",
       "\n",
       "    .dataframe tbody tr th {\n",
       "        vertical-align: top;\n",
       "    }\n",
       "\n",
       "    .dataframe thead th {\n",
       "        text-align: right;\n",
       "    }\n",
       "</style>\n",
       "<table border=\"1\" class=\"dataframe\">\n",
       "  <thead>\n",
       "    <tr style=\"text-align: right;\">\n",
       "      <th></th>\n",
       "      <th>Unnamed: 0</th>\n",
       "      <th>Gewicht</th>\n",
       "      <th>Farbe</th>\n",
       "      <th>Verfügbarkeit</th>\n",
       "      <th>Preis</th>\n",
       "    </tr>\n",
       "  </thead>\n",
       "  <tbody>\n",
       "    <tr>\n",
       "      <th>0</th>\n",
       "      <td>A107</td>\n",
       "      <td>10.1</td>\n",
       "      <td>rot</td>\n",
       "      <td>False</td>\n",
       "      <td>8.99</td>\n",
       "    </tr>\n",
       "    <tr>\n",
       "      <th>1</th>\n",
       "      <td>A108</td>\n",
       "      <td>5.0</td>\n",
       "      <td>grün</td>\n",
       "      <td>True</td>\n",
       "      <td>8.99</td>\n",
       "    </tr>\n",
       "    <tr>\n",
       "      <th>2</th>\n",
       "      <td>A109</td>\n",
       "      <td>8.3</td>\n",
       "      <td>blau</td>\n",
       "      <td>True</td>\n",
       "      <td>8.99</td>\n",
       "    </tr>\n",
       "    <tr>\n",
       "      <th>3</th>\n",
       "      <td>A110</td>\n",
       "      <td>7.2</td>\n",
       "      <td>transparent</td>\n",
       "      <td>False</td>\n",
       "      <td>8.99</td>\n",
       "    </tr>\n",
       "  </tbody>\n",
       "</table>\n",
       "</div>"
      ],
      "text/plain": [
       "  Unnamed: 0  Gewicht        Farbe  Verfügbarkeit  Preis\n",
       "0       A107     10.1          rot          False   8.99\n",
       "1       A108      5.0         grün           True   8.99\n",
       "2       A109      8.3         blau           True   8.99\n",
       "3       A110      7.2  transparent          False   8.99"
      ]
     },
     "metadata": {},
     "output_type": "display_data"
    }
   ],
   "source": [
    "from IPython.display import display\n",
    "display(df2_new)  # Jupyter-Notebook-spezifische Anzeige\n"
   ]
  },
  {
   "cell_type": "code",
   "execution_count": 75,
   "id": "2b359070",
   "metadata": {},
   "outputs": [
    {
     "data": {
      "text/html": [
       "<div>\n",
       "<style scoped>\n",
       "    .dataframe tbody tr th:only-of-type {\n",
       "        vertical-align: middle;\n",
       "    }\n",
       "\n",
       "    .dataframe tbody tr th {\n",
       "        vertical-align: top;\n",
       "    }\n",
       "\n",
       "    .dataframe thead th {\n",
       "        text-align: right;\n",
       "    }\n",
       "</style>\n",
       "<table border=\"1\" class=\"dataframe\">\n",
       "  <thead>\n",
       "    <tr style=\"text-align: right;\">\n",
       "      <th></th>\n",
       "      <th>Unnamed: 0</th>\n",
       "      <th>Gewicht</th>\n",
       "      <th>Farbe</th>\n",
       "      <th>Verfügbarkeit</th>\n",
       "      <th>Preis</th>\n",
       "    </tr>\n",
       "  </thead>\n",
       "  <tbody>\n",
       "    <tr>\n",
       "      <th>0</th>\n",
       "      <td>A107</td>\n",
       "      <td>10.1</td>\n",
       "      <td>rot</td>\n",
       "      <td>False</td>\n",
       "      <td>8.99</td>\n",
       "    </tr>\n",
       "    <tr>\n",
       "      <th>1</th>\n",
       "      <td>A108</td>\n",
       "      <td>5.0</td>\n",
       "      <td>grün</td>\n",
       "      <td>True</td>\n",
       "      <td>8.99</td>\n",
       "    </tr>\n",
       "    <tr>\n",
       "      <th>2</th>\n",
       "      <td>A109</td>\n",
       "      <td>8.3</td>\n",
       "      <td>blau</td>\n",
       "      <td>True</td>\n",
       "      <td>8.99</td>\n",
       "    </tr>\n",
       "    <tr>\n",
       "      <th>3</th>\n",
       "      <td>A110</td>\n",
       "      <td>7.2</td>\n",
       "      <td>transparent</td>\n",
       "      <td>False</td>\n",
       "      <td>8.99</td>\n",
       "    </tr>\n",
       "  </tbody>\n",
       "</table>\n",
       "</div>"
      ],
      "text/plain": [
       "(df2_new) :=   Unnamed: 0  Gewicht        Farbe  Verfügbarkeit  Preis\n",
       "0       A107     10.1          rot          False   8.99\n",
       "1       A108      5.0         grün           True   8.99\n",
       "2       A109      8.3         blau           True   8.99\n",
       "3       A110      7.2  transparent          False   8.99"
      ]
     },
     "metadata": {},
     "output_type": "display_data"
    },
    {
     "data": {
      "text/plain": [
       "---"
      ]
     },
     "metadata": {},
     "output_type": "display_data"
    }
   ],
   "source": [
    "df2_new ##:"
   ]
  },
  {
   "cell_type": "markdown",
   "id": "66b46dd8",
   "metadata": {},
   "source": [
    "### Auf Inhalte zugreifen"
   ]
  },
  {
   "cell_type": "code",
   "execution_count": 79,
   "id": "d5bfa988",
   "metadata": {},
   "outputs": [
    {
     "data": {
      "text/plain": [
       "(df2['Preis']) := A107    8.99\n",
       "A108    8.99\n",
       "A109    8.99\n",
       "A110    8.99\n",
       "Name: Preis, dtype: float64"
      ]
     },
     "metadata": {},
     "output_type": "display_data"
    },
    {
     "data": {
      "text/plain": [
       "---"
      ]
     },
     "metadata": {},
     "output_type": "display_data"
    }
   ],
   "source": [
    "# eine Spalte auswählen (-> pd.Series)\n",
    "df2['Preis'] ##:\n",
    "\n"
   ]
  },
  {
   "cell_type": "code",
   "execution_count": 80,
   "id": "28620272",
   "metadata": {},
   "outputs": [
    {
     "data": {
      "text/plain": [
       "A107    8.99\n",
       "A108    8.99\n",
       "A109    8.99\n",
       "A110    8.99\n",
       "Name: Preis, dtype: float64"
      ]
     },
     "execution_count": 80,
     "metadata": {},
     "output_type": "execute_result"
    }
   ],
   "source": [
    "df2.Preis # äquivalent (wenn möglich)"
   ]
  },
  {
   "cell_type": "code",
   "execution_count": 81,
   "id": "294750f0",
   "metadata": {},
   "outputs": [
    {
     "data": {
      "text/plain": [
       "Gewicht           5.0\n",
       "Farbe            grün\n",
       "Verfügbarkeit    True\n",
       "Preis            8.99\n",
       "Name: A108, dtype: object"
      ]
     },
     "execution_count": 81,
     "metadata": {},
     "output_type": "execute_result"
    }
   ],
   "source": [
    "\n",
    "# eine Zeile über Index-Wert auswählen\n",
    "df2.loc[\"A108\"]"
   ]
  },
  {
   "cell_type": "code",
   "execution_count": 82,
   "id": "2d59aa18",
   "metadata": {},
   "outputs": [
    {
     "data": {
      "text/html": [
       "<div>\n",
       "<style scoped>\n",
       "    .dataframe tbody tr th:only-of-type {\n",
       "        vertical-align: middle;\n",
       "    }\n",
       "\n",
       "    .dataframe tbody tr th {\n",
       "        vertical-align: top;\n",
       "    }\n",
       "\n",
       "    .dataframe thead th {\n",
       "        text-align: right;\n",
       "    }\n",
       "</style>\n",
       "<table border=\"1\" class=\"dataframe\">\n",
       "  <thead>\n",
       "    <tr style=\"text-align: right;\">\n",
       "      <th></th>\n",
       "      <th>Gewicht</th>\n",
       "      <th>Farbe</th>\n",
       "    </tr>\n",
       "  </thead>\n",
       "  <tbody>\n",
       "    <tr>\n",
       "      <th>A108</th>\n",
       "      <td>5.0</td>\n",
       "      <td>grün</td>\n",
       "    </tr>\n",
       "    <tr>\n",
       "      <th>A109</th>\n",
       "      <td>8.3</td>\n",
       "      <td>blau</td>\n",
       "    </tr>\n",
       "  </tbody>\n",
       "</table>\n",
       "</div>"
      ],
      "text/plain": [
       "      Gewicht Farbe\n",
       "A108      5.0  grün\n",
       "A109      8.3  blau"
      ]
     },
     "execution_count": 82,
     "metadata": {},
     "output_type": "execute_result"
    }
   ],
   "source": [
    "# mehrere Zeilen, mehrere Spalten ( -> pd.DataFrame)\n",
    "df2.loc[\"A108\":\"A109\", [\"Gewicht\",\"Farbe\"]]\n"
   ]
  },
  {
   "cell_type": "code",
   "execution_count": 83,
   "id": "7f22c689",
   "metadata": {},
   "outputs": [
    {
     "data": {
      "text/html": [
       "<div>\n",
       "<style scoped>\n",
       "    .dataframe tbody tr th:only-of-type {\n",
       "        vertical-align: middle;\n",
       "    }\n",
       "\n",
       "    .dataframe tbody tr th {\n",
       "        vertical-align: top;\n",
       "    }\n",
       "\n",
       "    .dataframe thead th {\n",
       "        text-align: right;\n",
       "    }\n",
       "</style>\n",
       "<table border=\"1\" class=\"dataframe\">\n",
       "  <thead>\n",
       "    <tr style=\"text-align: right;\">\n",
       "      <th></th>\n",
       "      <th>Gewicht</th>\n",
       "      <th>Preis</th>\n",
       "    </tr>\n",
       "  </thead>\n",
       "  <tbody>\n",
       "    <tr>\n",
       "      <th>A107</th>\n",
       "      <td>10.1</td>\n",
       "      <td>8.99</td>\n",
       "    </tr>\n",
       "    <tr>\n",
       "      <th>A108</th>\n",
       "      <td>5.0</td>\n",
       "      <td>8.99</td>\n",
       "    </tr>\n",
       "  </tbody>\n",
       "</table>\n",
       "</div>"
      ],
      "text/plain": [
       "      Gewicht  Preis\n",
       "A107     10.1   8.99\n",
       "A108      5.0   8.99"
      ]
     },
     "execution_count": 83,
     "metadata": {},
     "output_type": "execute_result"
    }
   ],
   "source": [
    "\n",
    "# über numerischen Index\n",
    "df2.iloc [0:2, [0, 3]]"
   ]
  },
  {
   "cell_type": "code",
   "execution_count": 85,
   "id": "be1226fb",
   "metadata": {},
   "outputs": [
    {
     "data": {
      "text/html": [
       "<div>\n",
       "<style scoped>\n",
       "    .dataframe tbody tr th:only-of-type {\n",
       "        vertical-align: middle;\n",
       "    }\n",
       "\n",
       "    .dataframe tbody tr th {\n",
       "        vertical-align: top;\n",
       "    }\n",
       "\n",
       "    .dataframe thead th {\n",
       "        text-align: right;\n",
       "    }\n",
       "</style>\n",
       "<table border=\"1\" class=\"dataframe\">\n",
       "  <thead>\n",
       "    <tr style=\"text-align: right;\">\n",
       "      <th></th>\n",
       "      <th>Gewicht</th>\n",
       "      <th>Farbe</th>\n",
       "      <th>Verfügbarkeit</th>\n",
       "      <th>Preis</th>\n",
       "    </tr>\n",
       "  </thead>\n",
       "  <tbody>\n",
       "    <tr>\n",
       "      <th>A107</th>\n",
       "      <td>10.1</td>\n",
       "      <td>rot</td>\n",
       "      <td>False</td>\n",
       "      <td>8.99</td>\n",
       "    </tr>\n",
       "    <tr>\n",
       "      <th>A108</th>\n",
       "      <td>800.2</td>\n",
       "      <td>grün</td>\n",
       "      <td>True</td>\n",
       "      <td>8.99</td>\n",
       "    </tr>\n",
       "    <tr>\n",
       "      <th>A109</th>\n",
       "      <td>8.3</td>\n",
       "      <td>blau</td>\n",
       "      <td>True</td>\n",
       "      <td>8.99</td>\n",
       "    </tr>\n",
       "    <tr>\n",
       "      <th>A110</th>\n",
       "      <td>7.2</td>\n",
       "      <td>transparent</td>\n",
       "      <td>False</td>\n",
       "      <td>8.99</td>\n",
       "    </tr>\n",
       "  </tbody>\n",
       "</table>\n",
       "</div>"
      ],
      "text/plain": [
       "(df2) :=       Gewicht        Farbe  Verfügbarkeit  Preis\n",
       "A107     10.1          rot          False   8.99\n",
       "A108    800.2         grün           True   8.99\n",
       "A109      8.3         blau           True   8.99\n",
       "A110      7.2  transparent          False   8.99"
      ]
     },
     "metadata": {},
     "output_type": "display_data"
    },
    {
     "data": {
      "text/plain": [
       "---"
      ]
     },
     "metadata": {},
     "output_type": "display_data"
    }
   ],
   "source": [
    "\n",
    "# einzelne Elemente schreiben\n",
    "df2.loc [\"A108\",\"Gewicht\"] = 1600.4 # neuen Wert zuweisen\n",
    "df2.loc [\"A108\",\"Gewicht\"] /= 2 # Wert halbieren\n",
    "\n",
    "df2 ##:"
   ]
  },
  {
   "cell_type": "code",
   "execution_count": 86,
   "id": "dcc238d6",
   "metadata": {},
   "outputs": [
    {
     "data": {
      "text/html": [
       "<div>\n",
       "<style scoped>\n",
       "    .dataframe tbody tr th:only-of-type {\n",
       "        vertical-align: middle;\n",
       "    }\n",
       "\n",
       "    .dataframe tbody tr th {\n",
       "        vertical-align: top;\n",
       "    }\n",
       "\n",
       "    .dataframe thead th {\n",
       "        text-align: right;\n",
       "    }\n",
       "</style>\n",
       "<table border=\"1\" class=\"dataframe\">\n",
       "  <thead>\n",
       "    <tr style=\"text-align: right;\">\n",
       "      <th></th>\n",
       "      <th>Gewicht</th>\n",
       "      <th>Farbe</th>\n",
       "      <th>Verfügbarkeit</th>\n",
       "      <th>Preis</th>\n",
       "    </tr>\n",
       "  </thead>\n",
       "  <tbody>\n",
       "    <tr>\n",
       "      <th>A107</th>\n",
       "      <td>10.1</td>\n",
       "      <td>rot</td>\n",
       "      <td>False</td>\n",
       "      <td>8.990</td>\n",
       "    </tr>\n",
       "    <tr>\n",
       "      <th>A108</th>\n",
       "      <td>800.2</td>\n",
       "      <td>grün</td>\n",
       "      <td>True</td>\n",
       "      <td>6.293</td>\n",
       "    </tr>\n",
       "    <tr>\n",
       "      <th>A109</th>\n",
       "      <td>8.3</td>\n",
       "      <td>blau</td>\n",
       "      <td>True</td>\n",
       "      <td>6.293</td>\n",
       "    </tr>\n",
       "    <tr>\n",
       "      <th>A110</th>\n",
       "      <td>7.2</td>\n",
       "      <td>transparent</td>\n",
       "      <td>False</td>\n",
       "      <td>8.990</td>\n",
       "    </tr>\n",
       "  </tbody>\n",
       "</table>\n",
       "</div>"
      ],
      "text/plain": [
       "(df2) :=       Gewicht        Farbe  Verfügbarkeit  Preis\n",
       "A107     10.1          rot          False  8.990\n",
       "A108    800.2         grün           True  6.293\n",
       "A109      8.3         blau           True  6.293\n",
       "A110      7.2  transparent          False  8.990"
      ]
     },
     "metadata": {},
     "output_type": "display_data"
    },
    {
     "data": {
      "text/plain": [
       "---"
      ]
     },
     "metadata": {},
     "output_type": "display_data"
    }
   ],
   "source": [
    "\n",
    "df2.loc [\"A108\":\"A109\",\"Preis\"] *= 0.7 # 30% Rabatt\n",
    "\n",
    "df2##:"
   ]
  },
  {
   "cell_type": "code",
   "execution_count": 87,
   "id": "55954131",
   "metadata": {},
   "outputs": [
    {
     "data": {
      "text/html": [
       "<div>\n",
       "<style scoped>\n",
       "    .dataframe tbody tr th:only-of-type {\n",
       "        vertical-align: middle;\n",
       "    }\n",
       "\n",
       "    .dataframe tbody tr th {\n",
       "        vertical-align: top;\n",
       "    }\n",
       "\n",
       "    .dataframe thead th {\n",
       "        text-align: right;\n",
       "    }\n",
       "</style>\n",
       "<table border=\"1\" class=\"dataframe\">\n",
       "  <thead>\n",
       "    <tr style=\"text-align: right;\">\n",
       "      <th></th>\n",
       "      <th>Gewicht</th>\n",
       "      <th>Farbe</th>\n",
       "      <th>Verfügbarkeit</th>\n",
       "      <th>Preis</th>\n",
       "      <th>Laenge</th>\n",
       "    </tr>\n",
       "  </thead>\n",
       "  <tbody>\n",
       "    <tr>\n",
       "      <th>A107</th>\n",
       "      <td>10.1</td>\n",
       "      <td>rot</td>\n",
       "      <td>False</td>\n",
       "      <td>8.990</td>\n",
       "      <td>10</td>\n",
       "    </tr>\n",
       "    <tr>\n",
       "      <th>A108</th>\n",
       "      <td>800.2</td>\n",
       "      <td>grün</td>\n",
       "      <td>True</td>\n",
       "      <td>6.293</td>\n",
       "      <td>20</td>\n",
       "    </tr>\n",
       "    <tr>\n",
       "      <th>A109</th>\n",
       "      <td>8.3</td>\n",
       "      <td>blau</td>\n",
       "      <td>True</td>\n",
       "      <td>6.293</td>\n",
       "      <td>30</td>\n",
       "    </tr>\n",
       "    <tr>\n",
       "      <th>A110</th>\n",
       "      <td>7.2</td>\n",
       "      <td>transparent</td>\n",
       "      <td>False</td>\n",
       "      <td>8.990</td>\n",
       "      <td>40</td>\n",
       "    </tr>\n",
       "  </tbody>\n",
       "</table>\n",
       "</div>"
      ],
      "text/plain": [
       "(df2) :=       Gewicht        Farbe  Verfügbarkeit  Preis  Laenge\n",
       "A107     10.1          rot          False  8.990      10\n",
       "A108    800.2         grün           True  6.293      20\n",
       "A109      8.3         blau           True  6.293      30\n",
       "A110      7.2  transparent          False  8.990      40"
      ]
     },
     "metadata": {},
     "output_type": "display_data"
    },
    {
     "data": {
      "text/plain": [
       "---"
      ]
     },
     "metadata": {},
     "output_type": "display_data"
    }
   ],
   "source": [
    "# neue Spalte\n",
    "df2 [\"Laenge\"] = [10, 20, 30, 40]\n",
    "\n",
    "df2 ##:"
   ]
  },
  {
   "cell_type": "code",
   "execution_count": 89,
   "id": "f1e37e51",
   "metadata": {},
   "outputs": [
    {
     "data": {
      "text/html": [
       "<div>\n",
       "<style scoped>\n",
       "    .dataframe tbody tr th:only-of-type {\n",
       "        vertical-align: middle;\n",
       "    }\n",
       "\n",
       "    .dataframe tbody tr th {\n",
       "        vertical-align: top;\n",
       "    }\n",
       "\n",
       "    .dataframe thead th {\n",
       "        text-align: right;\n",
       "    }\n",
       "</style>\n",
       "<table border=\"1\" class=\"dataframe\">\n",
       "  <thead>\n",
       "    <tr style=\"text-align: right;\">\n",
       "      <th></th>\n",
       "      <th>Gewicht</th>\n",
       "      <th>Farbe</th>\n",
       "      <th>Verfügbarkeit</th>\n",
       "      <th>Preis</th>\n",
       "      <th>Laenge</th>\n",
       "    </tr>\n",
       "  </thead>\n",
       "  <tbody>\n",
       "    <tr>\n",
       "      <th>A107</th>\n",
       "      <td>10.1</td>\n",
       "      <td>rot</td>\n",
       "      <td>False</td>\n",
       "      <td>8.990</td>\n",
       "      <td>10</td>\n",
       "    </tr>\n",
       "    <tr>\n",
       "      <th>A108</th>\n",
       "      <td>800.2</td>\n",
       "      <td>grün</td>\n",
       "      <td>True</td>\n",
       "      <td>6.293</td>\n",
       "      <td>20</td>\n",
       "    </tr>\n",
       "    <tr>\n",
       "      <th>A109</th>\n",
       "      <td>8.3</td>\n",
       "      <td>blau</td>\n",
       "      <td>True</td>\n",
       "      <td>6.293</td>\n",
       "      <td>30</td>\n",
       "    </tr>\n",
       "    <tr>\n",
       "      <th>A110</th>\n",
       "      <td>7.2</td>\n",
       "      <td>transparent</td>\n",
       "      <td>False</td>\n",
       "      <td>8.990</td>\n",
       "      <td>40</td>\n",
       "    </tr>\n",
       "    <tr>\n",
       "      <th>X400</th>\n",
       "      <td>15.0</td>\n",
       "      <td>lila</td>\n",
       "      <td>True</td>\n",
       "      <td>25.000</td>\n",
       "      <td>50</td>\n",
       "    </tr>\n",
       "  </tbody>\n",
       "</table>\n",
       "</div>"
      ],
      "text/plain": [
       "(df2) :=       Gewicht        Farbe  Verfügbarkeit   Preis  Laenge\n",
       "A107     10.1          rot          False   8.990      10\n",
       "A108    800.2         grün           True   6.293      20\n",
       "A109      8.3         blau           True   6.293      30\n",
       "A110      7.2  transparent          False   8.990      40\n",
       "X400     15.0         lila           True  25.000      50"
      ]
     },
     "metadata": {},
     "output_type": "display_data"
    },
    {
     "data": {
      "text/plain": [
       "---"
      ]
     },
     "metadata": {},
     "output_type": "display_data"
    }
   ],
   "source": [
    "\n",
    "# neue Zeile\n",
    "df2.loc [\"X400\"] = [15, \"lila\", True, 25.00, 50]\n",
    "\n",
    "df2 ##:"
   ]
  },
  {
   "cell_type": "code",
   "execution_count": 93,
   "id": "13639b44",
   "metadata": {},
   "outputs": [
    {
     "data": {
      "text/plain": [
       "(type(tmp_df)) := pandas.core.series.Series"
      ]
     },
     "metadata": {},
     "output_type": "display_data"
    },
    {
     "data": {
      "text/plain": [
       "---"
      ]
     },
     "metadata": {},
     "output_type": "display_data"
    },
    {
     "data": {
      "text/plain": [
       "(tmp_df) := A107     True\n",
       "A108     True\n",
       "A109    False\n",
       "A110    False\n",
       "X400     True\n",
       "Name: Gewicht, dtype: bool"
      ]
     },
     "metadata": {},
     "output_type": "display_data"
    },
    {
     "data": {
      "text/plain": [
       "---"
      ]
     },
     "metadata": {},
     "output_type": "display_data"
    }
   ],
   "source": [
    "\n",
    "# Series - Objekt mit bool - Einträgen erzeugen\n",
    "tmp_df = df2.Gewicht > 10\n",
    "\n",
    "\n",
    "type(tmp_df) ##:\n",
    "tmp_df ##:\n"
   ]
  },
  {
   "cell_type": "code",
   "execution_count": 94,
   "id": "f39caa7e",
   "metadata": {},
   "outputs": [
    {
     "data": {
      "text/html": [
       "<div>\n",
       "<style scoped>\n",
       "    .dataframe tbody tr th:only-of-type {\n",
       "        vertical-align: middle;\n",
       "    }\n",
       "\n",
       "    .dataframe tbody tr th {\n",
       "        vertical-align: top;\n",
       "    }\n",
       "\n",
       "    .dataframe thead th {\n",
       "        text-align: right;\n",
       "    }\n",
       "</style>\n",
       "<table border=\"1\" class=\"dataframe\">\n",
       "  <thead>\n",
       "    <tr style=\"text-align: right;\">\n",
       "      <th></th>\n",
       "      <th>Gewicht</th>\n",
       "      <th>Farbe</th>\n",
       "      <th>Verfügbarkeit</th>\n",
       "      <th>Preis</th>\n",
       "      <th>Laenge</th>\n",
       "    </tr>\n",
       "  </thead>\n",
       "  <tbody>\n",
       "    <tr>\n",
       "      <th>A107</th>\n",
       "      <td>10.1</td>\n",
       "      <td>rot</td>\n",
       "      <td>False</td>\n",
       "      <td>8.990</td>\n",
       "      <td>10</td>\n",
       "    </tr>\n",
       "    <tr>\n",
       "      <th>A108</th>\n",
       "      <td>800.2</td>\n",
       "      <td>grün</td>\n",
       "      <td>True</td>\n",
       "      <td>6.293</td>\n",
       "      <td>20</td>\n",
       "    </tr>\n",
       "    <tr>\n",
       "      <th>X400</th>\n",
       "      <td>15.0</td>\n",
       "      <td>lila</td>\n",
       "      <td>True</td>\n",
       "      <td>25.000</td>\n",
       "      <td>50</td>\n",
       "    </tr>\n",
       "  </tbody>\n",
       "</table>\n",
       "</div>"
      ],
      "text/plain": [
       "      Gewicht Farbe  Verfügbarkeit   Preis  Laenge\n",
       "A107     10.1   rot          False   8.990      10\n",
       "A108    800.2  grün           True   6.293      20\n",
       "X400     15.0  lila           True  25.000      50"
      ]
     },
     "execution_count": 94,
     "metadata": {},
     "output_type": "execute_result"
    }
   ],
   "source": [
    "# diese bool - Datenreihe zur Indizierung nutzen\n",
    "df2[ tmp_df ]"
   ]
  },
  {
   "cell_type": "code",
   "execution_count": 95,
   "id": "d9e7c566",
   "metadata": {},
   "outputs": [
    {
     "data": {
      "text/html": [
       "<div>\n",
       "<style scoped>\n",
       "    .dataframe tbody tr th:only-of-type {\n",
       "        vertical-align: middle;\n",
       "    }\n",
       "\n",
       "    .dataframe tbody tr th {\n",
       "        vertical-align: top;\n",
       "    }\n",
       "\n",
       "    .dataframe thead th {\n",
       "        text-align: right;\n",
       "    }\n",
       "</style>\n",
       "<table border=\"1\" class=\"dataframe\">\n",
       "  <thead>\n",
       "    <tr style=\"text-align: right;\">\n",
       "      <th></th>\n",
       "      <th>Gewicht</th>\n",
       "      <th>Farbe</th>\n",
       "      <th>Verfügbarkeit</th>\n",
       "      <th>Preis</th>\n",
       "      <th>Laenge</th>\n",
       "    </tr>\n",
       "  </thead>\n",
       "  <tbody>\n",
       "    <tr>\n",
       "      <th>A107</th>\n",
       "      <td>10.1</td>\n",
       "      <td>rot</td>\n",
       "      <td>False</td>\n",
       "      <td>8.990</td>\n",
       "      <td>10</td>\n",
       "    </tr>\n",
       "    <tr>\n",
       "      <th>A108</th>\n",
       "      <td>800.2</td>\n",
       "      <td>grün</td>\n",
       "      <td>True</td>\n",
       "      <td>6.293</td>\n",
       "      <td>20</td>\n",
       "    </tr>\n",
       "    <tr>\n",
       "      <th>A109</th>\n",
       "      <td>8.3</td>\n",
       "      <td>blau</td>\n",
       "      <td>True</td>\n",
       "      <td>6.293</td>\n",
       "      <td>30</td>\n",
       "    </tr>\n",
       "    <tr>\n",
       "      <th>X400</th>\n",
       "      <td>15.0</td>\n",
       "      <td>lila</td>\n",
       "      <td>True</td>\n",
       "      <td>25.000</td>\n",
       "      <td>50</td>\n",
       "    </tr>\n",
       "  </tbody>\n",
       "</table>\n",
       "</div>"
      ],
      "text/plain": [
       "      Gewicht Farbe  Verfügbarkeit   Preis  Laenge\n",
       "A107     10.1   rot          False   8.990      10\n",
       "A108    800.2  grün           True   6.293      20\n",
       "A109      8.3  blau           True   6.293      30\n",
       "X400     15.0  lila           True  25.000      50"
      ]
     },
     "execution_count": 95,
     "metadata": {},
     "output_type": "execute_result"
    }
   ],
   "source": [
    "\n",
    "# das ganze in einem Schritt :\n",
    "df2 [ df2.Gewicht > 8]"
   ]
  },
  {
   "cell_type": "code",
   "execution_count": 97,
   "id": "0887d45f",
   "metadata": {},
   "outputs": [],
   "source": [
    "\n",
    "\n",
    "\n",
    "df2 [\"Laenge2\"] = [10, 20, 30, 40, 123]\n"
   ]
  },
  {
   "cell_type": "code",
   "execution_count": 98,
   "id": "3c973d7c",
   "metadata": {},
   "outputs": [
    {
     "data": {
      "text/html": [
       "<div>\n",
       "<style scoped>\n",
       "    .dataframe tbody tr th:only-of-type {\n",
       "        vertical-align: middle;\n",
       "    }\n",
       "\n",
       "    .dataframe tbody tr th {\n",
       "        vertical-align: top;\n",
       "    }\n",
       "\n",
       "    .dataframe thead th {\n",
       "        text-align: right;\n",
       "    }\n",
       "</style>\n",
       "<table border=\"1\" class=\"dataframe\">\n",
       "  <thead>\n",
       "    <tr style=\"text-align: right;\">\n",
       "      <th></th>\n",
       "      <th>Gewicht</th>\n",
       "      <th>Farbe</th>\n",
       "      <th>Verfügbarkeit</th>\n",
       "      <th>Preis</th>\n",
       "      <th>Laenge</th>\n",
       "      <th>Laenge2</th>\n",
       "    </tr>\n",
       "  </thead>\n",
       "  <tbody>\n",
       "    <tr>\n",
       "      <th>A107</th>\n",
       "      <td>10.1</td>\n",
       "      <td>rot</td>\n",
       "      <td>False</td>\n",
       "      <td>8.990</td>\n",
       "      <td>10</td>\n",
       "      <td>10</td>\n",
       "    </tr>\n",
       "    <tr>\n",
       "      <th>A108</th>\n",
       "      <td>800.2</td>\n",
       "      <td>grün</td>\n",
       "      <td>True</td>\n",
       "      <td>6.293</td>\n",
       "      <td>20</td>\n",
       "      <td>20</td>\n",
       "    </tr>\n",
       "    <tr>\n",
       "      <th>A109</th>\n",
       "      <td>8.3</td>\n",
       "      <td>blau</td>\n",
       "      <td>True</td>\n",
       "      <td>6.293</td>\n",
       "      <td>30</td>\n",
       "      <td>30</td>\n",
       "    </tr>\n",
       "    <tr>\n",
       "      <th>A110</th>\n",
       "      <td>7.2</td>\n",
       "      <td>transparent</td>\n",
       "      <td>False</td>\n",
       "      <td>8.990</td>\n",
       "      <td>40</td>\n",
       "      <td>40</td>\n",
       "    </tr>\n",
       "    <tr>\n",
       "      <th>X400</th>\n",
       "      <td>15.0</td>\n",
       "      <td>lila</td>\n",
       "      <td>True</td>\n",
       "      <td>25.000</td>\n",
       "      <td>50</td>\n",
       "      <td>123</td>\n",
       "    </tr>\n",
       "  </tbody>\n",
       "</table>\n",
       "</div>"
      ],
      "text/plain": [
       "(df2) :=       Gewicht        Farbe  Verfügbarkeit   Preis  Laenge  Laenge2\n",
       "A107     10.1          rot          False   8.990      10       10\n",
       "A108    800.2         grün           True   6.293      20       20\n",
       "A109      8.3         blau           True   6.293      30       30\n",
       "A110      7.2  transparent          False   8.990      40       40\n",
       "X400     15.0         lila           True  25.000      50      123"
      ]
     },
     "metadata": {},
     "output_type": "display_data"
    },
    {
     "data": {
      "text/plain": [
       "---"
      ]
     },
     "metadata": {},
     "output_type": "display_data"
    }
   ],
   "source": [
    "df2 ##:"
   ]
  },
  {
   "cell_type": "markdown",
   "id": "1e94dba8",
   "metadata": {},
   "source": [
    "### Funktionen anwenden"
   ]
  },
  {
   "cell_type": "code",
   "execution_count": 102,
   "id": "7c7a1e52",
   "metadata": {},
   "outputs": [
    {
     "data": {
      "text/html": [
       "<div>\n",
       "<style scoped>\n",
       "    .dataframe tbody tr th:only-of-type {\n",
       "        vertical-align: middle;\n",
       "    }\n",
       "\n",
       "    .dataframe tbody tr th {\n",
       "        vertical-align: top;\n",
       "    }\n",
       "\n",
       "    .dataframe thead th {\n",
       "        text-align: right;\n",
       "    }\n",
       "</style>\n",
       "<table border=\"1\" class=\"dataframe\">\n",
       "  <thead>\n",
       "    <tr style=\"text-align: right;\">\n",
       "      <th></th>\n",
       "      <th>Gewicht</th>\n",
       "      <th>Preis</th>\n",
       "      <th>Laenge</th>\n",
       "      <th>Laenge2</th>\n",
       "    </tr>\n",
       "  </thead>\n",
       "  <tbody>\n",
       "    <tr>\n",
       "      <th>count</th>\n",
       "      <td>5.000000</td>\n",
       "      <td>5.00000</td>\n",
       "      <td>5.000000</td>\n",
       "      <td>5.000000</td>\n",
       "    </tr>\n",
       "    <tr>\n",
       "      <th>mean</th>\n",
       "      <td>168.160000</td>\n",
       "      <td>11.11320</td>\n",
       "      <td>30.000000</td>\n",
       "      <td>44.600000</td>\n",
       "    </tr>\n",
       "    <tr>\n",
       "      <th>std</th>\n",
       "      <td>353.333713</td>\n",
       "      <td>7.87921</td>\n",
       "      <td>15.811388</td>\n",
       "      <td>45.230521</td>\n",
       "    </tr>\n",
       "    <tr>\n",
       "      <th>min</th>\n",
       "      <td>7.200000</td>\n",
       "      <td>6.29300</td>\n",
       "      <td>10.000000</td>\n",
       "      <td>10.000000</td>\n",
       "    </tr>\n",
       "    <tr>\n",
       "      <th>25%</th>\n",
       "      <td>8.300000</td>\n",
       "      <td>6.29300</td>\n",
       "      <td>20.000000</td>\n",
       "      <td>20.000000</td>\n",
       "    </tr>\n",
       "    <tr>\n",
       "      <th>50%</th>\n",
       "      <td>10.100000</td>\n",
       "      <td>8.99000</td>\n",
       "      <td>30.000000</td>\n",
       "      <td>30.000000</td>\n",
       "    </tr>\n",
       "    <tr>\n",
       "      <th>75%</th>\n",
       "      <td>15.000000</td>\n",
       "      <td>8.99000</td>\n",
       "      <td>40.000000</td>\n",
       "      <td>40.000000</td>\n",
       "    </tr>\n",
       "    <tr>\n",
       "      <th>max</th>\n",
       "      <td>800.200000</td>\n",
       "      <td>25.00000</td>\n",
       "      <td>50.000000</td>\n",
       "      <td>123.000000</td>\n",
       "    </tr>\n",
       "  </tbody>\n",
       "</table>\n",
       "</div>"
      ],
      "text/plain": [
       "q2 :=           Gewicht     Preis     Laenge     Laenge2\n",
       "count    5.000000   5.00000   5.000000    5.000000\n",
       "mean   168.160000  11.11320  30.000000   44.600000\n",
       "std    353.333713   7.87921  15.811388   45.230521\n",
       "min      7.200000   6.29300  10.000000   10.000000\n",
       "25%      8.300000   6.29300  20.000000   20.000000\n",
       "50%     10.100000   8.99000  30.000000   30.000000\n",
       "75%     15.000000   8.99000  40.000000   40.000000\n",
       "max    800.200000  25.00000  50.000000  123.000000"
      ]
     },
     "metadata": {},
     "output_type": "display_data"
    },
    {
     "data": {
      "text/plain": [
       "---"
      ]
     },
     "metadata": {},
     "output_type": "display_data"
    }
   ],
   "source": [
    "# statistische Beschreibung aller numerischen Spalten\n",
    "q2 = df2.describe() ##:"
   ]
  },
  {
   "cell_type": "code",
   "execution_count": 103,
   "id": "1747b46d",
   "metadata": {},
   "outputs": [
    {
     "data": {
      "text/plain": [
       "11.1132"
      ]
     },
     "execution_count": 103,
     "metadata": {},
     "output_type": "execute_result"
    }
   ],
   "source": [
    "\n",
    "df2.Preis.mean()"
   ]
  },
  {
   "cell_type": "code",
   "execution_count": 105,
   "id": "7ee91ad7",
   "metadata": {},
   "outputs": [
    {
     "data": {
      "text/html": [
       "<div>\n",
       "<style scoped>\n",
       "    .dataframe tbody tr th:only-of-type {\n",
       "        vertical-align: middle;\n",
       "    }\n",
       "\n",
       "    .dataframe tbody tr th {\n",
       "        vertical-align: top;\n",
       "    }\n",
       "\n",
       "    .dataframe thead th {\n",
       "        text-align: right;\n",
       "    }\n",
       "</style>\n",
       "<table border=\"1\" class=\"dataframe\">\n",
       "  <thead>\n",
       "    <tr style=\"text-align: right;\">\n",
       "      <th></th>\n",
       "      <th>Gewicht</th>\n",
       "      <th>Farbe</th>\n",
       "      <th>Verfügbarkeit</th>\n",
       "      <th>Preis</th>\n",
       "      <th>Laenge</th>\n",
       "      <th>Laenge2</th>\n",
       "    </tr>\n",
       "  </thead>\n",
       "  <tbody>\n",
       "    <tr>\n",
       "      <th>A107</th>\n",
       "      <td>10.1</td>\n",
       "      <td>rot</td>\n",
       "      <td>False</td>\n",
       "      <td>8.990</td>\n",
       "      <td>10</td>\n",
       "      <td>10</td>\n",
       "    </tr>\n",
       "    <tr>\n",
       "      <th>A108</th>\n",
       "      <td>800.2</td>\n",
       "      <td>grün</td>\n",
       "      <td>True</td>\n",
       "      <td>6.293</td>\n",
       "      <td>20</td>\n",
       "      <td>20</td>\n",
       "    </tr>\n",
       "    <tr>\n",
       "      <th>A109</th>\n",
       "      <td>8.3</td>\n",
       "      <td>blau</td>\n",
       "      <td>True</td>\n",
       "      <td>6.293</td>\n",
       "      <td>30</td>\n",
       "      <td>30</td>\n",
       "    </tr>\n",
       "    <tr>\n",
       "      <th>A110</th>\n",
       "      <td>7.2</td>\n",
       "      <td>transparent</td>\n",
       "      <td>False</td>\n",
       "      <td>8.990</td>\n",
       "      <td>40</td>\n",
       "      <td>40</td>\n",
       "    </tr>\n",
       "    <tr>\n",
       "      <th>X400</th>\n",
       "      <td>15.0</td>\n",
       "      <td>lila</td>\n",
       "      <td>True</td>\n",
       "      <td>25.000</td>\n",
       "      <td>50</td>\n",
       "      <td>123</td>\n",
       "    </tr>\n",
       "  </tbody>\n",
       "</table>\n",
       "</div>"
      ],
      "text/plain": [
       "      Gewicht        Farbe  Verfügbarkeit   Preis  Laenge  Laenge2\n",
       "A107     10.1          rot          False   8.990      10       10\n",
       "A108    800.2         grün           True   6.293      20       20\n",
       "A109      8.3         blau           True   6.293      30       30\n",
       "A110      7.2  transparent          False   8.990      40       40\n",
       "X400     15.0         lila           True  25.000      50      123"
      ]
     },
     "execution_count": 105,
     "metadata": {},
     "output_type": "execute_result"
    }
   ],
   "source": [
    "df2"
   ]
  },
  {
   "cell_type": "code",
   "execution_count": 106,
   "id": "a7352d9d",
   "metadata": {},
   "outputs": [
    {
     "data": {
      "text/plain": [
       "11.644"
      ]
     },
     "execution_count": 106,
     "metadata": {},
     "output_type": "execute_result"
    }
   ],
   "source": [
    "# kombinieren mit boolscher Indizierung:\n",
    "df2 [df2.Gewicht > 8].Preis.mean()"
   ]
  },
  {
   "cell_type": "code",
   "execution_count": 107,
   "id": "7a011913",
   "metadata": {},
   "outputs": [
    {
     "data": {
      "text/html": [
       "<div>\n",
       "<style scoped>\n",
       "    .dataframe tbody tr th:only-of-type {\n",
       "        vertical-align: middle;\n",
       "    }\n",
       "\n",
       "    .dataframe tbody tr th {\n",
       "        vertical-align: top;\n",
       "    }\n",
       "\n",
       "    .dataframe thead th {\n",
       "        text-align: right;\n",
       "    }\n",
       "</style>\n",
       "<table border=\"1\" class=\"dataframe\">\n",
       "  <thead>\n",
       "    <tr style=\"text-align: right;\">\n",
       "      <th></th>\n",
       "      <th>Gewicht</th>\n",
       "      <th>Farbe</th>\n",
       "      <th>Verfügbarkeit</th>\n",
       "      <th>Preis</th>\n",
       "      <th>Laenge</th>\n",
       "      <th>Laenge2</th>\n",
       "    </tr>\n",
       "  </thead>\n",
       "  <tbody>\n",
       "    <tr>\n",
       "      <th>A107</th>\n",
       "      <td>10.1</td>\n",
       "      <td>rot</td>\n",
       "      <td>0</td>\n",
       "      <td>8.990</td>\n",
       "      <td>10</td>\n",
       "      <td>10</td>\n",
       "    </tr>\n",
       "    <tr>\n",
       "      <th>A108</th>\n",
       "      <td>810.3</td>\n",
       "      <td>rotgrün</td>\n",
       "      <td>1</td>\n",
       "      <td>15.283</td>\n",
       "      <td>30</td>\n",
       "      <td>30</td>\n",
       "    </tr>\n",
       "    <tr>\n",
       "      <th>A109</th>\n",
       "      <td>818.6</td>\n",
       "      <td>rotgrünblau</td>\n",
       "      <td>2</td>\n",
       "      <td>21.576</td>\n",
       "      <td>60</td>\n",
       "      <td>60</td>\n",
       "    </tr>\n",
       "    <tr>\n",
       "      <th>A110</th>\n",
       "      <td>825.8</td>\n",
       "      <td>rotgrünblautransparent</td>\n",
       "      <td>2</td>\n",
       "      <td>30.566</td>\n",
       "      <td>100</td>\n",
       "      <td>100</td>\n",
       "    </tr>\n",
       "    <tr>\n",
       "      <th>X400</th>\n",
       "      <td>840.8</td>\n",
       "      <td>rotgrünblautransparentlila</td>\n",
       "      <td>3</td>\n",
       "      <td>55.566</td>\n",
       "      <td>150</td>\n",
       "      <td>223</td>\n",
       "    </tr>\n",
       "  </tbody>\n",
       "</table>\n",
       "</div>"
      ],
      "text/plain": [
       "      Gewicht                       Farbe  Verfügbarkeit   Preis  Laenge  \\\n",
       "A107     10.1                         rot              0   8.990      10   \n",
       "A108    810.3                     rotgrün              1  15.283      30   \n",
       "A109    818.6                 rotgrünblau              2  21.576      60   \n",
       "A110    825.8      rotgrünblautransparent              2  30.566     100   \n",
       "X400    840.8  rotgrünblautransparentlila              3  55.566     150   \n",
       "\n",
       "      Laenge2  \n",
       "A107       10  \n",
       "A108       30  \n",
       "A109       60  \n",
       "A110      100  \n",
       "X400      223  "
      ]
     },
     "execution_count": 107,
     "metadata": {},
     "output_type": "execute_result"
    }
   ],
   "source": [
    "# Funktion auf jede Spalten anwenden\n",
    "# (Kummulative Summer inhaltlich hier nicht sinnvoll - egal)\n",
    "df2.apply(np.cumsum )"
   ]
  },
  {
   "cell_type": "code",
   "execution_count": 108,
   "id": "9b60b527",
   "metadata": {},
   "outputs": [
    {
     "data": {
      "text/html": [
       "<div>\n",
       "<style scoped>\n",
       "    .dataframe tbody tr th:only-of-type {\n",
       "        vertical-align: middle;\n",
       "    }\n",
       "\n",
       "    .dataframe tbody tr th {\n",
       "        vertical-align: top;\n",
       "    }\n",
       "\n",
       "    .dataframe thead th {\n",
       "        text-align: right;\n",
       "    }\n",
       "</style>\n",
       "<table border=\"1\" class=\"dataframe\">\n",
       "  <thead>\n",
       "    <tr style=\"text-align: right;\">\n",
       "      <th></th>\n",
       "      <th>Preis</th>\n",
       "      <th>Gewicht</th>\n",
       "    </tr>\n",
       "  </thead>\n",
       "  <tbody>\n",
       "    <tr>\n",
       "      <th>0</th>\n",
       "      <td>-2.697</td>\n",
       "      <td>790.1</td>\n",
       "    </tr>\n",
       "    <tr>\n",
       "      <th>1</th>\n",
       "      <td>0.000</td>\n",
       "      <td>-791.9</td>\n",
       "    </tr>\n",
       "    <tr>\n",
       "      <th>2</th>\n",
       "      <td>2.697</td>\n",
       "      <td>-1.1</td>\n",
       "    </tr>\n",
       "    <tr>\n",
       "      <th>3</th>\n",
       "      <td>16.010</td>\n",
       "      <td>7.8</td>\n",
       "    </tr>\n",
       "  </tbody>\n",
       "</table>\n",
       "</div>"
      ],
      "text/plain": [
       "    Preis  Gewicht\n",
       "0  -2.697    790.1\n",
       "1   0.000   -791.9\n",
       "2   2.697     -1.1\n",
       "3  16.010      7.8"
      ]
     },
     "execution_count": 108,
     "metadata": {},
     "output_type": "execute_result"
    }
   ],
   "source": [
    "\n",
    "df2 [[\"Preis\", \"Gewicht\"]].apply(np.diff)"
   ]
  },
  {
   "cell_type": "code",
   "execution_count": null,
   "id": "67583ab3",
   "metadata": {},
   "outputs": [],
   "source": [
    "\n",
    "\n",
    "df2.Gewicht.median()\n",
    "df2.Gewicht.max()\n",
    "\n",
    "\n",
    "\n"
   ]
  },
  {
   "cell_type": "code",
   "execution_count": 111,
   "id": "d2bfdb28",
   "metadata": {},
   "outputs": [],
   "source": [
    "df2.loc[\"A108\", \"Gewicht\"] = float(\"nan\")"
   ]
  },
  {
   "cell_type": "code",
   "execution_count": 112,
   "id": "f29e812c",
   "metadata": {},
   "outputs": [
    {
     "data": {
      "text/html": [
       "<div>\n",
       "<style scoped>\n",
       "    .dataframe tbody tr th:only-of-type {\n",
       "        vertical-align: middle;\n",
       "    }\n",
       "\n",
       "    .dataframe tbody tr th {\n",
       "        vertical-align: top;\n",
       "    }\n",
       "\n",
       "    .dataframe thead th {\n",
       "        text-align: right;\n",
       "    }\n",
       "</style>\n",
       "<table border=\"1\" class=\"dataframe\">\n",
       "  <thead>\n",
       "    <tr style=\"text-align: right;\">\n",
       "      <th></th>\n",
       "      <th>Gewicht</th>\n",
       "      <th>Farbe</th>\n",
       "      <th>Verfügbarkeit</th>\n",
       "      <th>Preis</th>\n",
       "      <th>Laenge</th>\n",
       "      <th>Laenge2</th>\n",
       "    </tr>\n",
       "  </thead>\n",
       "  <tbody>\n",
       "    <tr>\n",
       "      <th>A107</th>\n",
       "      <td>10.1</td>\n",
       "      <td>rot</td>\n",
       "      <td>False</td>\n",
       "      <td>8.990</td>\n",
       "      <td>10</td>\n",
       "      <td>10</td>\n",
       "    </tr>\n",
       "    <tr>\n",
       "      <th>A108</th>\n",
       "      <td>NaN</td>\n",
       "      <td>grün</td>\n",
       "      <td>True</td>\n",
       "      <td>6.293</td>\n",
       "      <td>20</td>\n",
       "      <td>20</td>\n",
       "    </tr>\n",
       "    <tr>\n",
       "      <th>A109</th>\n",
       "      <td>8.3</td>\n",
       "      <td>blau</td>\n",
       "      <td>True</td>\n",
       "      <td>6.293</td>\n",
       "      <td>30</td>\n",
       "      <td>30</td>\n",
       "    </tr>\n",
       "    <tr>\n",
       "      <th>A110</th>\n",
       "      <td>7.2</td>\n",
       "      <td>transparent</td>\n",
       "      <td>False</td>\n",
       "      <td>8.990</td>\n",
       "      <td>40</td>\n",
       "      <td>40</td>\n",
       "    </tr>\n",
       "    <tr>\n",
       "      <th>X400</th>\n",
       "      <td>15.0</td>\n",
       "      <td>lila</td>\n",
       "      <td>True</td>\n",
       "      <td>25.000</td>\n",
       "      <td>50</td>\n",
       "      <td>123</td>\n",
       "    </tr>\n",
       "  </tbody>\n",
       "</table>\n",
       "</div>"
      ],
      "text/plain": [
       "      Gewicht        Farbe  Verfügbarkeit   Preis  Laenge  Laenge2\n",
       "A107     10.1          rot          False   8.990      10       10\n",
       "A108      NaN         grün           True   6.293      20       20\n",
       "A109      8.3         blau           True   6.293      30       30\n",
       "A110      7.2  transparent          False   8.990      40       40\n",
       "X400     15.0         lila           True  25.000      50      123"
      ]
     },
     "execution_count": 112,
     "metadata": {},
     "output_type": "execute_result"
    }
   ],
   "source": [
    "df2 "
   ]
  },
  {
   "cell_type": "code",
   "execution_count": 114,
   "id": "3aa01304",
   "metadata": {},
   "outputs": [
    {
     "data": {
      "text/plain": [
       "10.149999999999999"
      ]
     },
     "execution_count": 114,
     "metadata": {},
     "output_type": "execute_result"
    }
   ],
   "source": [
    "df2.Gewicht.mean()"
   ]
  },
  {
   "cell_type": "code",
   "execution_count": 116,
   "id": "b7321207",
   "metadata": {},
   "outputs": [],
   "source": []
  },
  {
   "cell_type": "code",
   "execution_count": null,
   "id": "0dd7bfec",
   "metadata": {},
   "outputs": [],
   "source": []
  },
  {
   "cell_type": "code",
   "execution_count": 115,
   "id": "6e2c4c3c",
   "metadata": {},
   "outputs": [
    {
     "name": "stdout",
     "output_type": "stream",
     "text": [
      "`01_live_dienstag_mittwoch_donnerstag.html` written.\n"
     ]
    }
   ],
   "source": [
    "import ipydex\n",
    "ipydex.save_current_nb_as_html()"
   ]
  },
  {
   "cell_type": "code",
   "execution_count": null,
   "id": "b927aab8",
   "metadata": {},
   "outputs": [],
   "source": []
  }
 ],
 "metadata": {
  "kernelspec": {
   "display_name": "Python 3 (ipykernel)",
   "language": "python",
   "name": "python3"
  },
  "language_info": {
   "codemirror_mode": {
    "name": "ipython",
    "version": 3
   },
   "file_extension": ".py",
   "mimetype": "text/x-python",
   "name": "python",
   "nbconvert_exporter": "python",
   "pygments_lexer": "ipython3",
   "version": "3.11.4"
  }
 },
 "nbformat": 4,
 "nbformat_minor": 5
}
