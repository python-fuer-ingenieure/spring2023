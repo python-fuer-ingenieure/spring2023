{
 "cells": [
  {
   "cell_type": "code",
   "execution_count": 1,
   "metadata": {},
   "outputs": [],
   "source": [
    "# code of sympy1.py without print-statements\n",
    "import sympy as sp\n",
    "x = sp.Symbol(\"x\")\n",
    "a, b, c, z = sp.symbols(\"a b c z\") # create several symbols at once\n",
    "\n",
    "some_formula = a*b*x*b + b**2*a*x - c*b*(2*a/c*x*b-1/(b*2))\n",
    "\n",
    "# some calculus\n",
    "y = sp.sin(x)*sp.exp(3*x)*sp.sqrt(a)\n",
    "\n",
    "# derive\n",
    "yd = y.diff(x) \n",
    "\n",
    "# substitution\n",
    "y3 = y.subs([(x, z-1), (a, 25)])"
   ]
  },
  {
   "cell_type": "markdown",
   "metadata": {},
   "source": [
    "→ no output is generated"
   ]
  },
  {
   "cell_type": "code",
   "execution_count": 2,
   "metadata": {},
   "outputs": [],
   "source": [
    "# normaly this line would be in one of the first cells\n",
    "# located here for didactical reasons\n",
    "\n",
    "%load_ext ipydex.displaytools"
   ]
  },
  {
   "cell_type": "markdown",
   "metadata": {},
   "source": [
    "This extension introduces the special comment `##:`.\n",
    "\n",
    "It serves to display the results of assignments, thereby increasing the comprehensibility of the notebook.\n",
    "\n",
    "Note the difference:"
   ]
  },
  {
   "cell_type": "code",
   "execution_count": 3,
   "metadata": {
    "scrolled": true
   },
   "outputs": [
    {
     "data": {
      "text/latex": [
       "some_formula := $\\displaystyle 2 a b^{2} x - b c \\left(\\frac{2 a b x}{c} - \\frac{1}{2 b}\\right)$"
      ],
      "text/plain": [
       "some_formula := 2*a*b**2*x - b*c*(2*a*b*x/c - 1/(2*b))"
      ]
     },
     "metadata": {},
     "output_type": "display_data"
    },
    {
     "data": {
      "text/plain": [
       "---"
      ]
     },
     "metadata": {},
     "output_type": "display_data"
    },
    {
     "data": {
      "text/latex": [
       "y := $\\displaystyle \\sqrt{a} e^{3 x} \\sin{\\left(x \\right)}$"
      ],
      "text/plain": [
       "y := sqrt(a)*exp(3*x)*sin(x)"
      ]
     },
     "metadata": {},
     "output_type": "display_data"
    },
    {
     "data": {
      "text/plain": [
       "---"
      ]
     },
     "metadata": {},
     "output_type": "display_data"
    },
    {
     "data": {
      "text/latex": [
       "yd := $\\displaystyle 3 \\sqrt{a} e^{3 x} \\sin{\\left(x \\right)} + \\sqrt{a} e^{3 x} \\cos{\\left(x \\right)}$"
      ],
      "text/plain": [
       "yd := 3*sqrt(a)*exp(3*x)*sin(x) + sqrt(a)*exp(3*x)*cos(x)"
      ]
     },
     "metadata": {},
     "output_type": "display_data"
    },
    {
     "data": {
      "text/plain": [
       "---"
      ]
     },
     "metadata": {},
     "output_type": "display_data"
    },
    {
     "data": {
      "text/latex": [
       "y3 := $\\displaystyle 5 e^{3 z - 3} \\sin{\\left(z - 1 \\right)}$"
      ],
      "text/plain": [
       "y3 := 5*exp(3*z - 3)*sin(z - 1)"
      ]
     },
     "metadata": {},
     "output_type": "display_data"
    },
    {
     "data": {
      "text/plain": [
       "---"
      ]
     },
     "metadata": {},
     "output_type": "display_data"
    }
   ],
   "source": [
    "# same code with special-comments (`##:`)\n",
    "\n",
    "x = sp.Symbol(\"x\")\n",
    "a, b, c, z = sp.symbols(\"a b c z\") # create several symbols at once\n",
    "\n",
    "some_formula = a*b*x*b + b**2*a*x - c*b*(2*a/c*x*b-1/(b*2)) ##:\n",
    "\n",
    "# some calculus\n",
    "y = sp.sin(x)*sp.exp(3*x)*sp.sqrt(a) ##:\n",
    "\n",
    "# derive\n",
    "yd = y.diff(x) ##:\n",
    "\n",
    "# substitution\n",
    "y3 = y.subs([(x, z-1), (a, 25)]) ##:"
   ]
  },
  {
   "cell_type": "markdown",
   "metadata": {},
   "source": [
    "---\n",
    "In earlier version it was necessary to actively switch on $\\LaTeX$-rendering of formulas (⇒ better readability). Here is how to turn it of (to see the difference)."
   ]
  },
  {
   "cell_type": "code",
   "execution_count": 4,
   "metadata": {},
   "outputs": [],
   "source": [
    "from sympy.interactive import printing\n",
    "printing.init_printing(0)\n"
   ]
  },
  {
   "cell_type": "code",
   "execution_count": 5,
   "metadata": {},
   "outputs": [
    {
     "data": {
      "text/plain": [
       "some_formula := 2*a*b**2*x - b*c*(2*a*b*x/c - 1/(2*b))"
      ]
     },
     "metadata": {},
     "output_type": "display_data"
    },
    {
     "data": {
      "text/plain": [
       "---"
      ]
     },
     "metadata": {},
     "output_type": "display_data"
    },
    {
     "data": {
      "text/plain": [
       "y := sqrt(a)*exp(3*x)*sin(x)"
      ]
     },
     "metadata": {},
     "output_type": "display_data"
    },
    {
     "data": {
      "text/plain": [
       "---"
      ]
     },
     "metadata": {},
     "output_type": "display_data"
    },
    {
     "data": {
      "text/plain": [
       "yd := 3*sqrt(a)*exp(3*x)*sin(x) + sqrt(a)*exp(3*x)*cos(x)"
      ]
     },
     "metadata": {},
     "output_type": "display_data"
    },
    {
     "data": {
      "text/plain": [
       "---"
      ]
     },
     "metadata": {},
     "output_type": "display_data"
    }
   ],
   "source": [
    "# same code with special-comments (`##:`)\n",
    "\n",
    "x = sp.Symbol(\"x\")\n",
    "a, b, c, z = sp.symbols(\"a b c z\") # create several symbols at once\n",
    "\n",
    "some_formula = a*b*x*b + b**2*a*x - c*b*(2*a/c*x*b-1/(b*2)) ##:\n",
    "\n",
    "# some calculus\n",
    "y = sp.sin(x)*sp.exp(3*x)*sp.sqrt(a) ##:\n",
    "\n",
    "# derive\n",
    "yd = y.diff(x) ##:\n"
   ]
  },
  {
   "cell_type": "markdown",
   "metadata": {
    "collapsed": true
   },
   "source": [
    "### Common pitfall when substituting derivatives of functions (e.g. in differential equations)"
   ]
  },
  {
   "cell_type": "code",
   "execution_count": 6,
   "metadata": {},
   "outputs": [
    {
     "data": {
      "text/plain": [
       "fd0 := f(x)"
      ]
     },
     "metadata": {},
     "output_type": "display_data"
    },
    {
     "data": {
      "text/plain": [
       "---"
      ]
     },
     "metadata": {},
     "output_type": "display_data"
    },
    {
     "data": {
      "text/plain": [
       "fd1 := Derivative(f(x), x)"
      ]
     },
     "metadata": {},
     "output_type": "display_data"
    },
    {
     "data": {
      "text/plain": [
       "---"
      ]
     },
     "metadata": {},
     "output_type": "display_data"
    },
    {
     "name": "stdout",
     "output_type": "stream",
     "text": [
      "type: <class 'sympy.core.function.Derivative'>\n",
      "args: (f(x), (x, 1))\n"
     ]
    }
   ],
   "source": [
    "# create a Function\n",
    "fd0 = sp.Function(\"f\")(x) ##:\n",
    "\n",
    "# create a derivative object\n",
    "fd1 = fd0.diff(x) ##:\n",
    "\n",
    "print(\"type:\", type(fd1))\n",
    "print(\"args:\", fd1.args)"
   ]
  },
  {
   "cell_type": "code",
   "execution_count": 7,
   "metadata": {},
   "outputs": [
    {
     "data": {
      "text/plain": [
       "my_ode := a*Derivative(f(x), x) + b*f(x)"
      ]
     },
     "metadata": {},
     "output_type": "display_data"
    },
    {
     "data": {
      "text/plain": [
       "---"
      ]
     },
     "metadata": {},
     "output_type": "display_data"
    },
    {
     "data": {
      "text/plain": [
       "rplmts_wrong_order := [(f(x), fd0), (Derivative(f(x), x), fd1)]"
      ]
     },
     "metadata": {},
     "output_type": "display_data"
    },
    {
     "data": {
      "text/plain": [
       "---"
      ]
     },
     "metadata": {},
     "output_type": "display_data"
    },
    {
     "data": {
      "text/plain": [
       "rplmts_correct_order := [(Derivative(f(x), x), fd1), (f(x), fd0)]"
      ]
     },
     "metadata": {},
     "output_type": "display_data"
    },
    {
     "data": {
      "text/plain": [
       "---"
      ]
     },
     "metadata": {},
     "output_type": "display_data"
    }
   ],
   "source": [
    "# define some differential equation\n",
    "\n",
    "my_ode = a*fd1 + b*fd0 ##:\n",
    "\n",
    "# now we want to replace the functions and the derivatives with symbols\n",
    "\n",
    "fd0s, fd1s = sp.symbols(\"fd0, fd1\")\n",
    "\n",
    "rplmts_wrong_order = [(fd0, fd0s), (fd1, fd1s)] ##:\n",
    "\n",
    "# reverse the list (slicing (indexing) from beginning to end with stepsize -1)\n",
    "rplmts_correct_order = rplmts_wrong_order[::-1] ##:\n"
   ]
  },
  {
   "cell_type": "code",
   "execution_count": 8,
   "metadata": {},
   "outputs": [
    {
     "data": {
      "text/plain": [
       "wrong_result := a*Derivative(fd0, x) + b*fd0"
      ]
     },
     "metadata": {},
     "output_type": "display_data"
    },
    {
     "data": {
      "text/plain": [
       "---"
      ]
     },
     "metadata": {},
     "output_type": "display_data"
    },
    {
     "data": {
      "text/plain": [
       "b*fd0"
      ]
     },
     "execution_count": 8,
     "metadata": {},
     "output_type": "execute_result"
    }
   ],
   "source": [
    "# this is wrong because the symbol fd0 now is inside the Derivative object\n",
    "wrong_result = my_ode.subs(rplmts_wrong_order) ##:\n",
    "\n",
    "\n",
    "# the symbol fd0 does obviously not depend on x -> evaluation of the derivative (performed by .doit()) leads to zero\n",
    "wrong_result.doit()"
   ]
  },
  {
   "cell_type": "code",
   "execution_count": 9,
   "metadata": {},
   "outputs": [
    {
     "data": {
      "text/plain": [
       "correct_result := a*fd1 + b*fd0"
      ]
     },
     "metadata": {},
     "output_type": "display_data"
    },
    {
     "data": {
      "text/plain": [
       "---"
      ]
     },
     "metadata": {},
     "output_type": "display_data"
    }
   ],
   "source": [
    "correct_result = my_ode.subs(rplmts_correct_order) ##:"
   ]
  },
  {
   "cell_type": "code",
   "execution_count": 10,
   "metadata": {},
   "outputs": [
    {
     "name": "stdout",
     "output_type": "stream",
     "text": [
      "`sympy-notebook1.html` written.\n"
     ]
    }
   ],
   "source": [
    "import ipydex\n",
    "ipydex.save_current_nb_as_html()"
   ]
  }
 ],
 "metadata": {
  "kernelspec": {
   "display_name": "Python 3 (ipykernel)",
   "language": "python",
   "name": "python3"
  },
  "language_info": {
   "codemirror_mode": {
    "name": "ipython",
    "version": 3
   },
   "file_extension": ".py",
   "mimetype": "text/x-python",
   "name": "python",
   "nbconvert_exporter": "python",
   "pygments_lexer": "ipython3",
   "version": "3.11.4"
  }
 },
 "nbformat": 4,
 "nbformat_minor": 2
}
