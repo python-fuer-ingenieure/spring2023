{
 "cells": [
  {
   "cell_type": "markdown",
   "metadata": {},
   "source": [
    "Dieses Dokument ist ein sogenanntes \"Jupyter Notebook\". Dieses Format kann Quelltexte, Programmausgaben (Text und Bilder) und *formatierte* Dokumentation in einer Datei zusammenfassen und eigenet sich deshlab besonders für Forschung, Lehre und Dokumentation.\n",
    "\n",
    "---\n",
    "\n",
    "Wichtigste Kommandos (siehe auch \"Help\" → \"Keyboard Shortcuts\"):\n",
    "\n",
    "- `Enter`: Zelle bearbeiten (\"Edit mode\", Zellernrahmen wird grün)\n",
    "- `Esc`: Befehlsmodus (\"Command mode\", Zellenrahmen wird blau)\n",
    "- `Shift+Enter`: Zelle ausführen und nächste aktivieren\n",
    "- `A`: Neue Zelle über (**a**bove) aktueller einfügen\n",
    "- `M`: Zellentyp = Markdown\n",
    "- `Y`: Zellentyp = Code\n",
    "- `H` bzw. `STRG+Shift+H`: Kurzbefehle anzeigen (siehe auch *Help*-Menü)\n",
    "\n",
    "\n"
   ]
  },
  {
   "cell_type": "markdown",
   "metadata": {},
   "source": [
    "## Pytthon Grundlagen"
   ]
  },
  {
   "cell_type": "code",
   "execution_count": 1,
   "metadata": {},
   "outputs": [],
   "source": [
    "# Freiraum zum interaktiven Ausprobieren von Python-Grundlagen"
   ]
  },
  {
   "cell_type": "code",
   "execution_count": null,
   "metadata": {},
   "outputs": [],
   "source": []
  },
  {
   "cell_type": "code",
   "execution_count": null,
   "metadata": {},
   "outputs": [],
   "source": []
  },
  {
   "cell_type": "code",
   "execution_count": null,
   "metadata": {},
   "outputs": [],
   "source": []
  },
  {
   "cell_type": "code",
   "execution_count": null,
   "metadata": {},
   "outputs": [],
   "source": []
  },
  {
   "cell_type": "code",
   "execution_count": null,
   "metadata": {},
   "outputs": [],
   "source": []
  },
  {
   "cell_type": "code",
   "execution_count": 2,
   "metadata": {},
   "outputs": [],
   "source": [
    "import numpy as np\n",
    "import sympy as sp\n",
    "from sympy.interactive import printing\n",
    "printing.init_printing()\n",
    "import matplotlib.pyplot as plt\n",
    "\n",
    "%config InteractiveShell.ast_node_interactivity='last_expr_or_assign'\n",
    "%matplotlib inline"
   ]
  },
  {
   "cell_type": "markdown",
   "metadata": {},
   "source": [
    "# Datenvisualisierung"
   ]
  },
  {
   "cell_type": "code",
   "execution_count": 3,
   "metadata": {},
   "outputs": [
    {
     "data": {
      "text/plain": [
       "[<matplotlib.lines.Line2D at 0x7fe4827a4c70>]"
      ]
     },
     "execution_count": 3,
     "metadata": {},
     "output_type": "execute_result"
    },
    {
     "data": {
      "image/png": "[encoded data removed]",
      "text/plain": [
       "<Figure size 432x288 with 1 Axes>"
      ]
     },
     "metadata": {
      "needs_background": "light"
     },
     "output_type": "display_data"
    }
   ],
   "source": [
    "# Daten erzeugen\n",
    "x = np.linspace(-3, 10, 50)\n",
    "y = -x**2\n",
    "\n",
    "# Daten plotten (blau, durchgezogene Linie, und Punktmarkierung)\n",
    "plt.plot(x, y, \"b.-\")"
   ]
  },
  {
   "cell_type": "code",
   "execution_count": 4,
   "metadata": {},
   "outputs": [
    {
     "data": {
      "image/png": "[encoded data removed]",
      "text/plain": [
       "<Figure size 432x288 with 1 Axes>"
      ]
     },
     "metadata": {
      "needs_background": "light"
     },
     "output_type": "display_data"
    }
   ],
   "source": [
    "# Weitere Daten ins gleiche Diagramm plotten\n",
    "\n",
    "# Neue daten Erzeugen\n",
    "y2 = 10*x - x**2  + 30\n",
    "\n",
    "# mit gepunkteten und gestrichtelten Linien\n",
    "plt.plot(x, y, \"b--\")\n",
    "plt.plot(x, y2, \"g:\")\n",
    "plt.grid(1)\n"
   ]
  },
  {
   "cell_type": "markdown",
   "metadata": {},
   "source": [
    "# Numerisches Rechnen (lineare Algebra)\n",
    "\n",
    "Hier wird das Modul `numpy` benuzt. Siehe oben: `import numpy as np`."
   ]
  },
  {
   "cell_type": "code",
   "execution_count": 5,
   "metadata": {},
   "outputs": [
    {
     "data": {
      "image/png": "[encoded data removed]",
      "text/latex": [
       "$\\displaystyle 6.66133814775094 \\cdot 10^{-16}$"
      ],
      "text/plain": [
       "6.66133814775094e-16"
      ]
     },
     "execution_count": 5,
     "metadata": {},
     "output_type": "execute_result"
    }
   ],
   "source": [
    "# Definieren eines 2d-Arrays (3x3-Matrix)\n",
    "M = np.array([[1, 2, 3], [4, 5, 6], [7, 8, 9.]]) ##:\n",
    "\n",
    "\n",
    "# Elementweise Rechnungen\n",
    "\n",
    "M1 = M * -10 ##:\n",
    "M2 = M + 20 ##:\n",
    "M3 = M**2 ##:\n",
    "\n",
    "\n",
    "# Determinante\n",
    "\n",
    "det_M = np.linalg.det(M) ##:"
   ]
  },
  {
   "cell_type": "code",
   "execution_count": 6,
   "metadata": {},
   "outputs": [
    {
     "data": {
      "text/plain": [
       "array([[ 1.   ,  2.   ,  3.   ],\n",
       "       [ 4.   ,  5.   , -5.123],\n",
       "       [ 7.   ,  8.   ,  9.   ]])"
      ]
     },
     "execution_count": 6,
     "metadata": {},
     "output_type": "execute_result"
    }
   ],
   "source": [
    "# Ein bestimmtes Element adressieren (Index-Zählung beginnt bei 0)\n",
    "\n",
    "M[0, 0] ##:\n",
    "M[1, 2] ##:\n",
    "\n",
    "# bestimmtes Element verändern:\n",
    "\n",
    "M[1, 2] = -5.123\n",
    "\n",
    "M ##:"
   ]
  },
  {
   "cell_type": "code",
   "execution_count": 7,
   "metadata": {},
   "outputs": [
    {
     "data": {
      "text/plain": [
       "array([[ 0.1  ,  0.4  ,  0.7  ],\n",
       "       [ 2.   ,  5.   ,  8.   ],\n",
       "       [ 3.   , -5.123,  9.   ]])"
      ]
     },
     "execution_count": 7,
     "metadata": {},
     "output_type": "execute_result"
    }
   ],
   "source": [
    "# Mehrere Elemente adressieren (\"indizieren\")\n",
    "\n",
    "# oberen zwei Elemente der \"ersten Spalete\" (Index: 0)\n",
    "M[0:2, 0:1] ##:\n",
    "\n",
    "\n",
    "# erste Spalte (Index 0) mit -1 multiplizieren\n",
    "M[:, 0]*=0.1\n",
    "\n",
    "M ##:\n",
    "\n",
    "# Matrix transponieren\n",
    "\n",
    "Q = M.T ##:\n"
   ]
  },
  {
   "cell_type": "code",
   "execution_count": 8,
   "metadata": {},
   "outputs": [
    {
     "data": {
      "text/plain": [
       "array([[ 0.99657488+0.j        , -0.23614565+0.03815468j, -0.23614565-0.03815468j],\n",
       "       [-0.08259563+0.j        ,  0.20236457-0.56853971j,  0.20236457+0.56853971j],\n",
       "       [-0.00405789+0.j        , -0.76065145+0.j        , -0.76065145-0.j        ]])"
      ]
     },
     "execution_count": 8,
     "metadata": {},
     "output_type": "execute_result"
    }
   ],
   "source": [
    "# Eigenwerte und Eigenvektoren bestimmen\n",
    "\n",
    "np.set_printoptions(linewidth=270, precision=8)\n",
    "eigvals, eigvects = np.linalg.eig(M)\n",
    "\n",
    "eigvals ##:\n",
    "eigvects ##:"
   ]
  },
  {
   "cell_type": "markdown",
   "metadata": {},
   "source": [
    "**Beobachtung**: Es resultieren 1 reeller Eigenwert und zwei komplexe (d.h. ein konjugiert komplexes Paar).\n",
    "\n",
    "Nebenbemerkung zu komplexen Zahlen: Die \"imaginäre Einheit\" $i$ bzw. in der Elektrotechnik meist $j$ ist definiert über die Gleichung\n",
    "\n",
    "$$\n",
    "j^2 = j\\cdot j= -1.\n",
    "$$\n",
    "\n",
    "Eine komplexe Zahl $z$ ist die Summe $z = a + b \\cdot j$ mit $a, b \\in \\mathbb{R}$ (reelle Zahlen). In Python schreibt man z.B. `z = -4 + 3j`."
   ]
  },
  {
   "cell_type": "code",
   "execution_count": 9,
   "metadata": {},
   "outputs": [
    {
     "data": {
      "text/plain": [
       "array([ 0.99657488+0.j, -0.08259563+0.j, -0.00405789+0.j])"
      ]
     },
     "execution_count": 9,
     "metadata": {},
     "output_type": "execute_result"
    }
   ],
   "source": [
    "# 1. Wert\n",
    "w0 = eigvals[0] ##\n",
    "\n",
    "# 1. Spalte (-> wird ein 1d-array)\n",
    "v0 = eigvects[:, 0] ##:"
   ]
  },
  {
   "cell_type": "code",
   "execution_count": 10,
   "metadata": {},
   "outputs": [
    {
     "data": {
      "text/plain": [
       "array([-0.07770743+0.j,  0.00644035+0.j,  0.00031641+0.j])"
      ]
     },
     "execution_count": 10,
     "metadata": {},
     "output_type": "execute_result"
    }
   ],
   "source": [
    "# Matrix-Vektor-Multiplikation:\n",
    "\n",
    "M@v0 ##:\n",
    "\n",
    "# Alternative Notation (rückwärtskompatibel)\n",
    "\n",
    "np.dot(M, v0) ##:\n"
   ]
  },
  {
   "cell_type": "code",
   "execution_count": 11,
   "metadata": {},
   "outputs": [
    {
     "data": {
      "text/plain": [
       "array([-5.55111512e-17+0.j, -7.89299182e-17-0.j, -1.62034015e-16-0.j])"
      ]
     },
     "execution_count": 11,
     "metadata": {},
     "output_type": "execute_result"
    }
   ],
   "source": [
    "# Prüfen, ob w0 bzw. v0 wirklich Eigenwert bzw. Eigenvektor ist von M ist\n",
    "\n",
    "w0*v0 ##:\n",
    "\n",
    "# Es kommt das gleiche Ergebnis wie oben raus (bis auf \"numerisches Rauschen\"):\n",
    "diff = w0*v0 - M@v0 ##:\n"
   ]
  },
  {
   "cell_type": "code",
   "execution_count": 12,
   "metadata": {},
   "outputs": [
    {
     "data": {
      "text/plain": [
       "array([ 0.        ,  5.94439065, -5.94439065])"
      ]
     },
     "execution_count": 12,
     "metadata": {},
     "output_type": "execute_result"
    }
   ],
   "source": [
    "# Aufspalten in Real- und Imaginärteil\n",
    "\n",
    "eigvals ##:\n",
    "\n",
    "np.real(eigvals) ##:\n",
    "np.imag(eigvals) ##:"
   ]
  },
  {
   "cell_type": "markdown",
   "metadata": {},
   "source": [
    "# Symbolisches Rechnen\n",
    "\n",
    "Hier wird das Modul `sympy` benuzt. Siehe oben: `import sympy as sp`."
   ]
  },
  {
   "cell_type": "code",
   "execution_count": 13,
   "metadata": {},
   "outputs": [
    {
     "data": {
      "image/png": "[encoded data removed]",
      "text/latex": [
       "$\\displaystyle 2 a x_{1} + x_{1}^{5} - 270 x_{1}^{2} + 4$"
      ],
      "text/plain": [
       "           5         2    \n",
       "2⋅a⋅x₁ + x₁  - 270⋅x₁  + 4"
      ]
     },
     "execution_count": 13,
     "metadata": {},
     "output_type": "execute_result"
    }
   ],
   "source": [
    "x1, x2, a = sp.symbols(\"x1, x2, a\")\n",
    "\n",
    "f = x1**5 - 270*x1**2 + 2*a*x1 + 4 ##:"
   ]
  },
  {
   "cell_type": "code",
   "execution_count": 14,
   "metadata": {},
   "outputs": [
    {
     "data": {
      "image/png": "[encoded data removed]",
      "text/latex": [
       "$\\displaystyle 2 a + 5 x_{1}^{4} - 540 x_{1}$"
      ],
      "text/plain": [
       "          4         \n",
       "2⋅a + 5⋅x₁  - 540⋅x₁"
      ]
     },
     "execution_count": 14,
     "metadata": {},
     "output_type": "execute_result"
    }
   ],
   "source": [
    "# 1. Ableitung\n",
    "df1 = f.diff(x1)"
   ]
  },
  {
   "cell_type": "code",
   "execution_count": 15,
   "metadata": {},
   "outputs": [
    {
     "data": {
      "image/png": "[encoded data removed]",
      "text/latex": [
       "$\\displaystyle 20 \\left(x_{1}^{3} - 27\\right)$"
      ],
      "text/plain": [
       "   ⎛  3     ⎞\n",
       "20⋅⎝x₁  - 27⎠"
      ]
     },
     "execution_count": 15,
     "metadata": {},
     "output_type": "execute_result"
    }
   ],
   "source": [
    "# 2. Ableitung\n",
    "f.diff(x1, 2) "
   ]
  },
  {
   "cell_type": "code",
   "execution_count": 16,
   "metadata": {},
   "outputs": [
    {
     "data": {
      "image/png": "[encoded data removed]",
      "text/latex": [
       "$\\displaystyle 20 x_{1}^{3} - 540$"
      ],
      "text/plain": [
       "     3      \n",
       "20⋅x₁  - 540"
      ]
     },
     "execution_count": 16,
     "metadata": {},
     "output_type": "execute_result"
    }
   ],
   "source": [
    "# 2. Ableitung (ausmultipliziert)\n",
    "df2 = f.diff(x1, 2) .expand()"
   ]
  },
  {
   "cell_type": "code",
   "execution_count": 17,
   "metadata": {},
   "outputs": [
    {
     "data": {
      "image/png": "[encoded data removed]",
      "text/latex": [
       "$\\displaystyle \\left[ \\left\\{ x_{1} : 3\\right\\}, \\  \\left\\{ x_{1} : - \\frac{3}{2} - \\frac{3 \\sqrt{3} i}{2}\\right\\}, \\  \\left\\{ x_{1} : - \\frac{3}{2} + \\frac{3 \\sqrt{3} i}{2}\\right\\}\\right]$"
      ],
      "text/plain": [
       "⎡         ⎧      3   3⋅√3⋅ⅈ⎫  ⎧      3   3⋅√3⋅ⅈ⎫⎤\n",
       "⎢{x₁: 3}, ⎨x₁: - ─ - ──────⎬, ⎨x₁: - ─ + ──────⎬⎥\n",
       "⎣         ⎩      2     2   ⎭  ⎩      2     2   ⎭⎦"
      ]
     },
     "execution_count": 17,
     "metadata": {},
     "output_type": "execute_result"
    }
   ],
   "source": [
    "asol  = sp.solve(df2, x1, dict=True) ##:"
   ]
  }
 ],
 "metadata": {
  "kernelspec": {
   "display_name": "Python 3 (ipykernel)",
   "language": "python",
   "name": "python3"
  },
  "language_info": {
   "codemirror_mode": {
    "name": "ipython",
    "version": 3
   },
   "file_extension": ".py",
   "mimetype": "text/x-python",
   "name": "python",
   "nbconvert_exporter": "python",
   "pygments_lexer": "ipython3",
   "version": "3.11.4"
  }
 },
 "nbformat": 4,
 "nbformat_minor": 2
}
